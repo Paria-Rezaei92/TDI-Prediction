{
  "cells": [
    {
      "cell_type": "code",
      "execution_count": 39,
      "metadata": {
        "colab": {
          "base_uri": "https://localhost:8080/"
        },
        "id": "sjipkDlGhwyZ",
        "outputId": "3e844ee7-c193-4258-eb2c-5b12d48fc248"
      },
      "outputs": [
        {
          "output_type": "stream",
          "name": "stdout",
          "text": [
            "Mounted at /content/drive\n"
          ]
        }
      ],
      "source": [
        "#Step 1\n",
        "# Mount Google Drive\n",
        "#from google.colab import drive\n",
        "#drive.mount('/content/drive')\n",
        "from google.colab import drive\n",
        "drive.mount('/content/drive', force_remount=True)\n",
        "\n",
        "\n",
        "# Import core libraries\n",
        "import pandas as pd\n",
        "import numpy as np\n",
        "import matplotlib.pyplot as plt\n",
        "import seaborn as sns\n",
        "\n",
        "# For machine learning\n",
        "from sklearn.model_selection import train_test_split\n",
        "from sklearn.preprocessing import LabelEncoder\n",
        "from sklearn.linear_model import LogisticRegression\n",
        "from sklearn.metrics import accuracy_score, confusion_matrix, classification_report\n"
      ]
    },
    {
      "cell_type": "code",
      "source": [
        "!pip install ipywidgets\n",
        "import ipywidgets as widgets\n",
        "from IPython.display import display"
      ],
      "metadata": {
        "colab": {
          "base_uri": "https://localhost:8080/"
        },
        "id": "WcoI1zzfUui3",
        "outputId": "dfee3c4e-c462-4d26-837e-d49ef0b17a80"
      },
      "execution_count": 2,
      "outputs": [
        {
          "output_type": "stream",
          "name": "stdout",
          "text": [
            "Requirement already satisfied: ipywidgets in /usr/local/lib/python3.11/dist-packages (7.7.1)\n",
            "Requirement already satisfied: ipykernel>=4.5.1 in /usr/local/lib/python3.11/dist-packages (from ipywidgets) (6.17.1)\n",
            "Requirement already satisfied: ipython-genutils~=0.2.0 in /usr/local/lib/python3.11/dist-packages (from ipywidgets) (0.2.0)\n",
            "Requirement already satisfied: traitlets>=4.3.1 in /usr/local/lib/python3.11/dist-packages (from ipywidgets) (5.7.1)\n",
            "Requirement already satisfied: widgetsnbextension~=3.6.0 in /usr/local/lib/python3.11/dist-packages (from ipywidgets) (3.6.10)\n",
            "Requirement already satisfied: ipython>=4.0.0 in /usr/local/lib/python3.11/dist-packages (from ipywidgets) (7.34.0)\n",
            "Requirement already satisfied: jupyterlab-widgets>=1.0.0 in /usr/local/lib/python3.11/dist-packages (from ipywidgets) (3.0.15)\n",
            "Requirement already satisfied: debugpy>=1.0 in /usr/local/lib/python3.11/dist-packages (from ipykernel>=4.5.1->ipywidgets) (1.8.0)\n",
            "Requirement already satisfied: jupyter-client>=6.1.12 in /usr/local/lib/python3.11/dist-packages (from ipykernel>=4.5.1->ipywidgets) (6.1.12)\n",
            "Requirement already satisfied: matplotlib-inline>=0.1 in /usr/local/lib/python3.11/dist-packages (from ipykernel>=4.5.1->ipywidgets) (0.1.7)\n",
            "Requirement already satisfied: nest-asyncio in /usr/local/lib/python3.11/dist-packages (from ipykernel>=4.5.1->ipywidgets) (1.6.0)\n",
            "Requirement already satisfied: packaging in /usr/local/lib/python3.11/dist-packages (from ipykernel>=4.5.1->ipywidgets) (24.2)\n",
            "Requirement already satisfied: psutil in /usr/local/lib/python3.11/dist-packages (from ipykernel>=4.5.1->ipywidgets) (5.9.5)\n",
            "Requirement already satisfied: pyzmq>=17 in /usr/local/lib/python3.11/dist-packages (from ipykernel>=4.5.1->ipywidgets) (24.0.1)\n",
            "Requirement already satisfied: tornado>=6.1 in /usr/local/lib/python3.11/dist-packages (from ipykernel>=4.5.1->ipywidgets) (6.4.2)\n",
            "Requirement already satisfied: setuptools>=18.5 in /usr/local/lib/python3.11/dist-packages (from ipython>=4.0.0->ipywidgets) (75.2.0)\n",
            "Collecting jedi>=0.16 (from ipython>=4.0.0->ipywidgets)\n",
            "  Downloading jedi-0.19.2-py2.py3-none-any.whl.metadata (22 kB)\n",
            "Requirement already satisfied: decorator in /usr/local/lib/python3.11/dist-packages (from ipython>=4.0.0->ipywidgets) (4.4.2)\n",
            "Requirement already satisfied: pickleshare in /usr/local/lib/python3.11/dist-packages (from ipython>=4.0.0->ipywidgets) (0.7.5)\n",
            "Requirement already satisfied: prompt-toolkit!=3.0.0,!=3.0.1,<3.1.0,>=2.0.0 in /usr/local/lib/python3.11/dist-packages (from ipython>=4.0.0->ipywidgets) (3.0.51)\n",
            "Requirement already satisfied: pygments in /usr/local/lib/python3.11/dist-packages (from ipython>=4.0.0->ipywidgets) (2.19.1)\n",
            "Requirement already satisfied: backcall in /usr/local/lib/python3.11/dist-packages (from ipython>=4.0.0->ipywidgets) (0.2.0)\n",
            "Requirement already satisfied: pexpect>4.3 in /usr/local/lib/python3.11/dist-packages (from ipython>=4.0.0->ipywidgets) (4.9.0)\n",
            "Requirement already satisfied: notebook>=4.4.1 in /usr/local/lib/python3.11/dist-packages (from widgetsnbextension~=3.6.0->ipywidgets) (6.5.7)\n",
            "Requirement already satisfied: parso<0.9.0,>=0.8.4 in /usr/local/lib/python3.11/dist-packages (from jedi>=0.16->ipython>=4.0.0->ipywidgets) (0.8.4)\n",
            "Requirement already satisfied: jupyter-core>=4.6.0 in /usr/local/lib/python3.11/dist-packages (from jupyter-client>=6.1.12->ipykernel>=4.5.1->ipywidgets) (5.8.1)\n",
            "Requirement already satisfied: python-dateutil>=2.1 in /usr/local/lib/python3.11/dist-packages (from jupyter-client>=6.1.12->ipykernel>=4.5.1->ipywidgets) (2.9.0.post0)\n",
            "Requirement already satisfied: jinja2 in /usr/local/lib/python3.11/dist-packages (from notebook>=4.4.1->widgetsnbextension~=3.6.0->ipywidgets) (3.1.6)\n",
            "Requirement already satisfied: argon2-cffi in /usr/local/lib/python3.11/dist-packages (from notebook>=4.4.1->widgetsnbextension~=3.6.0->ipywidgets) (25.1.0)\n",
            "Requirement already satisfied: nbformat in /usr/local/lib/python3.11/dist-packages (from notebook>=4.4.1->widgetsnbextension~=3.6.0->ipywidgets) (5.10.4)\n",
            "Requirement already satisfied: nbconvert>=5 in /usr/local/lib/python3.11/dist-packages (from notebook>=4.4.1->widgetsnbextension~=3.6.0->ipywidgets) (7.16.6)\n",
            "Requirement already satisfied: Send2Trash>=1.8.0 in /usr/local/lib/python3.11/dist-packages (from notebook>=4.4.1->widgetsnbextension~=3.6.0->ipywidgets) (1.8.3)\n",
            "Requirement already satisfied: terminado>=0.8.3 in /usr/local/lib/python3.11/dist-packages (from notebook>=4.4.1->widgetsnbextension~=3.6.0->ipywidgets) (0.18.1)\n",
            "Requirement already satisfied: prometheus-client in /usr/local/lib/python3.11/dist-packages (from notebook>=4.4.1->widgetsnbextension~=3.6.0->ipywidgets) (0.22.1)\n",
            "Requirement already satisfied: nbclassic>=0.4.7 in /usr/local/lib/python3.11/dist-packages (from notebook>=4.4.1->widgetsnbextension~=3.6.0->ipywidgets) (1.3.1)\n",
            "Requirement already satisfied: ptyprocess>=0.5 in /usr/local/lib/python3.11/dist-packages (from pexpect>4.3->ipython>=4.0.0->ipywidgets) (0.7.0)\n",
            "Requirement already satisfied: wcwidth in /usr/local/lib/python3.11/dist-packages (from prompt-toolkit!=3.0.0,!=3.0.1,<3.1.0,>=2.0.0->ipython>=4.0.0->ipywidgets) (0.2.13)\n",
            "Requirement already satisfied: platformdirs>=2.5 in /usr/local/lib/python3.11/dist-packages (from jupyter-core>=4.6.0->jupyter-client>=6.1.12->ipykernel>=4.5.1->ipywidgets) (4.3.8)\n",
            "Requirement already satisfied: notebook-shim>=0.2.3 in /usr/local/lib/python3.11/dist-packages (from nbclassic>=0.4.7->notebook>=4.4.1->widgetsnbextension~=3.6.0->ipywidgets) (0.2.4)\n",
            "Requirement already satisfied: beautifulsoup4 in /usr/local/lib/python3.11/dist-packages (from nbconvert>=5->notebook>=4.4.1->widgetsnbextension~=3.6.0->ipywidgets) (4.13.4)\n",
            "Requirement already satisfied: bleach!=5.0.0 in /usr/local/lib/python3.11/dist-packages (from bleach[css]!=5.0.0->nbconvert>=5->notebook>=4.4.1->widgetsnbextension~=3.6.0->ipywidgets) (6.2.0)\n",
            "Requirement already satisfied: defusedxml in /usr/local/lib/python3.11/dist-packages (from nbconvert>=5->notebook>=4.4.1->widgetsnbextension~=3.6.0->ipywidgets) (0.7.1)\n",
            "Requirement already satisfied: jupyterlab-pygments in /usr/local/lib/python3.11/dist-packages (from nbconvert>=5->notebook>=4.4.1->widgetsnbextension~=3.6.0->ipywidgets) (0.3.0)\n",
            "Requirement already satisfied: markupsafe>=2.0 in /usr/local/lib/python3.11/dist-packages (from nbconvert>=5->notebook>=4.4.1->widgetsnbextension~=3.6.0->ipywidgets) (3.0.2)\n",
            "Requirement already satisfied: mistune<4,>=2.0.3 in /usr/local/lib/python3.11/dist-packages (from nbconvert>=5->notebook>=4.4.1->widgetsnbextension~=3.6.0->ipywidgets) (3.1.3)\n",
            "Requirement already satisfied: nbclient>=0.5.0 in /usr/local/lib/python3.11/dist-packages (from nbconvert>=5->notebook>=4.4.1->widgetsnbextension~=3.6.0->ipywidgets) (0.10.2)\n",
            "Requirement already satisfied: pandocfilters>=1.4.1 in /usr/local/lib/python3.11/dist-packages (from nbconvert>=5->notebook>=4.4.1->widgetsnbextension~=3.6.0->ipywidgets) (1.5.1)\n",
            "Requirement already satisfied: fastjsonschema>=2.15 in /usr/local/lib/python3.11/dist-packages (from nbformat->notebook>=4.4.1->widgetsnbextension~=3.6.0->ipywidgets) (2.21.1)\n",
            "Requirement already satisfied: jsonschema>=2.6 in /usr/local/lib/python3.11/dist-packages (from nbformat->notebook>=4.4.1->widgetsnbextension~=3.6.0->ipywidgets) (4.24.0)\n",
            "Requirement already satisfied: six>=1.5 in /usr/local/lib/python3.11/dist-packages (from python-dateutil>=2.1->jupyter-client>=6.1.12->ipykernel>=4.5.1->ipywidgets) (1.17.0)\n",
            "Requirement already satisfied: argon2-cffi-bindings in /usr/local/lib/python3.11/dist-packages (from argon2-cffi->notebook>=4.4.1->widgetsnbextension~=3.6.0->ipywidgets) (21.2.0)\n",
            "Requirement already satisfied: webencodings in /usr/local/lib/python3.11/dist-packages (from bleach!=5.0.0->bleach[css]!=5.0.0->nbconvert>=5->notebook>=4.4.1->widgetsnbextension~=3.6.0->ipywidgets) (0.5.1)\n",
            "Requirement already satisfied: tinycss2<1.5,>=1.1.0 in /usr/local/lib/python3.11/dist-packages (from bleach[css]!=5.0.0->nbconvert>=5->notebook>=4.4.1->widgetsnbextension~=3.6.0->ipywidgets) (1.4.0)\n",
            "Requirement already satisfied: attrs>=22.2.0 in /usr/local/lib/python3.11/dist-packages (from jsonschema>=2.6->nbformat->notebook>=4.4.1->widgetsnbextension~=3.6.0->ipywidgets) (25.3.0)\n",
            "Requirement already satisfied: jsonschema-specifications>=2023.03.6 in /usr/local/lib/python3.11/dist-packages (from jsonschema>=2.6->nbformat->notebook>=4.4.1->widgetsnbextension~=3.6.0->ipywidgets) (2025.4.1)\n",
            "Requirement already satisfied: referencing>=0.28.4 in /usr/local/lib/python3.11/dist-packages (from jsonschema>=2.6->nbformat->notebook>=4.4.1->widgetsnbextension~=3.6.0->ipywidgets) (0.36.2)\n",
            "Requirement already satisfied: rpds-py>=0.7.1 in /usr/local/lib/python3.11/dist-packages (from jsonschema>=2.6->nbformat->notebook>=4.4.1->widgetsnbextension~=3.6.0->ipywidgets) (0.25.1)\n",
            "Requirement already satisfied: jupyter-server<3,>=1.8 in /usr/local/lib/python3.11/dist-packages (from notebook-shim>=0.2.3->nbclassic>=0.4.7->notebook>=4.4.1->widgetsnbextension~=3.6.0->ipywidgets) (1.16.0)\n",
            "Requirement already satisfied: cffi>=1.0.1 in /usr/local/lib/python3.11/dist-packages (from argon2-cffi-bindings->argon2-cffi->notebook>=4.4.1->widgetsnbextension~=3.6.0->ipywidgets) (1.17.1)\n",
            "Requirement already satisfied: soupsieve>1.2 in /usr/local/lib/python3.11/dist-packages (from beautifulsoup4->nbconvert>=5->notebook>=4.4.1->widgetsnbextension~=3.6.0->ipywidgets) (2.7)\n",
            "Requirement already satisfied: typing-extensions>=4.0.0 in /usr/local/lib/python3.11/dist-packages (from beautifulsoup4->nbconvert>=5->notebook>=4.4.1->widgetsnbextension~=3.6.0->ipywidgets) (4.14.0)\n",
            "Requirement already satisfied: pycparser in /usr/local/lib/python3.11/dist-packages (from cffi>=1.0.1->argon2-cffi-bindings->argon2-cffi->notebook>=4.4.1->widgetsnbextension~=3.6.0->ipywidgets) (2.22)\n",
            "Requirement already satisfied: anyio>=3.1.0 in /usr/local/lib/python3.11/dist-packages (from jupyter-server<3,>=1.8->notebook-shim>=0.2.3->nbclassic>=0.4.7->notebook>=4.4.1->widgetsnbextension~=3.6.0->ipywidgets) (4.9.0)\n",
            "Requirement already satisfied: websocket-client in /usr/local/lib/python3.11/dist-packages (from jupyter-server<3,>=1.8->notebook-shim>=0.2.3->nbclassic>=0.4.7->notebook>=4.4.1->widgetsnbextension~=3.6.0->ipywidgets) (1.8.0)\n",
            "Requirement already satisfied: idna>=2.8 in /usr/local/lib/python3.11/dist-packages (from anyio>=3.1.0->jupyter-server<3,>=1.8->notebook-shim>=0.2.3->nbclassic>=0.4.7->notebook>=4.4.1->widgetsnbextension~=3.6.0->ipywidgets) (3.10)\n",
            "Requirement already satisfied: sniffio>=1.1 in /usr/local/lib/python3.11/dist-packages (from anyio>=3.1.0->jupyter-server<3,>=1.8->notebook-shim>=0.2.3->nbclassic>=0.4.7->notebook>=4.4.1->widgetsnbextension~=3.6.0->ipywidgets) (1.3.1)\n",
            "Downloading jedi-0.19.2-py2.py3-none-any.whl (1.6 MB)\n",
            "\u001b[2K   \u001b[90m━━━━━━━━━━━━━━━━━━━━━━━━━━━━━━━━━━━━━━━━\u001b[0m \u001b[32m1.6/1.6 MB\u001b[0m \u001b[31m19.3 MB/s\u001b[0m eta \u001b[36m0:00:00\u001b[0m\n",
            "\u001b[?25hInstalling collected packages: jedi\n",
            "Successfully installed jedi-0.19.2\n"
          ]
        }
      ]
    },
    {
      "cell_type": "code",
      "execution_count": 40,
      "metadata": {
        "colab": {
          "base_uri": "https://localhost:8080/"
        },
        "id": "7MD-CawMiftU",
        "outputId": "db357080-aa15-4ed6-bf12-9fa533325c21"
      },
      "outputs": [
        {
          "output_type": "stream",
          "name": "stdout",
          "text": [
            "Columns in df_ed:\n",
            "Index(['INC_KEY', 'YOINJ', 'YOADMIT', 'WORKREL', 'INDUSTRY', 'OCCUPATION',\n",
            "       'LECODE', 'LOCATION', 'TRANSFER', 'ALCOHOL', 'DRUG1', 'DRUG2', 'EDDISP',\n",
            "       'EDDEATH', 'EMSRESP', 'EMSSCENE', 'EMSDAYS', 'EMSMINS', 'EDMIN',\n",
            "       'EDDAYS', 'ISSLOC', 'ISSAIS', 'ISSICD', 'ISS98', 'FAC_KEY'],\n",
            "      dtype='object')\n",
            "\n",
            "Columns in df_demo:\n",
            "Index(['INC_KEY', 'YOBIRTH', 'AGE', 'AGEU', 'GENDER', 'RACE1', 'RACE2',\n",
            "       'ETHNIC', 'FAC_KEY', 'PAYMENT'],\n",
            "      dtype='object')\n",
            "\n",
            "Columns in df_comorbid:\n",
            "Index(['INC_KEY', 'COMORKEY', 'COMORDES'], dtype='object')\n",
            "\n",
            "Columns in df_dcodedes:\n",
            "Index(['DCODE', 'DCODEDES', 'DXTYPE', 'REGION1', 'REGION2', 'REGION3'], dtype='object')\n",
            "\n",
            "Columns in df_aisp:\n",
            "Index(['INC_KEY', 'AISVER', 'PREDOT', 'SEVERITY'], dtype='object')\n",
            "\n",
            "Columns in df_ecodedes:\n",
            "Index(['ECODE', 'ECODEDES', 'INJTYPE', 'INTENT', 'MECHANISM'], dtype='object')\n"
          ]
        }
      ],
      "source": [
        "# Step 2: Load all necessary NTDB 2010 files and check columns\n",
        "# Load NTDB 2010 CSV files\n",
        "df_ed = pd.read_csv(\"/content/drive/My Drive/Project with Medical School and Paria/df_ed.csv\")\n",
        "df_demo = pd.read_csv(\"/content/drive/My Drive/Project with Medical School and Paria/df_demo.csv\")\n",
        "df_comorbid = pd.read_csv(\"/content/drive/My Drive/Project with Medical School and Paria/df_comorbid.csv\")\n",
        "df_dcodedes = pd.read_csv(\"/content/drive/My Drive/Project with Medical School and Paria/df_dcodedes.csv\")\n",
        "df_aisp = pd.read_csv(\"/content/drive/My Drive/Project with Medical School and Paria/df_aisp.csv\")\n",
        "df_ecodedes = pd.read_csv(\"/content/drive/My Drive/Project with Medical School and Paria/df_ecodedes.csv\")\n",
        "\n",
        "# Check columns in each\n",
        "print(\"Columns in df_ed:\")\n",
        "print(df_ed.columns)\n",
        "\n",
        "print(\"\\nColumns in df_demo:\")\n",
        "print(df_demo.columns)\n",
        "\n",
        "print(\"\\nColumns in df_comorbid:\")\n",
        "print(df_comorbid.columns)\n",
        "\n",
        "print(\"\\nColumns in df_dcodedes:\")\n",
        "print(df_dcodedes.columns)\n",
        "\n",
        "print(\"\\nColumns in df_aisp:\")\n",
        "print(df_aisp.columns)\n",
        "\n",
        "print(\"\\nColumns in df_ecodedes:\")\n",
        "print(df_ecodedes.columns)\n"
      ]
    },
    {
      "cell_type": "code",
      "execution_count": 41,
      "metadata": {
        "colab": {
          "base_uri": "https://localhost:8080/"
        },
        "id": "7ASY-OVHE6Q6",
        "outputId": "7acbc2bf-4f50-4105-bc95-5b81664457eb"
      },
      "outputs": [
        {
          "output_type": "stream",
          "name": "stdout",
          "text": [
            "Requirement already satisfied: pyreadstat in /usr/local/lib/python3.11/dist-packages (1.2.9)\n",
            "Requirement already satisfied: pandas>=1.2.0 in /usr/local/lib/python3.11/dist-packages (from pyreadstat) (2.2.2)\n",
            "Requirement already satisfied: numpy>=1.23.2 in /usr/local/lib/python3.11/dist-packages (from pandas>=1.2.0->pyreadstat) (2.0.2)\n",
            "Requirement already satisfied: python-dateutil>=2.8.2 in /usr/local/lib/python3.11/dist-packages (from pandas>=1.2.0->pyreadstat) (2.9.0.post0)\n",
            "Requirement already satisfied: pytz>=2020.1 in /usr/local/lib/python3.11/dist-packages (from pandas>=1.2.0->pyreadstat) (2025.2)\n",
            "Requirement already satisfied: tzdata>=2022.7 in /usr/local/lib/python3.11/dist-packages (from pandas>=1.2.0->pyreadstat) (2025.2)\n",
            "Requirement already satisfied: six>=1.5 in /usr/local/lib/python3.11/dist-packages (from python-dateutil>=2.8.2->pandas>=1.2.0->pyreadstat) (1.17.0)\n"
          ]
        }
      ],
      "source": [
        "\n",
        "!pip install pyreadstat"
      ]
    },
    {
      "cell_type": "code",
      "execution_count": 42,
      "metadata": {
        "id": "aZWW8sFfEIwC"
      },
      "outputs": [],
      "source": [
        "\n",
        "import pyreadstat\n",
        "\n",
        "# Load discharge file correctly\n",
        "df_discharge, meta = pyreadstat.read_sas7bdat(\"/content/drive/My Drive/Project with Medical School and Paria/rds_discharge.sas7bdat\")"
      ]
    },
    {
      "cell_type": "code",
      "execution_count": 43,
      "metadata": {
        "colab": {
          "base_uri": "https://localhost:8080/"
        },
        "id": "MARl9kaQF6YX",
        "outputId": "1ab0da53-3020-4173-8e67-4e80d643d7a7"
      },
      "outputs": [
        {
          "output_type": "stream",
          "name": "stdout",
          "text": [
            "Index(['hospdisp', 'INC_KEY', 'YODISCH', 'PAYMENT', 'LOSMIN', 'LOSDAYS',\n",
            "       'ICUDAYS', 'VENTDAYS', 'FAC_KEY'],\n",
            "      dtype='object')\n"
          ]
        }
      ],
      "source": [
        "\n",
        "print(df_discharge.columns)"
      ]
    },
    {
      "cell_type": "code",
      "execution_count": 44,
      "metadata": {
        "colab": {
          "base_uri": "https://localhost:8080/"
        },
        "id": "DtA58G4HwNBR",
        "outputId": "682f1cc0-68f3-4cb7-fdf4-fd173c87bcda"
      },
      "outputs": [
        {
          "output_type": "stream",
          "name": "stderr",
          "text": [
            "/tmp/ipython-input-44-1793958514.py:2: DtypeWarning: Columns (1) have mixed types. Specify dtype option on import or set low_memory=False.\n",
            "  df_dcode = pd.read_csv(\"/content/drive/My Drive/Project with Medical School and Paria/PUF_DCODE.csv\")\n"
          ]
        }
      ],
      "source": [
        "#step3\n",
        "df_dcode = pd.read_csv(\"/content/drive/My Drive/Project with Medical School and Paria/PUF_DCODE.csv\")"
      ]
    },
    {
      "cell_type": "code",
      "execution_count": 45,
      "metadata": {
        "colab": {
          "base_uri": "https://localhost:8080/"
        },
        "id": "ua3ahAYOw8Hv",
        "outputId": "378f3b9d-27f7-4ce6-9e6d-cf106ac7de0a"
      },
      "outputs": [
        {
          "output_type": "stream",
          "name": "stdout",
          "text": [
            "Index(['INC_KEY', 'DCODE'], dtype='object')\n"
          ]
        }
      ],
      "source": [
        "print(df_dcode.columns)"
      ]
    },
    {
      "cell_type": "code",
      "execution_count": 46,
      "metadata": {
        "colab": {
          "base_uri": "https://localhost:8080/"
        },
        "id": "-osvhVClifvs",
        "outputId": "5175fe1d-f028-4ef2-9b6b-9f870c400556"
      },
      "outputs": [
        {
          "output_type": "stream",
          "name": "stdout",
          "text": [
            "Selected important columns from all datasets.\n"
          ]
        }
      ],
      "source": [
        "#Step4\n",
        "#Select only the important columns from each dataset\n",
        "#These are all clinically meaningful features that could help predict diaphragmatic injury.\n",
        "# From df_ed (Emergency Department Data)\n",
        "df_ed_small = df_ed[['INC_KEY', 'YOINJ', 'LOCATION', 'LECODE', 'TRANSFER', 'ALCOHOL', 'DRUG1', 'DRUG2', 'EDDISP', 'EDDEATH']]\n",
        "\n",
        "# From df_demo (Demographics)\n",
        "df_demo_small = df_demo[['INC_KEY', 'AGE', 'GENDER', 'RACE1', 'RACE2', 'ETHNIC', 'PAYMENT']]\n",
        "\n",
        "# From df_comorbid (Comorbidities) — keep everything for now\n",
        "df_comorbid_small = df_comorbid.copy()\n",
        "\n",
        "# From df_aisp (Injury Severity)\n",
        "df_aisp_small = df_aisp[['INC_KEY', 'AISVER', 'PREDOT', 'SEVERITY']]\n",
        "\n",
        "# From df_ecodedes (Mechanism of Injury Descriptions)\n",
        "df_ecodedes_small = df_ecodedes[['ECODE', 'ECODEDES', 'MECHANISM']]  # Only necessary columns\n",
        "\n",
        "# From df_dcodedes (Mechanism of Injury Descriptions)\n",
        "df_dcodedes_small = df_dcodedes[['DCODE', 'DCODEDES']]\n",
        "\n",
        "print(\"Selected important columns from all datasets.\")\n"
      ]
    },
    {
      "cell_type": "code",
      "execution_count": 47,
      "metadata": {
        "colab": {
          "base_uri": "https://localhost:8080/",
          "height": 587
        },
        "id": "KDbyCr4hifx-",
        "outputId": "fe2eeedd-6e97-4f3e-ce60-e9e160af977b"
      },
      "outputs": [
        {
          "output_type": "stream",
          "name": "stderr",
          "text": [
            "/tmp/ipython-input-47-3848456189.py:16: UserWarning: You are merging on int and float columns where the float values are not equal to their int representation.\n",
            "  df_merged = pd.merge(df_merged, df_ecodedes_small, left_on='LECODE', right_on='ECODE', how='left')\n"
          ]
        },
        {
          "output_type": "stream",
          "name": "stdout",
          "text": [
            "All datasets merged successfully!\n"
          ]
        },
        {
          "output_type": "execute_result",
          "data": {
            "text/plain": [
              "      INC_KEY  YOINJ LOCATION  LECODE TRANSFER                       ALCOHOL  \\\n",
              "0  11000000.0   2010   Street       5       No  Not Known/Not Recorded BIU 2   \n",
              "1  11000001.0   2010     Home       0       No  Not Known/Not Recorded BIU 2   \n",
              "2  11000002.0   2010   Street       5      Yes  Not Known/Not Recorded BIU 2   \n",
              "3  11000003.0   2010   Street       5      Yes  Not Known/Not Recorded BIU 2   \n",
              "4  11000004.0   2010   Street       5       No  Not Known/Not Recorded BIU 2   \n",
              "\n",
              "                          DRUG1                         DRUG2  \\\n",
              "0  Not Known/Not Recorded BIU 2  Not Known/Not Recorded BIU 2   \n",
              "1          Not Applicable BIU 1  Not Known/Not Recorded BIU 2   \n",
              "2          Not Applicable BIU 1  Not Known/Not Recorded BIU 2   \n",
              "3          Not Applicable BIU 1  Not Known/Not Recorded BIU 2   \n",
              "4          Not Applicable BIU 1  Not Known/Not Recorded BIU 2   \n",
              "\n",
              "                                              EDDISP               EDDEATH  \\\n",
              "0                              Home without services  Not Applicable BIU 1   \n",
              "1  Floor bed (general admission, non specialty un...  Not Applicable BIU 1   \n",
              "2    Telemetry/step-down unit (less acuity than ICU)  Not Applicable BIU 1   \n",
              "3    Telemetry/step-down unit (less acuity than ICU)  Not Applicable BIU 1   \n",
              "4    Telemetry/step-down unit (less acuity than ICU)  Not Applicable BIU 1   \n",
              "\n",
              "   ...                  ETHNIC                 PAYMENT COMORKEY  \\\n",
              "0  ...  Not Hispanic or Latino        Other Government       -1   \n",
              "1  ...  Not Hispanic or Latino  Blue Cross/Blue Shield       -1   \n",
              "2  ...  Not Hispanic or Latino  Blue Cross/Blue Shield       23   \n",
              "3  ...  Not Hispanic or Latino  Blue Cross/Blue Shield       -1   \n",
              "4  ...  Not Hispanic or Latino  Blue Cross/Blue Shield       -1   \n",
              "\n",
              "               COMORDES AISVER PREDOT  SEVERITY ECODE  \\\n",
              "0  Not Applicable BIU 1    NaN    NaN       NaN   5.0   \n",
              "1  Not Applicable BIU 1    NaN    NaN       NaN   0.0   \n",
              "2   Respiratory Disease    NaN    NaN       NaN   5.0   \n",
              "3  Not Applicable BIU 1    NaN    NaN       NaN   5.0   \n",
              "4  Not Applicable BIU 1    NaN    NaN       NaN   5.0   \n",
              "\n",
              "                                   ECODEDES  MECHANISM  \n",
              "0              Activities involving dancing        NaN  \n",
              "1  Civilian activity done for income or pay        NaN  \n",
              "2              Activities involving dancing        NaN  \n",
              "3              Activities involving dancing        NaN  \n",
              "4              Activities involving dancing        NaN  \n",
              "\n",
              "[5 rows x 24 columns]"
            ],
            "text/html": [
              "\n",
              "  <div id=\"df-493caef9-8a93-4963-b628-12dcb2aa65b4\" class=\"colab-df-container\">\n",
              "    <div>\n",
              "<style scoped>\n",
              "    .dataframe tbody tr th:only-of-type {\n",
              "        vertical-align: middle;\n",
              "    }\n",
              "\n",
              "    .dataframe tbody tr th {\n",
              "        vertical-align: top;\n",
              "    }\n",
              "\n",
              "    .dataframe thead th {\n",
              "        text-align: right;\n",
              "    }\n",
              "</style>\n",
              "<table border=\"1\" class=\"dataframe\">\n",
              "  <thead>\n",
              "    <tr style=\"text-align: right;\">\n",
              "      <th></th>\n",
              "      <th>INC_KEY</th>\n",
              "      <th>YOINJ</th>\n",
              "      <th>LOCATION</th>\n",
              "      <th>LECODE</th>\n",
              "      <th>TRANSFER</th>\n",
              "      <th>ALCOHOL</th>\n",
              "      <th>DRUG1</th>\n",
              "      <th>DRUG2</th>\n",
              "      <th>EDDISP</th>\n",
              "      <th>EDDEATH</th>\n",
              "      <th>...</th>\n",
              "      <th>ETHNIC</th>\n",
              "      <th>PAYMENT</th>\n",
              "      <th>COMORKEY</th>\n",
              "      <th>COMORDES</th>\n",
              "      <th>AISVER</th>\n",
              "      <th>PREDOT</th>\n",
              "      <th>SEVERITY</th>\n",
              "      <th>ECODE</th>\n",
              "      <th>ECODEDES</th>\n",
              "      <th>MECHANISM</th>\n",
              "    </tr>\n",
              "  </thead>\n",
              "  <tbody>\n",
              "    <tr>\n",
              "      <th>0</th>\n",
              "      <td>11000000.0</td>\n",
              "      <td>2010</td>\n",
              "      <td>Street</td>\n",
              "      <td>5</td>\n",
              "      <td>No</td>\n",
              "      <td>Not Known/Not Recorded BIU 2</td>\n",
              "      <td>Not Known/Not Recorded BIU 2</td>\n",
              "      <td>Not Known/Not Recorded BIU 2</td>\n",
              "      <td>Home without services</td>\n",
              "      <td>Not Applicable BIU 1</td>\n",
              "      <td>...</td>\n",
              "      <td>Not Hispanic or Latino</td>\n",
              "      <td>Other Government</td>\n",
              "      <td>-1</td>\n",
              "      <td>Not Applicable BIU 1</td>\n",
              "      <td>NaN</td>\n",
              "      <td>NaN</td>\n",
              "      <td>NaN</td>\n",
              "      <td>5.0</td>\n",
              "      <td>Activities involving dancing</td>\n",
              "      <td>NaN</td>\n",
              "    </tr>\n",
              "    <tr>\n",
              "      <th>1</th>\n",
              "      <td>11000001.0</td>\n",
              "      <td>2010</td>\n",
              "      <td>Home</td>\n",
              "      <td>0</td>\n",
              "      <td>No</td>\n",
              "      <td>Not Known/Not Recorded BIU 2</td>\n",
              "      <td>Not Applicable BIU 1</td>\n",
              "      <td>Not Known/Not Recorded BIU 2</td>\n",
              "      <td>Floor bed (general admission, non specialty un...</td>\n",
              "      <td>Not Applicable BIU 1</td>\n",
              "      <td>...</td>\n",
              "      <td>Not Hispanic or Latino</td>\n",
              "      <td>Blue Cross/Blue Shield</td>\n",
              "      <td>-1</td>\n",
              "      <td>Not Applicable BIU 1</td>\n",
              "      <td>NaN</td>\n",
              "      <td>NaN</td>\n",
              "      <td>NaN</td>\n",
              "      <td>0.0</td>\n",
              "      <td>Civilian activity done for income or pay</td>\n",
              "      <td>NaN</td>\n",
              "    </tr>\n",
              "    <tr>\n",
              "      <th>2</th>\n",
              "      <td>11000002.0</td>\n",
              "      <td>2010</td>\n",
              "      <td>Street</td>\n",
              "      <td>5</td>\n",
              "      <td>Yes</td>\n",
              "      <td>Not Known/Not Recorded BIU 2</td>\n",
              "      <td>Not Applicable BIU 1</td>\n",
              "      <td>Not Known/Not Recorded BIU 2</td>\n",
              "      <td>Telemetry/step-down unit (less acuity than ICU)</td>\n",
              "      <td>Not Applicable BIU 1</td>\n",
              "      <td>...</td>\n",
              "      <td>Not Hispanic or Latino</td>\n",
              "      <td>Blue Cross/Blue Shield</td>\n",
              "      <td>23</td>\n",
              "      <td>Respiratory Disease</td>\n",
              "      <td>NaN</td>\n",
              "      <td>NaN</td>\n",
              "      <td>NaN</td>\n",
              "      <td>5.0</td>\n",
              "      <td>Activities involving dancing</td>\n",
              "      <td>NaN</td>\n",
              "    </tr>\n",
              "    <tr>\n",
              "      <th>3</th>\n",
              "      <td>11000003.0</td>\n",
              "      <td>2010</td>\n",
              "      <td>Street</td>\n",
              "      <td>5</td>\n",
              "      <td>Yes</td>\n",
              "      <td>Not Known/Not Recorded BIU 2</td>\n",
              "      <td>Not Applicable BIU 1</td>\n",
              "      <td>Not Known/Not Recorded BIU 2</td>\n",
              "      <td>Telemetry/step-down unit (less acuity than ICU)</td>\n",
              "      <td>Not Applicable BIU 1</td>\n",
              "      <td>...</td>\n",
              "      <td>Not Hispanic or Latino</td>\n",
              "      <td>Blue Cross/Blue Shield</td>\n",
              "      <td>-1</td>\n",
              "      <td>Not Applicable BIU 1</td>\n",
              "      <td>NaN</td>\n",
              "      <td>NaN</td>\n",
              "      <td>NaN</td>\n",
              "      <td>5.0</td>\n",
              "      <td>Activities involving dancing</td>\n",
              "      <td>NaN</td>\n",
              "    </tr>\n",
              "    <tr>\n",
              "      <th>4</th>\n",
              "      <td>11000004.0</td>\n",
              "      <td>2010</td>\n",
              "      <td>Street</td>\n",
              "      <td>5</td>\n",
              "      <td>No</td>\n",
              "      <td>Not Known/Not Recorded BIU 2</td>\n",
              "      <td>Not Applicable BIU 1</td>\n",
              "      <td>Not Known/Not Recorded BIU 2</td>\n",
              "      <td>Telemetry/step-down unit (less acuity than ICU)</td>\n",
              "      <td>Not Applicable BIU 1</td>\n",
              "      <td>...</td>\n",
              "      <td>Not Hispanic or Latino</td>\n",
              "      <td>Blue Cross/Blue Shield</td>\n",
              "      <td>-1</td>\n",
              "      <td>Not Applicable BIU 1</td>\n",
              "      <td>NaN</td>\n",
              "      <td>NaN</td>\n",
              "      <td>NaN</td>\n",
              "      <td>5.0</td>\n",
              "      <td>Activities involving dancing</td>\n",
              "      <td>NaN</td>\n",
              "    </tr>\n",
              "  </tbody>\n",
              "</table>\n",
              "<p>5 rows × 24 columns</p>\n",
              "</div>\n",
              "    <div class=\"colab-df-buttons\">\n",
              "\n",
              "  <div class=\"colab-df-container\">\n",
              "    <button class=\"colab-df-convert\" onclick=\"convertToInteractive('df-493caef9-8a93-4963-b628-12dcb2aa65b4')\"\n",
              "            title=\"Convert this dataframe to an interactive table.\"\n",
              "            style=\"display:none;\">\n",
              "\n",
              "  <svg xmlns=\"http://www.w3.org/2000/svg\" height=\"24px\" viewBox=\"0 -960 960 960\">\n",
              "    <path d=\"M120-120v-720h720v720H120Zm60-500h600v-160H180v160Zm220 220h160v-160H400v160Zm0 220h160v-160H400v160ZM180-400h160v-160H180v160Zm440 0h160v-160H620v160ZM180-180h160v-160H180v160Zm440 0h160v-160H620v160Z\"/>\n",
              "  </svg>\n",
              "    </button>\n",
              "\n",
              "  <style>\n",
              "    .colab-df-container {\n",
              "      display:flex;\n",
              "      gap: 12px;\n",
              "    }\n",
              "\n",
              "    .colab-df-convert {\n",
              "      background-color: #E8F0FE;\n",
              "      border: none;\n",
              "      border-radius: 50%;\n",
              "      cursor: pointer;\n",
              "      display: none;\n",
              "      fill: #1967D2;\n",
              "      height: 32px;\n",
              "      padding: 0 0 0 0;\n",
              "      width: 32px;\n",
              "    }\n",
              "\n",
              "    .colab-df-convert:hover {\n",
              "      background-color: #E2EBFA;\n",
              "      box-shadow: 0px 1px 2px rgba(60, 64, 67, 0.3), 0px 1px 3px 1px rgba(60, 64, 67, 0.15);\n",
              "      fill: #174EA6;\n",
              "    }\n",
              "\n",
              "    .colab-df-buttons div {\n",
              "      margin-bottom: 4px;\n",
              "    }\n",
              "\n",
              "    [theme=dark] .colab-df-convert {\n",
              "      background-color: #3B4455;\n",
              "      fill: #D2E3FC;\n",
              "    }\n",
              "\n",
              "    [theme=dark] .colab-df-convert:hover {\n",
              "      background-color: #434B5C;\n",
              "      box-shadow: 0px 1px 3px 1px rgba(0, 0, 0, 0.15);\n",
              "      filter: drop-shadow(0px 1px 2px rgba(0, 0, 0, 0.3));\n",
              "      fill: #FFFFFF;\n",
              "    }\n",
              "  </style>\n",
              "\n",
              "    <script>\n",
              "      const buttonEl =\n",
              "        document.querySelector('#df-493caef9-8a93-4963-b628-12dcb2aa65b4 button.colab-df-convert');\n",
              "      buttonEl.style.display =\n",
              "        google.colab.kernel.accessAllowed ? 'block' : 'none';\n",
              "\n",
              "      async function convertToInteractive(key) {\n",
              "        const element = document.querySelector('#df-493caef9-8a93-4963-b628-12dcb2aa65b4');\n",
              "        const dataTable =\n",
              "          await google.colab.kernel.invokeFunction('convertToInteractive',\n",
              "                                                    [key], {});\n",
              "        if (!dataTable) return;\n",
              "\n",
              "        const docLinkHtml = 'Like what you see? Visit the ' +\n",
              "          '<a target=\"_blank\" href=https://colab.research.google.com/notebooks/data_table.ipynb>data table notebook</a>'\n",
              "          + ' to learn more about interactive tables.';\n",
              "        element.innerHTML = '';\n",
              "        dataTable['output_type'] = 'display_data';\n",
              "        await google.colab.output.renderOutput(dataTable, element);\n",
              "        const docLink = document.createElement('div');\n",
              "        docLink.innerHTML = docLinkHtml;\n",
              "        element.appendChild(docLink);\n",
              "      }\n",
              "    </script>\n",
              "  </div>\n",
              "\n",
              "\n",
              "    <div id=\"df-053bb49b-7fd0-413c-b8de-b7412466f825\">\n",
              "      <button class=\"colab-df-quickchart\" onclick=\"quickchart('df-053bb49b-7fd0-413c-b8de-b7412466f825')\"\n",
              "                title=\"Suggest charts\"\n",
              "                style=\"display:none;\">\n",
              "\n",
              "<svg xmlns=\"http://www.w3.org/2000/svg\" height=\"24px\"viewBox=\"0 0 24 24\"\n",
              "     width=\"24px\">\n",
              "    <g>\n",
              "        <path d=\"M19 3H5c-1.1 0-2 .9-2 2v14c0 1.1.9 2 2 2h14c1.1 0 2-.9 2-2V5c0-1.1-.9-2-2-2zM9 17H7v-7h2v7zm4 0h-2V7h2v10zm4 0h-2v-4h2v4z\"/>\n",
              "    </g>\n",
              "</svg>\n",
              "      </button>\n",
              "\n",
              "<style>\n",
              "  .colab-df-quickchart {\n",
              "      --bg-color: #E8F0FE;\n",
              "      --fill-color: #1967D2;\n",
              "      --hover-bg-color: #E2EBFA;\n",
              "      --hover-fill-color: #174EA6;\n",
              "      --disabled-fill-color: #AAA;\n",
              "      --disabled-bg-color: #DDD;\n",
              "  }\n",
              "\n",
              "  [theme=dark] .colab-df-quickchart {\n",
              "      --bg-color: #3B4455;\n",
              "      --fill-color: #D2E3FC;\n",
              "      --hover-bg-color: #434B5C;\n",
              "      --hover-fill-color: #FFFFFF;\n",
              "      --disabled-bg-color: #3B4455;\n",
              "      --disabled-fill-color: #666;\n",
              "  }\n",
              "\n",
              "  .colab-df-quickchart {\n",
              "    background-color: var(--bg-color);\n",
              "    border: none;\n",
              "    border-radius: 50%;\n",
              "    cursor: pointer;\n",
              "    display: none;\n",
              "    fill: var(--fill-color);\n",
              "    height: 32px;\n",
              "    padding: 0;\n",
              "    width: 32px;\n",
              "  }\n",
              "\n",
              "  .colab-df-quickchart:hover {\n",
              "    background-color: var(--hover-bg-color);\n",
              "    box-shadow: 0 1px 2px rgba(60, 64, 67, 0.3), 0 1px 3px 1px rgba(60, 64, 67, 0.15);\n",
              "    fill: var(--button-hover-fill-color);\n",
              "  }\n",
              "\n",
              "  .colab-df-quickchart-complete:disabled,\n",
              "  .colab-df-quickchart-complete:disabled:hover {\n",
              "    background-color: var(--disabled-bg-color);\n",
              "    fill: var(--disabled-fill-color);\n",
              "    box-shadow: none;\n",
              "  }\n",
              "\n",
              "  .colab-df-spinner {\n",
              "    border: 2px solid var(--fill-color);\n",
              "    border-color: transparent;\n",
              "    border-bottom-color: var(--fill-color);\n",
              "    animation:\n",
              "      spin 1s steps(1) infinite;\n",
              "  }\n",
              "\n",
              "  @keyframes spin {\n",
              "    0% {\n",
              "      border-color: transparent;\n",
              "      border-bottom-color: var(--fill-color);\n",
              "      border-left-color: var(--fill-color);\n",
              "    }\n",
              "    20% {\n",
              "      border-color: transparent;\n",
              "      border-left-color: var(--fill-color);\n",
              "      border-top-color: var(--fill-color);\n",
              "    }\n",
              "    30% {\n",
              "      border-color: transparent;\n",
              "      border-left-color: var(--fill-color);\n",
              "      border-top-color: var(--fill-color);\n",
              "      border-right-color: var(--fill-color);\n",
              "    }\n",
              "    40% {\n",
              "      border-color: transparent;\n",
              "      border-right-color: var(--fill-color);\n",
              "      border-top-color: var(--fill-color);\n",
              "    }\n",
              "    60% {\n",
              "      border-color: transparent;\n",
              "      border-right-color: var(--fill-color);\n",
              "    }\n",
              "    80% {\n",
              "      border-color: transparent;\n",
              "      border-right-color: var(--fill-color);\n",
              "      border-bottom-color: var(--fill-color);\n",
              "    }\n",
              "    90% {\n",
              "      border-color: transparent;\n",
              "      border-bottom-color: var(--fill-color);\n",
              "    }\n",
              "  }\n",
              "</style>\n",
              "\n",
              "      <script>\n",
              "        async function quickchart(key) {\n",
              "          const quickchartButtonEl =\n",
              "            document.querySelector('#' + key + ' button');\n",
              "          quickchartButtonEl.disabled = true;  // To prevent multiple clicks.\n",
              "          quickchartButtonEl.classList.add('colab-df-spinner');\n",
              "          try {\n",
              "            const charts = await google.colab.kernel.invokeFunction(\n",
              "                'suggestCharts', [key], {});\n",
              "          } catch (error) {\n",
              "            console.error('Error during call to suggestCharts:', error);\n",
              "          }\n",
              "          quickchartButtonEl.classList.remove('colab-df-spinner');\n",
              "          quickchartButtonEl.classList.add('colab-df-quickchart-complete');\n",
              "        }\n",
              "        (() => {\n",
              "          let quickchartButtonEl =\n",
              "            document.querySelector('#df-053bb49b-7fd0-413c-b8de-b7412466f825 button');\n",
              "          quickchartButtonEl.style.display =\n",
              "            google.colab.kernel.accessAllowed ? 'block' : 'none';\n",
              "        })();\n",
              "      </script>\n",
              "    </div>\n",
              "\n",
              "    </div>\n",
              "  </div>\n"
            ],
            "application/vnd.google.colaboratory.intrinsic+json": {
              "type": "dataframe",
              "variable_name": "df_merged"
            }
          },
          "metadata": {},
          "execution_count": 47
        }
      ],
      "source": [
        "#Step5\n",
        "#Merge All Datasets into One Master Table (df_merged)\n",
        "# Start with ED data (main dataset)\n",
        "df_merged = df_ed_small.copy()\n",
        "\n",
        "# Merge with Demographics\n",
        "df_merged = pd.merge(df_merged, df_demo_small, on='INC_KEY', how='left')\n",
        "\n",
        "# Merge with Comorbidities\n",
        "df_merged = pd.merge(df_merged, df_comorbid_small, on='INC_KEY', how='left')\n",
        "\n",
        "# Merge with Injury Severity\n",
        "df_merged = pd.merge(df_merged, df_aisp_small, on='INC_KEY', how='left')\n",
        "\n",
        "# Merge with Mechanism of Injury Description (linking LECODE ➔ ECODE ➔ ECODEDES)\n",
        "df_merged = pd.merge(df_merged, df_ecodedes_small, left_on='LECODE', right_on='ECODE', how='left')\n",
        "\n",
        "# Preview result\n",
        "print(\"All datasets merged successfully!\")\n",
        "df_merged.head()"
      ]
    },
    {
      "cell_type": "code",
      "execution_count": 48,
      "metadata": {
        "colab": {
          "base_uri": "https://localhost:8080/"
        },
        "id": "vxcmZTe0ggor",
        "outputId": "b280bf7f-86df-4f68-8c40-9ac85c2cfaed"
      },
      "outputs": [
        {
          "output_type": "stream",
          "name": "stdout",
          "text": [
            "[]\n"
          ]
        }
      ],
      "source": [
        "print([col for col in df_merged.columns if col.startswith('dcode')])"
      ]
    },
    {
      "cell_type": "code",
      "source": [
        "# Step 6: Create mortality column from EDDEATH in df_ed before trimming columns\n",
        "df_merged['mortality'] = df_ed['EDDEATH'].map(lambda x: 1 if str(x).strip().lower() in ['yes', '1'] else 0)"
      ],
      "metadata": {
        "id": "ldFPzxHGuvq0"
      },
      "execution_count": 49,
      "outputs": []
    },
    {
      "cell_type": "code",
      "execution_count": 50,
      "metadata": {
        "colab": {
          "base_uri": "https://localhost:8080/"
        },
        "id": "RRb9rvQ3r24H",
        "outputId": "d05e70a4-32ea-4bd5-e13a-596563430537"
      },
      "outputs": [
        {
          "output_type": "stream",
          "name": "stdout",
          "text": [
            "      INC_KEY  ISS\n",
            "0  11000000.0  4.0\n",
            "1  11000001.0  1.0\n",
            "2  11000002.0  4.0\n",
            "3  11000003.0  5.0\n",
            "4  11000004.0  8.0\n"
          ]
        }
      ],
      "source": [
        "#Step 7\n",
        "#Extract only the needed columns from df_ed\n",
        "df_iss = df_ed[['INC_KEY', 'ISSAIS']].copy()\n",
        "\n",
        "# Rename ISSAIS to ISS (cleaner name)\n",
        "df_iss.rename(columns={'ISSAIS': 'ISS'}, inplace=True)\n",
        "\n",
        "# Step 2: Merge ISS into df_merged\n",
        "df_merged = df_merged.merge(df_iss, on='INC_KEY', how='left')\n",
        "\n",
        "# Optional: Check if ISS was added successfully\n",
        "print(df_merged[['INC_KEY', 'ISS']].head())\n"
      ]
    },
    {
      "cell_type": "code",
      "execution_count": 51,
      "metadata": {
        "colab": {
          "base_uri": "https://localhost:8080/"
        },
        "id": "KQ6g9ZpAsjyV",
        "outputId": "44ad69ec-0ba0-4a85-fbce-2642d785a444"
      },
      "outputs": [
        {
          "output_type": "stream",
          "name": "stdout",
          "text": [
            "      INC_KEY  inj_pneumothorax\n",
            "0  11000000.0                 0\n",
            "1  11000001.0                 0\n",
            "2  11000002.0                 0\n",
            "3  11000003.0                 0\n",
            "4  11000004.0                 0\n"
          ]
        }
      ],
      "source": [
        "# Step 8\n",
        "#Create binary flag for ICD-9 code 860.0 (Traumatic pneumothorax)\n",
        "df_dcode['DCODE'] = df_dcode['DCODE'].astype(str)  # make sure it's string\n",
        "df_dcode['inj_pneumothorax'] = df_dcode['DCODE'].str.strip().eq('860.0').astype(int)\n",
        "\n",
        "# Step: Reduce to patient level\n",
        "df_pneumo = df_dcode.groupby('INC_KEY')['inj_pneumothorax'].max().reset_index()\n",
        "\n",
        "# Step: Merge with your main dataset\n",
        "df_merged = df_merged.merge(df_pneumo, on='INC_KEY', how='left')\n",
        "\n",
        "# Step: Fill missing values (patients without this diagnosis)\n",
        "df_merged['inj_pneumothorax'] = df_merged['inj_pneumothorax'].fillna(0).astype(int)\n",
        "\n",
        "# Preview\n",
        "print(df_merged[['INC_KEY', 'inj_pneumothorax']].head())"
      ]
    },
    {
      "cell_type": "code",
      "execution_count": 52,
      "metadata": {
        "colab": {
          "base_uri": "https://localhost:8080/"
        },
        "id": "ywc6hyyK0mLj",
        "outputId": "9e3856fe-8357-4688-cf83-075196cd2a95"
      },
      "outputs": [
        {
          "output_type": "stream",
          "name": "stdout",
          "text": [
            "      INC_KEY  inj_hemothorax\n",
            "0  11000000.0               0\n",
            "1  11000001.0               0\n",
            "2  11000002.0               0\n",
            "3  11000003.0               0\n",
            "4  11000004.0               0\n"
          ]
        }
      ],
      "source": [
        "# Step 9\n",
        "#Create binary flag for ICD-9 code 860.1 (Traumatic hemothorax)\n",
        "df_dcode['inj_hemothorax'] = df_dcode['DCODE'].str.strip().eq('860.1').astype(int)\n",
        "\n",
        "# Step: Reduce to patient level\n",
        "df_hemo = df_dcode.groupby('INC_KEY')['inj_hemothorax'].max().reset_index()\n",
        "\n",
        "# Step: Merge with your main dataset\n",
        "df_merged = df_merged.merge(df_hemo, on='INC_KEY', how='left')\n",
        "\n",
        "# Step: Fill missing values (patients without this diagnosis)\n",
        "df_merged['inj_hemothorax'] = df_merged['inj_hemothorax'].fillna(0).astype(int)\n",
        "\n",
        "# Preview\n",
        "print(df_merged[['INC_KEY', 'inj_hemothorax']].head())\n"
      ]
    },
    {
      "cell_type": "code",
      "execution_count": 53,
      "metadata": {
        "colab": {
          "base_uri": "https://localhost:8080/"
        },
        "id": "pID3Jw3K1QHN",
        "outputId": "c470fff2-45df-4130-daf8-b9a23bbbc881"
      },
      "outputs": [
        {
          "output_type": "stream",
          "name": "stdout",
          "text": [
            "      INC_KEY  inj_lung\n",
            "0  11000000.0         0\n",
            "1  11000001.0         0\n",
            "2  11000002.0         0\n",
            "3  11000003.0         0\n",
            "4  11000004.0         0\n"
          ]
        }
      ],
      "source": [
        "# Step 10\n",
        "# Create binary flag for ICD-9 code 861.1 (Injury to lung)\n",
        "df_dcode['inj_lung'] = df_dcode['DCODE'].str.strip().eq('861.1').astype(int)\n",
        "\n",
        "# Step: Reduce to patient level\n",
        "df_lung = df_dcode.groupby('INC_KEY')['inj_lung'].max().reset_index()\n",
        "\n",
        "# Step: Merge with your main dataset\n",
        "df_merged = df_merged.merge(df_lung, on='INC_KEY', how='left')\n",
        "\n",
        "# Step: Fill missing values (patients without this diagnosis)\n",
        "df_merged['inj_lung'] = df_merged['inj_lung'].fillna(0).astype(int)\n",
        "\n",
        "# Preview\n",
        "print(df_merged[['INC_KEY', 'inj_lung']].head())"
      ]
    },
    {
      "cell_type": "code",
      "execution_count": 54,
      "metadata": {
        "colab": {
          "base_uri": "https://localhost:8080/"
        },
        "id": "mmk_dm8c2e5c",
        "outputId": "99d77865-e8b7-425f-ee0e-67a30299a6a2"
      },
      "outputs": [
        {
          "output_type": "stream",
          "name": "stdout",
          "text": [
            "      INC_KEY  inj_heart\n",
            "0  11000000.0          0\n",
            "1  11000001.0          0\n",
            "2  11000002.0          0\n",
            "3  11000003.0          0\n",
            "4  11000004.0          0\n"
          ]
        }
      ],
      "source": [
        "# Step 11\n",
        "# Create binary flag for ICD-9 code 861.0 (Injury to heart)\n",
        "df_dcode['inj_heart'] = df_dcode['DCODE'].str.strip().eq('861.0').astype(int)\n",
        "\n",
        "# Step: Reduce to patient level\n",
        "df_heart = df_dcode.groupby('INC_KEY')['inj_heart'].max().reset_index()\n",
        "\n",
        "# Step: Merge with your main dataset\n",
        "df_merged = df_merged.merge(df_heart, on='INC_KEY', how='left')\n",
        "\n",
        "# Step: Fill missing values (patients without this diagnosis)\n",
        "df_merged['inj_heart'] = df_merged['inj_heart'].fillna(0).astype(int)\n",
        "\n",
        "# Preview\n",
        "print(df_merged[['INC_KEY', 'inj_heart']].head())"
      ]
    },
    {
      "cell_type": "code",
      "execution_count": 55,
      "metadata": {
        "colab": {
          "base_uri": "https://localhost:8080/"
        },
        "id": "sz3RBhCX5VRa",
        "outputId": "65da4b49-63e7-4af6-d420-53b1b18b90e9"
      },
      "outputs": [
        {
          "output_type": "stream",
          "name": "stdout",
          "text": [
            "      INC_KEY  inj_respiratory_failure\n",
            "0  11000000.0                        0\n",
            "1  11000001.0                        0\n",
            "2  11000002.0                        0\n",
            "3  11000003.0                        0\n",
            "4  11000004.0                        0\n"
          ]
        }
      ],
      "source": [
        "# Step 12\n",
        "# Create binary flag for ICD-9 code 518.81 (Acute respiratory failure)\n",
        "df_dcode['inj_respiratory_failure'] = df_dcode['DCODE'].eq('518.81').astype(int)\n",
        "\n",
        "# Step: Reduce to patient level\n",
        "df_resp = df_dcode.groupby('INC_KEY')['inj_respiratory_failure'].max().reset_index()\n",
        "\n",
        "# Step: Merge with your main dataset\n",
        "df_merged = df_merged.merge(df_resp, on='INC_KEY', how='left')\n",
        "\n",
        "# Step: Fill missing values (patients without this diagnosis)\n",
        "df_merged['inj_respiratory_failure'] = df_merged['inj_respiratory_failure'].fillna(0).astype(int)\n",
        "\n",
        "# Preview\n",
        "print(df_merged[['INC_KEY', 'inj_respiratory_failure']].head())\n"
      ]
    },
    {
      "cell_type": "code",
      "execution_count": 56,
      "metadata": {
        "colab": {
          "base_uri": "https://localhost:8080/"
        },
        "id": "2Mjpr6Sn5VUp",
        "outputId": "dfb0edd5-f442-4985-df6d-61b5a809cf3e"
      },
      "outputs": [
        {
          "output_type": "stream",
          "name": "stdout",
          "text": [
            "      INC_KEY  inj_pleural_effusion\n",
            "0  11000000.0                     0\n",
            "1  11000001.0                     0\n",
            "2  11000002.0                     0\n",
            "3  11000003.0                     0\n",
            "4  11000004.0                     0\n"
          ]
        }
      ],
      "source": [
        "# Step 13\n",
        "#Create binary flag for ICD-9 code 511.9 (Pleural effusion)\n",
        "df_dcode['inj_pleural_effusion'] = df_dcode['DCODE'].eq('511.9').astype(int)\n",
        "\n",
        "# Step: Reduce to patient level\n",
        "df_pleural = df_dcode.groupby('INC_KEY')['inj_pleural_effusion'].max().reset_index()\n",
        "\n",
        "# Step: Merge with your main dataset\n",
        "df_merged = df_merged.merge(df_pleural, on='INC_KEY', how='left')\n",
        "\n",
        "# Step: Fill missing values (patients without this diagnosis)\n",
        "df_merged['inj_pleural_effusion'] = df_merged['inj_pleural_effusion'].fillna(0).astype(int)\n",
        "\n",
        "# Preview\n",
        "print(df_merged[['INC_KEY', 'inj_pleural_effusion']].head())"
      ]
    },
    {
      "cell_type": "code",
      "execution_count": 57,
      "metadata": {
        "colab": {
          "base_uri": "https://localhost:8080/"
        },
        "id": "i0BuQ55b5VY5",
        "outputId": "e1b0b6cf-896a-4e31-fc24-7ad6f1a22228"
      },
      "outputs": [
        {
          "output_type": "stream",
          "name": "stdout",
          "text": [
            "      INC_KEY  inj_encephalopathy\n",
            "0  11000000.0                   0\n",
            "1  11000001.0                   0\n",
            "2  11000002.0                   0\n",
            "3  11000003.0                   0\n",
            "4  11000004.0                   0\n"
          ]
        }
      ],
      "source": [
        "# Step 14\n",
        "# Create binary flag for ICD-9 code 348.3 (Encephalopathy)\n",
        "df_dcode['inj_encephalopathy'] = df_dcode['DCODE'].eq('348.3').astype(int)\n",
        "\n",
        "# Step: Reduce to patient level\n",
        "df_encephalopathy = df_dcode.groupby('INC_KEY')['inj_encephalopathy'].max().reset_index()\n",
        "\n",
        "# Step: Merge with your main dataset\n",
        "df_merged = df_merged.merge(df_encephalopathy, on='INC_KEY', how='left')\n",
        "\n",
        "# Step: Fill missing values (patients without this diagnosis)\n",
        "df_merged['inj_encephalopathy'] = df_merged['inj_encephalopathy'].fillna(0).astype(int)\n",
        "\n",
        "# Preview\n",
        "print(df_merged[['INC_KEY', 'inj_encephalopathy']].head())"
      ]
    },
    {
      "cell_type": "code",
      "execution_count": 58,
      "metadata": {
        "colab": {
          "base_uri": "https://localhost:8080/"
        },
        "id": "810A5igp7hqI",
        "outputId": "c3b01e19-ed4d-49c6-94f5-cc0e5cb40b28"
      },
      "outputs": [
        {
          "output_type": "stream",
          "name": "stdout",
          "text": [
            "      INC_KEY  inj_mental_status\n",
            "0  11000000.0                  0\n",
            "1  11000001.0                  0\n",
            "2  11000002.0                  0\n",
            "3  11000003.0                  0\n",
            "4  11000004.0                  0\n"
          ]
        }
      ],
      "source": [
        "# Step 15\n",
        "# Create binary flag for ICD-9 code 780.09 (Altered mental status)\n",
        "df_dcode['inj_mental_status'] = df_dcode['DCODE'].eq('780.09').astype(int)\n",
        "\n",
        "# Step: Reduce to patient level\n",
        "df_mental_status = df_dcode.groupby('INC_KEY')['inj_mental_status'].max().reset_index()\n",
        "\n",
        "# Step: Merge with your main dataset\n",
        "df_merged = df_merged.merge(df_mental_status, on='INC_KEY', how='left')\n",
        "\n",
        "# Step: Fill missing values (patients without this diagnosis)\n",
        "df_merged['inj_mental_status'] = df_merged['inj_mental_status'].fillna(0).astype(int)\n",
        "\n",
        "# Preview\n",
        "print(df_merged[['INC_KEY', 'inj_mental_status']].head())"
      ]
    },
    {
      "cell_type": "code",
      "execution_count": 59,
      "metadata": {
        "colab": {
          "base_uri": "https://localhost:8080/"
        },
        "id": "h-7e3fqX8TJj",
        "outputId": "37ef7814-100f-4342-bf38-077cfda25214"
      },
      "outputs": [
        {
          "output_type": "stream",
          "name": "stdout",
          "text": [
            "      INC_KEY  inj_cns_complication\n",
            "0  11000000.0                     0\n",
            "1  11000001.0                     0\n",
            "2  11000002.0                     0\n",
            "3  11000003.0                     0\n",
            "4  11000004.0                     0\n"
          ]
        }
      ],
      "source": [
        "# Step 16\n",
        "# Create binary flag for ICD-9 code 997.01 (CNS complications)\n",
        "df_dcode['inj_cns_complication'] = df_dcode['DCODE'].eq('997.01').astype(int)\n",
        "\n",
        "# Step: Reduce to patient level\n",
        "df_cns_complication = df_dcode.groupby('INC_KEY')['inj_cns_complication'].max().reset_index()\n",
        "\n",
        "# Step: Merge with your main dataset\n",
        "df_merged = df_merged.merge(df_cns_complication, on='INC_KEY', how='left')\n",
        "\n",
        "# Step: Fill missing values\n",
        "df_merged['inj_cns_complication'] = df_merged['inj_cns_complication'].fillna(0).astype(int)\n",
        "\n",
        "# Preview\n",
        "print(df_merged[['INC_KEY', 'inj_cns_complication']].head())"
      ]
    },
    {
      "cell_type": "code",
      "execution_count": 60,
      "metadata": {
        "colab": {
          "base_uri": "https://localhost:8080/"
        },
        "id": "3CRUc4pO7htl",
        "outputId": "a41bcf59-31d8-4863-dbd2-370375bb77b5"
      },
      "outputs": [
        {
          "output_type": "stream",
          "name": "stdout",
          "text": [
            "      INC_KEY  inj_hemorrhage_complication\n",
            "0  11000000.0                            0\n",
            "1  11000001.0                            0\n",
            "2  11000002.0                            0\n",
            "3  11000003.0                            0\n",
            "4  11000004.0                            0\n"
          ]
        }
      ],
      "source": [
        "# Step 17\n",
        "# Create binary flag for ICD-9 code 998.11 (Hemorrhage complicating a procedure)\n",
        "df_dcode['inj_hemorrhage_complication'] = df_dcode['DCODE'].eq('998.11').astype(int)\n",
        "\n",
        "# Step: Reduce to patient level\n",
        "df_hemorrhage_complication = df_dcode.groupby('INC_KEY')['inj_hemorrhage_complication'].max().reset_index()\n",
        "\n",
        "# Step: Merge with your main dataset\n",
        "df_merged = df_merged.merge(df_hemorrhage_complication, on='INC_KEY', how='left')\n",
        "\n",
        "# Step: Fill missing values\n",
        "df_merged['inj_hemorrhage_complication'] = df_merged['inj_hemorrhage_complication'].fillna(0).astype(int)\n",
        "\n",
        "# Preview\n",
        "print(df_merged[['INC_KEY', 'inj_hemorrhage_complication']].head())"
      ]
    },
    {
      "cell_type": "code",
      "execution_count": 61,
      "metadata": {
        "colab": {
          "base_uri": "https://localhost:8080/"
        },
        "id": "zjBZa6Di8wUu",
        "outputId": "f992eac6-0c29-4288-ab63-e2eecd072c06"
      },
      "outputs": [
        {
          "output_type": "stream",
          "name": "stdout",
          "text": [
            "      INC_KEY  inj_shock_other\n",
            "0  11000000.0                0\n",
            "1  11000001.0                0\n",
            "2  11000002.0                0\n",
            "3  11000003.0                0\n",
            "4  11000004.0                0\n"
          ]
        }
      ],
      "source": [
        "# Step 18\n",
        "# Create binary flag for ICD-9 code 785.59 (Other shock without trauma)\n",
        "df_dcode['inj_shock_other'] = df_dcode['DCODE'].eq('785.59').astype(int)\n",
        "\n",
        "# Step: Reduce to patient level\n",
        "df_shock_other = df_dcode.groupby('INC_KEY')['inj_shock_other'].max().reset_index()\n",
        "\n",
        "# Step: Merge with main dataset\n",
        "df_merged = df_merged.merge(df_shock_other, on='INC_KEY', how='left')\n",
        "\n",
        "# Step: Fill missing values\n",
        "df_merged['inj_shock_other'] = df_merged['inj_shock_other'].fillna(0).astype(int)\n",
        "\n",
        "# Preview\n",
        "print(df_merged[['INC_KEY', 'inj_shock_other']].head())"
      ]
    },
    {
      "cell_type": "code",
      "execution_count": 62,
      "metadata": {
        "colab": {
          "base_uri": "https://localhost:8080/"
        },
        "id": "C4oFaGcm8wYZ",
        "outputId": "973034fe-9ded-4e89-8d8a-d21d06aedf82"
      },
      "outputs": [
        {
          "output_type": "stream",
          "name": "stdout",
          "text": [
            "      INC_KEY  inj_septicemia\n",
            "0  11000000.0               0\n",
            "1  11000001.0               0\n",
            "2  11000002.0               0\n",
            "3  11000003.0               0\n",
            "4  11000004.0               0\n"
          ]
        }
      ],
      "source": [
        "# Step 19\n",
        "# Create binary flag for ICD-9 code 38.9 (Septicemia, unspecified organism)\n",
        "df_dcode['inj_septicemia'] = df_dcode['DCODE'].eq('38.9').astype(int)\n",
        "\n",
        "# Step: Reduce to patient level\n",
        "df_septicemia = df_dcode.groupby('INC_KEY')['inj_septicemia'].max().reset_index()\n",
        "\n",
        "# Step: Merge with main dataset\n",
        "df_merged = df_merged.merge(df_septicemia, on='INC_KEY', how='left')\n",
        "\n",
        "# Step: Fill missing values\n",
        "df_merged['inj_septicemia'] = df_merged['inj_septicemia'].fillna(0).astype(int)\n",
        "\n",
        "# Preview\n",
        "print(df_merged[['INC_KEY', 'inj_septicemia']].head())"
      ]
    },
    {
      "cell_type": "code",
      "execution_count": 63,
      "metadata": {
        "colab": {
          "base_uri": "https://localhost:8080/"
        },
        "id": "SiyfwJMx8wc2",
        "outputId": "b32c1aaf-78d7-4f2e-df29-392cf6ffb5e3"
      },
      "outputs": [
        {
          "output_type": "stream",
          "name": "stdout",
          "text": [
            "      INC_KEY  inj_sepsis\n",
            "0  11000000.0           0\n",
            "1  11000001.0           0\n",
            "2  11000002.0           0\n",
            "3  11000003.0           0\n",
            "4  11000004.0           0\n"
          ]
        }
      ],
      "source": [
        "# Step 20\n",
        "# Create binary flag for ICD-9 code 995.91 (Sepsis)\n",
        "df_dcode['inj_sepsis'] = df_dcode['DCODE'].eq('995.91').astype(int)\n",
        "\n",
        "# Step: Reduce to patient level\n",
        "df_sepsis = df_dcode.groupby('INC_KEY')['inj_sepsis'].max().reset_index()\n",
        "\n",
        "# Step: Merge with main dataset\n",
        "df_merged = df_merged.merge(df_sepsis, on='INC_KEY', how='left')\n",
        "\n",
        "# Step: Fill missing values\n",
        "df_merged['inj_sepsis'] = df_merged['inj_sepsis'].fillna(0).astype(int)\n",
        "\n",
        "# Preview\n",
        "print(df_merged[['INC_KEY', 'inj_sepsis']].head())"
      ]
    },
    {
      "cell_type": "code",
      "execution_count": 64,
      "metadata": {
        "colab": {
          "base_uri": "https://localhost:8080/"
        },
        "id": "xJrFpN7Y9qYm",
        "outputId": "3da0fc31-f620-4cc0-e717-d818ed06b88f"
      },
      "outputs": [
        {
          "output_type": "stream",
          "name": "stdout",
          "text": [
            "      INC_KEY  inj_postop_infection\n",
            "0  11000000.0                     0\n",
            "1  11000001.0                     0\n",
            "2  11000002.0                     0\n",
            "3  11000003.0                     0\n",
            "4  11000004.0                     0\n"
          ]
        }
      ],
      "source": [
        "# Step 21\n",
        "# Create binary flag for ICD-9 code 998.59 (Postoperative infection)\n",
        "df_dcode['inj_postop_infection'] = df_dcode['DCODE'].eq('998.59').astype(int)\n",
        "\n",
        "# Step: Reduce to patient level\n",
        "df_postop_infection = df_dcode.groupby('INC_KEY')['inj_postop_infection'].max().reset_index()\n",
        "\n",
        "# Step: Merge with main dataset\n",
        "df_merged = df_merged.merge(df_postop_infection, on='INC_KEY', how='left')\n",
        "\n",
        "# Step: Fill missing values\n",
        "df_merged['inj_postop_infection'] = df_merged['inj_postop_infection'].fillna(0).astype(int)\n",
        "\n",
        "# Preview\n",
        "print(df_merged[['INC_KEY', 'inj_postop_infection']].head())"
      ]
    },
    {
      "cell_type": "code",
      "execution_count": 65,
      "metadata": {
        "colab": {
          "base_uri": "https://localhost:8080/"
        },
        "id": "vEO3gJhr9qcr",
        "outputId": "ea152720-6715-4507-ae5a-6c99ee2dff9b"
      },
      "outputs": [
        {
          "output_type": "stream",
          "name": "stdout",
          "text": [
            "      INC_KEY  inj_accidental_laceration\n",
            "0  11000000.0                          0\n",
            "1  11000001.0                          0\n",
            "2  11000002.0                          0\n",
            "3  11000003.0                          0\n",
            "4  11000004.0                          0\n"
          ]
        }
      ],
      "source": [
        "# Step 22\n",
        "# Create binary flag for ICD-9 code 998.2 (Accidental puncture/laceration during procedure)\n",
        "df_dcode['inj_accidental_laceration'] = df_dcode['DCODE'].eq('998.2').astype(int)\n",
        "\n",
        "# Step: Reduce to patient level\n",
        "df_acc_laceration = df_dcode.groupby('INC_KEY')['inj_accidental_laceration'].max().reset_index()\n",
        "\n",
        "# Step: Merge with main dataset\n",
        "df_merged = df_merged.merge(df_acc_laceration, on='INC_KEY', how='left')\n",
        "\n",
        "# Step: Fill missing values\n",
        "df_merged['inj_accidental_laceration'] = df_merged['inj_accidental_laceration'].fillna(0).astype(int)\n",
        "\n",
        "# Preview\n",
        "print(df_merged[['INC_KEY', 'inj_accidental_laceration']].head())"
      ]
    },
    {
      "cell_type": "code",
      "execution_count": 66,
      "metadata": {
        "colab": {
          "base_uri": "https://localhost:8080/"
        },
        "id": "cG3rDVLI-MsC",
        "outputId": "dcf6aac8-79d1-4bef-cef3-6e240d162c38"
      },
      "outputs": [
        {
          "output_type": "stream",
          "name": "stdout",
          "text": [
            "      INC_KEY  inj_digestive_complication\n",
            "0  11000000.0                           0\n",
            "1  11000001.0                           0\n",
            "2  11000002.0                           0\n",
            "3  11000003.0                           0\n",
            "4  11000004.0                           0\n"
          ]
        }
      ],
      "source": [
        "# Step 23\n",
        "# Create binary flag for ICD-9 code 997.4 (Digestive system complications)\n",
        "df_dcode['inj_digestive_complication'] = df_dcode['DCODE'].eq('997.4').astype(int)\n",
        "\n",
        "# Step: Reduce to patient level\n",
        "df_digestive = df_dcode.groupby('INC_KEY')['inj_digestive_complication'].max().reset_index()\n",
        "\n",
        "# Step: Merge with main dataset\n",
        "df_merged = df_merged.merge(df_digestive, on='INC_KEY', how='left')\n",
        "\n",
        "# Step: Fill missing values\n",
        "df_merged['inj_digestive_complication'] = df_merged['inj_digestive_complication'].fillna(0).astype(int)\n",
        "\n",
        "# Preview\n",
        "print(df_merged[['INC_KEY', 'inj_digestive_complication']].head())"
      ]
    },
    {
      "cell_type": "code",
      "execution_count": 67,
      "metadata": {
        "colab": {
          "base_uri": "https://localhost:8080/"
        },
        "id": "Xh2vOawT-Mvb",
        "outputId": "62120f95-1884-4991-fcf5-68ab81c3a43e"
      },
      "outputs": [
        {
          "output_type": "stream",
          "name": "stdout",
          "text": [
            "      INC_KEY  inj_urinary_complication\n",
            "0  11000000.0                         0\n",
            "1  11000001.0                         0\n",
            "2  11000002.0                         0\n",
            "3  11000003.0                         0\n",
            "4  11000004.0                         0\n"
          ]
        }
      ],
      "source": [
        "# Step 24\n",
        "# Create binary flag for ICD-9 code 997.5 (Urinary system complications)\n",
        "df_dcode['inj_urinary_complication'] = df_dcode['DCODE'].eq('997.5').astype(int)\n",
        "\n",
        "# Step: Reduce to patient level\n",
        "df_urinary = df_dcode.groupby('INC_KEY')['inj_urinary_complication'].max().reset_index()\n",
        "\n",
        "# Step: Merge with main dataset\n",
        "df_merged = df_merged.merge(df_urinary, on='INC_KEY', how='left')\n",
        "\n",
        "# Step: Fill missing values\n",
        "df_merged['inj_urinary_complication'] = df_merged['inj_urinary_complication'].fillna(0).astype(int)\n",
        "\n",
        "# Preview\n",
        "print(df_merged[['INC_KEY', 'inj_urinary_complication']].head())"
      ]
    },
    {
      "cell_type": "code",
      "execution_count": 68,
      "metadata": {
        "colab": {
          "base_uri": "https://localhost:8080/"
        },
        "id": "4I6prCJ5_VN1",
        "outputId": "959868bf-27c2-4e87-8262-bbf3726bfac8"
      },
      "outputs": [
        {
          "output_type": "stream",
          "name": "stdout",
          "text": [
            "      INC_KEY  inj_device_infection\n",
            "0  11000000.0                     0\n",
            "1  11000001.0                     0\n",
            "2  11000002.0                     0\n",
            "3  11000003.0                     0\n",
            "4  11000004.0                     0\n"
          ]
        }
      ],
      "source": [
        "# Step 25\n",
        "# Create binary flag for ICD-9 code 996.73 (Infection due to device, implant, or graft)\n",
        "df_dcode['inj_device_infection'] = df_dcode['DCODE'].eq('996.73').astype(int)\n",
        "\n",
        "# Step: Reduce to patient level\n",
        "df_device_infection = df_dcode.groupby('INC_KEY')['inj_device_infection'].max().reset_index()\n",
        "\n",
        "# Step: Merge with main dataset\n",
        "df_merged = df_merged.merge(df_device_infection, on='INC_KEY', how='left')\n",
        "\n",
        "# Step: Fill missing values\n",
        "df_merged['inj_device_infection'] = df_merged['inj_device_infection'].fillna(0).astype(int)\n",
        "\n",
        "# Preview\n",
        "print(df_merged[['INC_KEY', 'inj_device_infection']].head())"
      ]
    },
    {
      "cell_type": "code",
      "execution_count": 69,
      "metadata": {
        "colab": {
          "base_uri": "https://localhost:8080/"
        },
        "id": "AtOXOslp_VRo",
        "outputId": "8997959a-406b-4f9d-e120-95c905199cfa"
      },
      "outputs": [
        {
          "output_type": "stream",
          "name": "stdout",
          "text": [
            "      INC_KEY  inj_wound_disruption\n",
            "0  11000000.0                     0\n",
            "1  11000001.0                     0\n",
            "2  11000002.0                     0\n",
            "3  11000003.0                     0\n",
            "4  11000004.0                     0\n"
          ]
        }
      ],
      "source": [
        "# Step 26\n",
        "# Create binary flag for ICD-9 code 998.3 (Disruption of wound)\n",
        "df_dcode['inj_wound_disruption'] = df_dcode['DCODE'].eq('998.3').astype(int)\n",
        "\n",
        "# Step: Reduce to patient level\n",
        "df_wound_disruption = df_dcode.groupby('INC_KEY')['inj_wound_disruption'].max().reset_index()\n",
        "\n",
        "# Step: Merge with main dataset\n",
        "df_merged = df_merged.merge(df_wound_disruption, on='INC_KEY', how='left')\n",
        "\n",
        "# Step: Fill missing values\n",
        "df_merged['inj_wound_disruption'] = df_merged['inj_wound_disruption'].fillna(0).astype(int)\n",
        "\n",
        "# Preview\n",
        "print(df_merged[['INC_KEY', 'inj_wound_disruption']].head())"
      ]
    },
    {
      "cell_type": "code",
      "execution_count": 70,
      "metadata": {
        "colab": {
          "base_uri": "https://localhost:8080/"
        },
        "id": "RFvNApqF_zEk",
        "outputId": "eabbac1c-5f9b-41c0-d1ed-0c8abe5acca8"
      },
      "outputs": [
        {
          "output_type": "stream",
          "name": "stdout",
          "text": [
            "      INC_KEY  inj_pulm_insuff\n",
            "0  11000000.0                0\n",
            "1  11000001.0                0\n",
            "2  11000002.0                0\n",
            "3  11000003.0                0\n",
            "4  11000004.0                0\n"
          ]
        }
      ],
      "source": [
        "# Step 27\n",
        "# Create binary flag for ICD-9 code 518.5 (Pulmonary insufficiency following trauma or surgery)\n",
        "df_dcode['inj_pulm_insuff'] = df_dcode['DCODE'].eq('518.5').astype(int)\n",
        "\n",
        "# Step: Reduce to patient level\n",
        "df_pulm_insuff = df_dcode.groupby('INC_KEY')['inj_pulm_insuff'].max().reset_index()\n",
        "\n",
        "# Step: Merge with main dataset\n",
        "df_merged = df_merged.merge(df_pulm_insuff, on='INC_KEY', how='left')\n",
        "\n",
        "# Step: Fill missing values\n",
        "df_merged['inj_pulm_insuff'] = df_merged['inj_pulm_insuff'].fillna(0).astype(int)\n",
        "\n",
        "# Preview\n",
        "print(df_merged[['INC_KEY', 'inj_pulm_insuff']].head())"
      ]
    },
    {
      "cell_type": "code",
      "execution_count": 71,
      "metadata": {
        "colab": {
          "base_uri": "https://localhost:8080/"
        },
        "id": "rEqzsJ3WlMLU",
        "outputId": "e1bb92f4-fa65-46ea-f93f-68c08f3e91da"
      },
      "outputs": [
        {
          "output_type": "stream",
          "name": "stdout",
          "text": [
            "New injury flags added based on advisor ICD-9 code list.\n"
          ]
        }
      ],
      "source": [
        "#Step 28\n",
        "# NEW INJURY FLAGS BASED ON ICD-9 GROUPS\n",
        "# Ensure all dcode columns are strings and trimmed\n",
        "dcode_columns = [col for col in df_dcode.columns if col.lower().startswith('dcode')]\n",
        "df_dcode[dcode_columns] = df_dcode[dcode_columns].astype(str).apply(lambda x: x.str.strip())\n",
        "\n",
        "def flag_injury(row, code_list):\n",
        "    return int(any(code in code_list for code in row))\n",
        "\n",
        "# ICD-9 groups from advisor\n",
        "df_dcode['inj_spleen'] = df_dcode[dcode_columns].apply(flag_injury, axis=1, code_list=[\n",
        "    '865.00', '865.01', '865.02', '865.03', '865.04', '865.05', '865.06', '865.07', '865.08', '865.09',\n",
        "    '865.10', '865.11', '865.12', '865.13', '865.14', '865.15', '865.16', '865.17', '865.18', '865.19'\n",
        "])\n",
        "df_dcode['inj_bladder'] = df_dcode[dcode_columns].apply(flag_injury, axis=1, code_list=['867.0', '867.1'])\n",
        "df_dcode['inj_bowel'] = df_dcode[dcode_columns].apply(flag_injury, axis=1, code_list=[\n",
        "    '863.0', '863.1', '863.2', '863.3', '863.4', '863.5', '863.6', '863.7', '863.8', '863.9'\n",
        "])\n",
        "df_dcode['inj_liver'] = df_dcode[dcode_columns].apply(flag_injury, axis=1, code_list=[\n",
        "    '864.00', '864.01', '864.02', '864.03', '864.04', '864.05', '864.06', '864.07', '864.08', '864.09',\n",
        "    '864.10', '864.11', '864.12', '864.13', '864.14', '864.15', '864.16', '864.17', '864.18', '864.19'\n",
        "])\n",
        "df_dcode['inj_hemothorax_group'] = df_dcode[dcode_columns].apply(flag_injury, axis=1, code_list=['860.2', '860.3'])\n",
        "\n",
        "# Reduce to patient-level\n",
        "df_spleen = df_dcode.groupby('INC_KEY')['inj_spleen'].max().reset_index()\n",
        "df_bladder = df_dcode.groupby('INC_KEY')['inj_bladder'].max().reset_index()\n",
        "df_bowel = df_dcode.groupby('INC_KEY')['inj_bowel'].max().reset_index()\n",
        "df_liver = df_dcode.groupby('INC_KEY')['inj_liver'].max().reset_index()\n",
        "df_hemothorax = df_dcode.groupby('INC_KEY')['inj_hemothorax_group'].max().reset_index()\n",
        "\n",
        "# Merge into main dataset\n",
        "df_merged = df_merged.merge(df_spleen, on='INC_KEY', how='left')\n",
        "df_merged = df_merged.merge(df_bladder, on='INC_KEY', how='left')\n",
        "df_merged = df_merged.merge(df_bowel, on='INC_KEY', how='left')\n",
        "df_merged = df_merged.merge(df_liver, on='INC_KEY', how='left')\n",
        "df_merged = df_merged.merge(df_hemothorax, on='INC_KEY', how='left')\n",
        "\n",
        "# Fill missing values\n",
        "df_merged[['inj_spleen', 'inj_bladder', 'inj_bowel', 'inj_liver', 'inj_hemothorax_group']] = (\n",
        "    df_merged[['inj_spleen', 'inj_bladder', 'inj_bowel', 'inj_liver', 'inj_hemothorax_group']].fillna(0).astype(int)\n",
        ")\n",
        "\n",
        "print(\"New injury flags added based on advisor ICD-9 code list.\")\n"
      ]
    },
    {
      "cell_type": "code",
      "execution_count": 72,
      "metadata": {
        "colab": {
          "base_uri": "https://localhost:8080/"
        },
        "id": "69XQv6aR_zLN",
        "outputId": "bce80259-1c79-42ab-b4d5-754d82bec1a0"
      },
      "outputs": [
        {
          "output_type": "stream",
          "name": "stdout",
          "text": [
            "      INC_KEY  ICUDAYS  LOSDAYS  VENTDAYS\n",
            "0  11000000.0     -2.0      1.0      -2.0\n",
            "1  11000001.0     -1.0      1.0      -1.0\n",
            "2  11000002.0      1.0      1.0      -1.0\n",
            "3  11000003.0      2.0      5.0      -1.0\n",
            "4  11000004.0      2.0      2.0      -2.0\n"
          ]
        }
      ],
      "source": [
        "# Step 29\n",
        "# Extract outcome measures and merge into main dataset\n",
        "df_outcomes = df_discharge[['INC_KEY', 'ICUDAYS', 'LOSDAYS', 'VENTDAYS']].copy()\n",
        "\n",
        "# Convert columns to numeric (in case of text issues)\n",
        "df_outcomes['ICUDAYS'] = pd.to_numeric(df_outcomes['ICUDAYS'], errors='coerce')\n",
        "df_outcomes['LOSDAYS'] = pd.to_numeric(df_outcomes['LOSDAYS'], errors='coerce')\n",
        "df_outcomes['VENTDAYS'] = pd.to_numeric(df_outcomes['VENTDAYS'], errors='coerce')\n",
        "\n",
        "# Merge with your main dataset\n",
        "df_merged = df_merged.merge(df_outcomes, on='INC_KEY', how='left')\n",
        "\n",
        "# Preview\n",
        "print(df_merged[['INC_KEY', 'ICUDAYS', 'LOSDAYS', 'VENTDAYS']].head())"
      ]
    },
    {
      "cell_type": "code",
      "execution_count": 73,
      "metadata": {
        "colab": {
          "base_uri": "https://localhost:8080/"
        },
        "id": "3kdSznFm_zQt",
        "outputId": "001d7634-2d4c-4c6d-c41f-b26d34e56a2d"
      },
      "outputs": [
        {
          "output_type": "stream",
          "name": "stdout",
          "text": [
            "Unique discharge dispositions: ['Discharged home with no home services' 'Not Applicable BIU 1'\n",
            " 'Discharged/Transferred to another type of rehabilitation or long term'\n",
            " 'Discharged/Transferred to a short-term general hospital for inpatient'\n",
            " 'Discharge/Transferred to home under care of organized home health serv'\n",
            " 'Expired' 'Left against medical advice or discontinued care'\n",
            " 'Discharged/Transferred to Skilled Nursing Facility'\n",
            " 'Discharged/Transferred to an Intermediate Care Facility (ICF)'\n",
            " 'Discharged/Transferred to hospice care' 'Not Known/Not Recorded BIU 2']\n",
            "      INC_KEY                               hospdisp\n",
            "0  11000000.0                   Not Applicable BIU 1\n",
            "1  11000001.0  Discharged home with no home services\n",
            "2  11000002.0  Discharged home with no home services\n",
            "3  11000003.0  Discharged home with no home services\n",
            "4  11000004.0  Discharged home with no home services\n"
          ]
        }
      ],
      "source": [
        "# Step 30\n",
        "# Extract hospital discharge disposition and merge\n",
        "df_dispo = df_discharge[['INC_KEY', 'hospdisp']].copy()\n",
        "\n",
        "# Optional: Preview the unique values (e.g., Home, SNF, Rehab, Expired)\n",
        "print(\"Unique discharge dispositions:\", df_dispo['hospdisp'].unique())\n",
        "\n",
        "# Merge with main dataset\n",
        "df_merged = df_merged.merge(df_dispo, on='INC_KEY', how='left')\n",
        "\n",
        "# Preview result\n",
        "print(df_merged[['INC_KEY', 'hospdisp']].head())"
      ]
    },
    {
      "cell_type": "code",
      "execution_count": 74,
      "metadata": {
        "colab": {
          "base_uri": "https://localhost:8080/"
        },
        "id": "1xiWwvxyJWhe",
        "outputId": "24daef2c-ba6c-44a6-d434-852c6e1394d5"
      },
      "outputs": [
        {
          "output_type": "stream",
          "name": "stdout",
          "text": [
            "      INC_KEY  postop_complication\n",
            "0  11000000.0                    0\n",
            "1  11000001.0                    0\n",
            "2  11000002.0                    0\n",
            "3  11000003.0                    0\n",
            "4  11000004.0                    0\n"
          ]
        }
      ],
      "source": [
        "# Step 31\n",
        "# Flag patients with any ICD-9 code for postoperative complications\n",
        "postop_codes = ['998.59', '998.2', '997.4', '997.5', '996.73', '998.3']\n",
        "\n",
        "# Ensure DCODE is string\n",
        "df_dcode['DCODE'] = df_dcode['DCODE'].astype(str).str.strip()\n",
        "\n",
        "# Create binary flag\n",
        "df_dcode['postop_complication'] = df_dcode['DCODE'].isin(postop_codes).astype(int)\n",
        "\n",
        "# Reduce to patient-level\n",
        "df_postop = df_dcode.groupby('INC_KEY')['postop_complication'].max().reset_index()\n",
        "\n",
        "# Merge with main dataset\n",
        "df_merged = df_merged.merge(df_postop, on='INC_KEY', how='left')\n",
        "\n",
        "# Fill missing with 0 (no complication recorded)\n",
        "df_merged['postop_complication'] = df_merged['postop_complication'].fillna(0).astype(int)\n",
        "\n",
        "# Preview\n",
        "print(df_merged[['INC_KEY', 'postop_complication']].head())\n"
      ]
    },
    {
      "cell_type": "code",
      "execution_count": 75,
      "metadata": {
        "colab": {
          "base_uri": "https://localhost:8080/"
        },
        "id": "entIZN0KJzuL",
        "outputId": "96b2471b-7f4e-4087-e27e-b138cd10e0de"
      },
      "outputs": [
        {
          "output_type": "stream",
          "name": "stdout",
          "text": [
            "      INC_KEY  sepsis\n",
            "0  11000000.0       0\n",
            "1  11000001.0       0\n",
            "2  11000002.0       0\n",
            "3  11000003.0       0\n",
            "4  11000004.0       0\n"
          ]
        }
      ],
      "source": [
        "# Step 32\n",
        "# Flag patients with ICD-9 codes for sepsis\n",
        "sepsis_codes = ['38.9', '995.91']\n",
        "\n",
        "# Ensure DCODE column is string and trimmed\n",
        "df_dcode['DCODE'] = df_dcode['DCODE'].astype(str).str.strip()\n",
        "\n",
        "# Create binary flag\n",
        "df_dcode['sepsis'] = df_dcode['DCODE'].isin(sepsis_codes).astype(int)\n",
        "\n",
        "# Reduce to patient-level\n",
        "df_sepsis = df_dcode.groupby('INC_KEY')['sepsis'].max().reset_index()\n",
        "\n",
        "# Merge with main dataset\n",
        "df_merged = df_merged.merge(df_sepsis, on='INC_KEY', how='left')\n",
        "\n",
        "# Fill missing with 0 (no sepsis recorded)\n",
        "df_merged['sepsis'] = df_merged['sepsis'].fillna(0).astype(int)\n",
        "\n",
        "# Preview\n",
        "print(df_merged[['INC_KEY', 'sepsis']].head())\n"
      ]
    },
    {
      "cell_type": "code",
      "execution_count": 76,
      "metadata": {
        "colab": {
          "base_uri": "https://localhost:8080/"
        },
        "id": "vKgmULnRKTbE",
        "outputId": "9eaeac99-4a57-420f-fb50-24b2b2ee23cb"
      },
      "outputs": [
        {
          "output_type": "stream",
          "name": "stdout",
          "text": [
            "      INC_KEY               EDDEATH  mortality\n",
            "0  11000000.0  Not Applicable BIU 1          0\n",
            "1  11000001.0  Not Applicable BIU 1          0\n",
            "2  11000002.0  Not Applicable BIU 1          0\n",
            "3  11000003.0  Not Applicable BIU 1          0\n",
            "4  11000004.0  Not Applicable BIU 1          0\n"
          ]
        }
      ],
      "source": [
        "#Step33\n",
        "# Convert EDDEATH to a clean binary mortality variable\n",
        "df_merged['mortality'] = df_merged['EDDEATH'].map(lambda x: 1 if str(x).strip().lower() in ['yes', '1'] else 0)\n",
        "\n",
        "# Preview\n",
        "print(df_merged[['INC_KEY', 'EDDEATH', 'mortality']].head())"
      ]
    },
    {
      "cell_type": "code",
      "execution_count": 77,
      "metadata": {
        "id": "rx4ET5YvLtYA"
      },
      "outputs": [],
      "source": [
        "# Step34\n",
        "# Convert ICUDAYS to numeric (invalid entries will become NaN)\n",
        "df_discharge['ICUDAYS'] = pd.to_numeric(df_discharge['ICUDAYS'], errors='coerce')\n",
        "\n",
        "# Step: Reduce to patient level\n",
        "df_icu = df_discharge[['INC_KEY', 'ICUDAYS']].copy()\n",
        "\n",
        "# Step: Merge with main dataset\n",
        "df_merged = df_merged.merge(df_icu, on='INC_KEY', how='left')"
      ]
    },
    {
      "cell_type": "code",
      "execution_count": 78,
      "metadata": {
        "id": "1w0Y_NWKMWMi"
      },
      "outputs": [],
      "source": [
        "# Step35\n",
        "# Convert LOSDAYS to numeric (in case of bad entries)\n",
        "df_discharge['LOSDAYS'] = pd.to_numeric(df_discharge['LOSDAYS'], errors='coerce')\n",
        "\n",
        "# Step: Extract and merge with your dataset\n",
        "df_los = df_discharge[['INC_KEY', 'LOSDAYS']].copy()\n",
        "df_merged = df_merged.merge(df_los, on='INC_KEY', how='left')"
      ]
    },
    {
      "cell_type": "code",
      "execution_count": 79,
      "metadata": {
        "id": "1ock9Wd4M8eI"
      },
      "outputs": [],
      "source": [
        "# Step36\n",
        "# Convert VENTDAYS to numeric (in case of missing or invalid entries)\n",
        "df_discharge['VENTDAYS'] = pd.to_numeric(df_discharge['VENTDAYS'], errors='coerce')\n",
        "\n",
        "# Step: Extract and merge with your main dataset\n",
        "df_vent = df_discharge[['INC_KEY', 'VENTDAYS']].copy()\n",
        "df_merged = df_merged.merge(df_vent, on='INC_KEY', how='left')"
      ]
    },
    {
      "cell_type": "code",
      "source": [
        "#Step37\n",
        "# List of rib fracture ICD-9 codes\n",
        "rib_fracture_codes = [\n",
        "    '807.01', '807.11', '807.02', '807.12', '807.03', '807.04', '807.05',\n",
        "    '807.06', '807.07', '807.08', '807.09', '807.13', '807.14', '807.15',\n",
        "    '807.16', '807.17', '807.18', '807.19'\n",
        "]\n",
        "\n",
        "# Find dcode columns\n",
        "dcode_cols = [col for col in df_merged.columns if col.startswith('dcode')]\n",
        "\n",
        "# Create binary flag for rib fracture\n",
        "df_merged['inj_rib_fracture'] = df_merged[dcode_cols].isin(rib_fracture_codes).any(axis=1).astype(int)"
      ],
      "metadata": {
        "id": "jP-2DrtX_xLf"
      },
      "execution_count": 80,
      "outputs": []
    },
    {
      "cell_type": "code",
      "source": [
        "print(df_merged.columns.tolist())"
      ],
      "metadata": {
        "colab": {
          "base_uri": "https://localhost:8080/"
        },
        "id": "EYN-klwdgoBs",
        "outputId": "f5e6b1aa-cce9-47fb-8aad-2402ef77699e"
      },
      "execution_count": 81,
      "outputs": [
        {
          "output_type": "stream",
          "name": "stdout",
          "text": [
            "['INC_KEY', 'YOINJ', 'LOCATION', 'LECODE', 'TRANSFER', 'ALCOHOL', 'DRUG1', 'DRUG2', 'EDDISP', 'EDDEATH', 'AGE', 'GENDER', 'RACE1', 'RACE2', 'ETHNIC', 'PAYMENT', 'COMORKEY', 'COMORDES', 'AISVER', 'PREDOT', 'SEVERITY', 'ECODE', 'ECODEDES', 'MECHANISM', 'mortality', 'ISS', 'inj_pneumothorax', 'inj_hemothorax', 'inj_lung', 'inj_heart', 'inj_respiratory_failure', 'inj_pleural_effusion', 'inj_encephalopathy', 'inj_mental_status', 'inj_cns_complication', 'inj_hemorrhage_complication', 'inj_shock_other', 'inj_septicemia', 'inj_sepsis', 'inj_postop_infection', 'inj_accidental_laceration', 'inj_digestive_complication', 'inj_urinary_complication', 'inj_device_infection', 'inj_wound_disruption', 'inj_pulm_insuff', 'inj_spleen', 'inj_bladder', 'inj_bowel', 'inj_liver', 'inj_hemothorax_group', 'ICUDAYS_x', 'LOSDAYS_x', 'VENTDAYS_x', 'hospdisp', 'postop_complication', 'sepsis', 'ICUDAYS_y', 'LOSDAYS_y', 'VENTDAYS_y', 'inj_rib_fracture']\n"
          ]
        }
      ]
    },
    {
      "cell_type": "code",
      "source": [
        "#Step38\n",
        "# Ensure DCODE column is string\n",
        "df_dcode['DCODE'] = df_dcode['DCODE'].astype(str).str.strip()\n",
        "\n",
        "# List of thoracic aorta injury codes from advisor\n",
        "thoracic_aorta_codes = ['9010', '44101', '4412', '4410']\n",
        "\n",
        "# Create binary flag for thoracic aorta injury\n",
        "df_dcode['inj_thoracic_aorta'] = df_dcode['DCODE'].isin(thoracic_aorta_codes).astype(int)\n",
        "\n",
        "# Step: Reduce to patient level\n",
        "df_thoracic_aorta = df_dcode.groupby('INC_KEY')['inj_thoracic_aorta'].max().reset_index()\n",
        "\n",
        "# Step: Merge with your main dataset\n",
        "df_merged = df_merged.merge(df_thoracic_aorta, on='INC_KEY', how='left')\n",
        "\n",
        "# Fill missing with 0\n",
        "df_merged['inj_thoracic_aorta'] = df_merged['inj_thoracic_aorta'].fillna(0).astype(int)\n",
        "\n",
        "# Preview\n",
        "print(df_merged[['INC_KEY', 'inj_thoracic_aorta']].head())"
      ],
      "metadata": {
        "colab": {
          "base_uri": "https://localhost:8080/"
        },
        "id": "OLMLABpWfj04",
        "outputId": "23776df8-806c-495b-9e22-bc5b4bbfdf0a"
      },
      "execution_count": 82,
      "outputs": [
        {
          "output_type": "stream",
          "name": "stdout",
          "text": [
            "      INC_KEY  inj_thoracic_aorta\n",
            "0  11000000.0                   0\n",
            "1  11000001.0                   0\n",
            "2  11000002.0                   0\n",
            "3  11000003.0                   0\n",
            "4  11000004.0                   0\n"
          ]
        }
      ]
    },
    {
      "cell_type": "code",
      "source": [
        "#Step39\n",
        "# Abdominal aorta injury code from your advisor\n",
        "abdominal_aorta_codes = ['9020']\n",
        "\n",
        "# Create binary indicator for abdominal aorta injury\n",
        "df_dcode['inj_abdominal_aorta'] = df_dcode['DCODE'].isin(abdominal_aorta_codes).astype(int)\n",
        "\n",
        "# Aggregate to patient level\n",
        "df_abd_aorta = df_dcode.groupby('INC_KEY')['inj_abdominal_aorta'].max().reset_index()\n",
        "\n",
        "# Merge with main dataset\n",
        "df_merged = df_merged.merge(df_abd_aorta, on='INC_KEY', how='left')\n",
        "\n",
        "# Fill missing with 0\n",
        "df_merged['inj_abdominal_aorta'] = df_merged['inj_abdominal_aorta'].fillna(0).astype(int)\n",
        "\n",
        "# Optional: Check results\n",
        "print(df_merged[['INC_KEY', 'inj_abdominal_aorta']].head())\n"
      ],
      "metadata": {
        "colab": {
          "base_uri": "https://localhost:8080/"
        },
        "id": "lLbvoW91lx_r",
        "outputId": "3b7b69b2-5ad9-48ca-bf59-5fcee63b17ed"
      },
      "execution_count": 83,
      "outputs": [
        {
          "output_type": "stream",
          "name": "stdout",
          "text": [
            "      INC_KEY  inj_abdominal_aorta\n",
            "0  11000000.0                    0\n",
            "1  11000001.0                    0\n",
            "2  11000002.0                    0\n",
            "3  11000003.0                    0\n",
            "4  11000004.0                    0\n"
          ]
        }
      ]
    },
    {
      "cell_type": "code",
      "execution_count": 84,
      "metadata": {
        "colab": {
          "base_uri": "https://localhost:8080/"
        },
        "id": "bxOAHJrDod_r",
        "outputId": "8102d7a1-a6d0-478a-8fe9-cba13fe70fb5"
      },
      "outputs": [
        {
          "output_type": "stream",
          "name": "stdout",
          "text": [
            "Index(['INC_KEY', 'YOINJ', 'LOCATION', 'LECODE', 'TRANSFER', 'ALCOHOL',\n",
            "       'DRUG1', 'DRUG2', 'EDDISP', 'EDDEATH', 'AGE', 'GENDER', 'RACE1',\n",
            "       'RACE2', 'ETHNIC', 'PAYMENT', 'COMORKEY', 'COMORDES', 'AISVER',\n",
            "       'PREDOT', 'SEVERITY', 'ECODE', 'ECODEDES', 'MECHANISM', 'mortality',\n",
            "       'ISS', 'inj_pneumothorax', 'inj_hemothorax', 'inj_lung', 'inj_heart',\n",
            "       'inj_respiratory_failure', 'inj_pleural_effusion', 'inj_encephalopathy',\n",
            "       'inj_mental_status', 'inj_cns_complication',\n",
            "       'inj_hemorrhage_complication', 'inj_shock_other', 'inj_septicemia',\n",
            "       'inj_sepsis', 'inj_postop_infection', 'inj_accidental_laceration',\n",
            "       'inj_digestive_complication', 'inj_urinary_complication',\n",
            "       'inj_device_infection', 'inj_wound_disruption', 'inj_pulm_insuff',\n",
            "       'inj_spleen', 'inj_bladder', 'inj_bowel', 'inj_liver',\n",
            "       'inj_hemothorax_group', 'ICUDAYS_x', 'LOSDAYS_x', 'VENTDAYS_x',\n",
            "       'hospdisp', 'postop_complication', 'sepsis', 'ICUDAYS_y', 'LOSDAYS_y',\n",
            "       'VENTDAYS_y', 'inj_rib_fracture', 'inj_thoracic_aorta',\n",
            "       'inj_abdominal_aorta'],\n",
            "      dtype='object')\n"
          ]
        }
      ],
      "source": [
        "#step40\n",
        "print(df_merged.columns)"
      ]
    },
    {
      "cell_type": "code",
      "source": [
        "#Step41\n",
        "# Fix overlapping ICU/LOS/VENT columns by choosing only one version\n",
        "df_merged['ICUDAYS'] = df_merged[['ICUDAYS_x', 'ICUDAYS_y']].bfill(axis=1).iloc[:, 0]\n",
        "df_merged['LOSDAYS'] = df_merged[['LOSDAYS_x', 'LOSDAYS_y']].bfill(axis=1).iloc[:, 0]\n",
        "df_merged['VENTDAYS'] = df_merged[['VENTDAYS_x', 'VENTDAYS_y']].bfill(axis=1).iloc[:, 0]\n",
        "\n",
        "# Drop the duplicate columns\n",
        "df_merged.drop(columns=['ICUDAYS_x', 'ICUDAYS_y', 'LOSDAYS_x', 'LOSDAYS_y', 'VENTDAYS_x', 'VENTDAYS_y'], inplace=True)"
      ],
      "metadata": {
        "id": "K2SHEWqhZPHN"
      },
      "execution_count": 85,
      "outputs": []
    },
    {
      "cell_type": "code",
      "execution_count": 88,
      "metadata": {
        "id": "dh0UlkV4zGOy"
      },
      "outputs": [],
      "source": [
        "#First Run Step 43\n",
        "#Step42\n",
        "# Add spleen, bladder, bowel, liver injuries\n",
        "spleen_codes = [f\"865.{str(i).zfill(2)}\" for i in range(20)]  # 865.00 to 865.19\n",
        "bladder_codes = ['867.0', '867.1']\n",
        "bowel_codes = [f\"863.{i}\" for i in range(10)]  # 863.0 to 863.9\n",
        "liver_codes = [f\"864.{str(i).zfill(2)}\" for i in range(20)]  # 864.00 to 864.19\n",
        "\n",
        "df_dcode['inj_spleen'] = df_dcode['DCODE'].isin(spleen_codes).astype(int)\n",
        "df_dcode['inj_bladder'] = df_dcode['DCODE'].isin(bladder_codes).astype(int)\n",
        "df_dcode['inj_bowel'] = df_dcode['DCODE'].isin(bowel_codes).astype(int)\n",
        "df_dcode['inj_liver'] = df_dcode['DCODE'].isin(liver_codes).astype(int)\n",
        "\n",
        "# Reduce each to patient-level\n",
        "df_spleen = df_dcode.groupby('INC_KEY')['inj_spleen'].max().reset_index()\n",
        "df_bladder = df_dcode.groupby('INC_KEY')['inj_bladder'].max().reset_index()\n",
        "df_bowel = df_dcode.groupby('INC_KEY')['inj_bowel'].max().reset_index()\n",
        "df_liver = df_dcode.groupby('INC_KEY')['inj_liver'].max().reset_index()\n",
        "\n",
        "# Merge them into df_merged\n",
        "df_merged = df_merged.merge(df_spleen, on='INC_KEY', how='left')\n",
        "df_merged = df_merged.merge(df_bladder, on='INC_KEY', how='left')\n",
        "df_merged = df_merged.merge(df_bowel, on='INC_KEY', how='left')\n",
        "df_merged = df_merged.merge(df_liver, on='INC_KEY', how='left')\n",
        "\n",
        "# Fill NaNs\n",
        "df_merged[['inj_spleen', 'inj_bladder', 'inj_bowel', 'inj_liver']] = df_merged[\n",
        "    ['inj_spleen', 'inj_bladder', 'inj_bowel', 'inj_liver']].fillna(0).astype(int)"
      ]
    },
    {
      "cell_type": "code",
      "execution_count": 87,
      "metadata": {
        "id": "g1MQsVyT6IYP"
      },
      "outputs": [],
      "source": [
        "#Step43\n",
        "# Ensure DCODE is string and trimmed\n",
        "df_dcode['DCODE'] = df_dcode['DCODE'].astype(str).str.strip()\n",
        "\n",
        "# Create injury label: 1 if any of the diaphragmatic codes exist\n",
        "df_dcode['Has_Diaphragmatic_Injury'] = df_dcode['DCODE'].isin(['862.0', '862.1']).astype(int)\n",
        "\n",
        "# Reduce to patient level\n",
        "df_labels = df_dcode.groupby('INC_KEY')['Has_Diaphragmatic_Injury'].max().reset_index()\n",
        "\n",
        "# Drop the old label column if it exists\n",
        "if 'Has_Diaphragmatic_Injury' in df_merged.columns:\n",
        "    df_merged = df_merged.drop(columns=['Has_Diaphragmatic_Injury'])\n",
        "\n",
        "# Merge label into merged data\n",
        "df_merged = df_merged.merge(df_labels, on='INC_KEY', how='left')\n",
        "\n",
        "# Fill missing with 0\n",
        "df_merged['Has_Diaphragmatic_Injury'] = df_merged['Has_Diaphragmatic_Injury'].fillna(0).astype(int)"
      ]
    },
    {
      "cell_type": "code",
      "execution_count": 89,
      "metadata": {
        "id": "0uV1gcze4pOU"
      },
      "outputs": [],
      "source": [
        "#Step44\n",
        "# Ensure DCODE is string and trimmed\n",
        "df_dcode['DCODE'] = df_dcode['DCODE'].astype(str).str.strip()\n",
        "\n",
        "# Create injury label\n",
        "df_dcode['Has_Diaphragmatic_Injury'] = df_dcode['DCODE'].isin(['862.0', '862.1']).astype(int)\n",
        "\n",
        "# Reduce to patient level\n",
        "df_labels = df_dcode.groupby('INC_KEY')['Has_Diaphragmatic_Injury'].max().reset_index()\n",
        "\n",
        "# Drop old label if exists\n",
        "if 'Has_Diaphragmatic_Injury' in df_merged.columns:\n",
        "    df_merged = df_merged.drop(columns=['Has_Diaphragmatic_Injury'])\n",
        "\n",
        "# Merge with df_merged\n",
        "df_merged = df_merged.merge(df_labels, on='INC_KEY', how='left')\n",
        "\n",
        "# Fill missing\n",
        "df_merged['Has_Diaphragmatic_Injury'] = df_merged['Has_Diaphragmatic_Injury'].fillna(0).astype(int)"
      ]
    },
    {
      "cell_type": "code",
      "source": [
        "# Step 45: Keep clinical + new injury variables\n",
        "clinical_features = [\n",
        "    'AGE', 'GENDER', 'RACE1', 'ETHNIC', 'ISS', 'MECHANISM',\n",
        "    'inj_pneumothorax', 'inj_hemothorax', 'inj_lung', 'inj_heart',\n",
        "    'inj_respiratory_failure', 'inj_pleural_effusion', 'inj_cns_complication',\n",
        "    'inj_hemorrhage_complication', 'inj_shock_other',\n",
        "    'inj_septicemia', 'inj_sepsis',\n",
        "    'inj_accidental_laceration',\n",
        "    'inj_urinary_complication', 'inj_pulm_insuff',\n",
        "    'inj_spleen', 'inj_bladder', 'inj_bowel', 'inj_liver', 'inj_rib_fracture', 'inj_thoracic_aorta', 'inj_abdominal_aorta'\n",
        "]\n",
        "\n",
        "columns_to_keep = clinical_features + ['INC_KEY', 'Has_Diaphragmatic_Injury']\n",
        "df_merged = df_merged[columns_to_keep].copy()\n"
      ],
      "metadata": {
        "id": "WQdIaPLUNHXC"
      },
      "execution_count": 90,
      "outputs": []
    },
    {
      "cell_type": "markdown",
      "source": [
        "OTHER YEARS"
      ],
      "metadata": {
        "id": "SJGM_SDk8KvH"
      }
    },
    {
      "cell_type": "code",
      "source": [
        "#Step46\n",
        "# Load cleaned data for other years\n",
        "df_2011 = pd.read_csv('/content/drive/My Drive/Project with Medical School and Paria/NTDB_2011/df_cleaned_2011.csv')\n",
        "df_2012 = pd.read_csv('/content/drive/My Drive/Project with Medical School and Paria/NTDB_2012/df_cleaned_2012.csv')\n",
        "df_2013 = pd.read_csv('/content/drive/My Drive/Project with Medical School and Paria/NTDB_2013/df_cleaned_2013.csv')\n",
        "df_2014 = pd.read_csv('/content/drive/My Drive/Project with Medical School and Paria/NTDB_2014/df_cleaned_2014.csv')\n",
        "#df_2015 = pd.read_csv('/content/drive/My Drive/Project with Medical School and Paria/NTDB_2015/df_cleaned_2015.csv')"
      ],
      "metadata": {
        "colab": {
          "base_uri": "https://localhost:8080/"
        },
        "id": "BMKCRwis8IZt",
        "outputId": "6847fc26-f25d-4466-d24c-fb6578b221ff"
      },
      "execution_count": 91,
      "outputs": [
        {
          "output_type": "stream",
          "name": "stderr",
          "text": [
            "/tmp/ipython-input-91-3411070385.py:3: DtypeWarning: Columns (5) have mixed types. Specify dtype option on import or set low_memory=False.\n",
            "  df_2011 = pd.read_csv('/content/drive/My Drive/Project with Medical School and Paria/NTDB_2011/df_cleaned_2011.csv')\n",
            "/tmp/ipython-input-91-3411070385.py:4: DtypeWarning: Columns (5) have mixed types. Specify dtype option on import or set low_memory=False.\n",
            "  df_2012 = pd.read_csv('/content/drive/My Drive/Project with Medical School and Paria/NTDB_2012/df_cleaned_2012.csv')\n",
            "/tmp/ipython-input-91-3411070385.py:5: DtypeWarning: Columns (5) have mixed types. Specify dtype option on import or set low_memory=False.\n",
            "  df_2013 = pd.read_csv('/content/drive/My Drive/Project with Medical School and Paria/NTDB_2013/df_cleaned_2013.csv')\n"
          ]
        }
      ]
    },
    {
      "cell_type": "code",
      "source": [
        "#Step47\n",
        "# Combine all years\n",
        "df_all_years = pd.concat([\n",
        "    df_merged, df_2011, df_2012, df_2013, df_2014\n",
        "], axis=0, ignore_index=True)"
      ],
      "metadata": {
        "id": "_8wuBebA8VOx"
      },
      "execution_count": 92,
      "outputs": []
    },
    {
      "cell_type": "code",
      "source": [
        "df_all_years.shape"
      ],
      "metadata": {
        "colab": {
          "base_uri": "https://localhost:8080/"
        },
        "id": "3WhK_WAZPTLG",
        "outputId": "f2714f5e-844a-41d9-a3b7-c4fb798851b8"
      },
      "execution_count": 117,
      "outputs": [
        {
          "output_type": "execute_result",
          "data": {
            "text/plain": [
              "(8988697, 31)"
            ]
          },
          "metadata": {},
          "execution_count": 117
        }
      ]
    },
    {
      "cell_type": "code",
      "source": [
        "df_all_years['Has_Diaphragmatic_Injury'].value_counts()"
      ],
      "metadata": {
        "colab": {
          "base_uri": "https://localhost:8080/",
          "height": 178
        },
        "id": "tF1USS6ePVRo",
        "outputId": "bfa21f7f-9537-4596-d218-e3327cdc9108"
      },
      "execution_count": 118,
      "outputs": [
        {
          "output_type": "execute_result",
          "data": {
            "text/plain": [
              "Has_Diaphragmatic_Injury\n",
              "0    8960781\n",
              "1      27916\n",
              "Name: count, dtype: int64"
            ],
            "text/html": [
              "<div>\n",
              "<style scoped>\n",
              "    .dataframe tbody tr th:only-of-type {\n",
              "        vertical-align: middle;\n",
              "    }\n",
              "\n",
              "    .dataframe tbody tr th {\n",
              "        vertical-align: top;\n",
              "    }\n",
              "\n",
              "    .dataframe thead th {\n",
              "        text-align: right;\n",
              "    }\n",
              "</style>\n",
              "<table border=\"1\" class=\"dataframe\">\n",
              "  <thead>\n",
              "    <tr style=\"text-align: right;\">\n",
              "      <th></th>\n",
              "      <th>count</th>\n",
              "    </tr>\n",
              "    <tr>\n",
              "      <th>Has_Diaphragmatic_Injury</th>\n",
              "      <th></th>\n",
              "    </tr>\n",
              "  </thead>\n",
              "  <tbody>\n",
              "    <tr>\n",
              "      <th>0</th>\n",
              "      <td>8960781</td>\n",
              "    </tr>\n",
              "    <tr>\n",
              "      <th>1</th>\n",
              "      <td>27916</td>\n",
              "    </tr>\n",
              "  </tbody>\n",
              "</table>\n",
              "</div><br><label><b>dtype:</b> int64</label>"
            ]
          },
          "metadata": {},
          "execution_count": 118
        }
      ]
    },
    {
      "cell_type": "code",
      "source": [
        "print(df_all_years.shape)\n",
        "print(df_all_years['Has_Diaphragmatic_Injury'].value_counts())"
      ],
      "metadata": {
        "colab": {
          "base_uri": "https://localhost:8080/"
        },
        "id": "SBJyKn9V8VVn",
        "outputId": "15501eff-b6a7-4873-a1a6-1c0e9a2f85bd"
      },
      "execution_count": 93,
      "outputs": [
        {
          "output_type": "stream",
          "name": "stdout",
          "text": [
            "(8988697, 31)\n",
            "Has_Diaphragmatic_Injury\n",
            "0    8960781\n",
            "1      27916\n",
            "Name: count, dtype: int64\n"
          ]
        }
      ]
    },
    {
      "cell_type": "code",
      "source": [
        "#Step48\n",
        "df_merged = df_all_years.copy()"
      ],
      "metadata": {
        "id": "PnSF_qzh8Vgk"
      },
      "execution_count": 95,
      "outputs": []
    },
    {
      "cell_type": "code",
      "source": [
        "# Step 49: Prepare features and label for modeling\n",
        "\n",
        "# Define label (what we want to predict)\n",
        "y = df_merged['Has_Diaphragmatic_Injury']\n",
        "\n",
        "# Drop ID, label, and non-predictive hospital-use features\n",
        "columns_to_drop = [col for col in ['INC_KEY', 'Has_Diaphragmatic_Injury', 'mortality',\n",
        "                                   'ICUDAYS', 'LOSDAYS', 'VENTDAYS', 'sepsis', 'postop_complication']\n",
        "                   if col in df_merged.columns]\n",
        "\n",
        "# Select features\n",
        "X = df_merged.drop(columns=columns_to_drop)\n",
        "\n",
        "# Split the dataset\n",
        "from sklearn.model_selection import train_test_split\n",
        "X_train, X_test, y_train, y_test = train_test_split(\n",
        "    X, y, test_size=0.3, stratify=y, random_state=42)\n",
        "# New: Encode categorical features with individual LabelEncoders\n",
        "from sklearn.preprocessing import LabelEncoder\n",
        "\n",
        "X_train_encoded = X_train.copy()\n",
        "X_test_encoded = X_test.copy()\n",
        "\n",
        "cat_cols = X_train_encoded.select_dtypes(include='object').columns\n",
        "\n",
        "from sklearn.preprocessing import LabelEncoder\n",
        "\n",
        "encoders = {}\n",
        "for col in cat_cols:\n",
        "    le = LabelEncoder()\n",
        "    X_train_encoded[col] = le.fit_transform(X_train_encoded[col].astype(str))\n",
        "\n",
        "    # Handle unseen labels in test set\n",
        "    X_test_encoded[col] = X_test_encoded[col].astype(str).apply(lambda x: x if x in le.classes_ else 'UNKNOWN')\n",
        "\n",
        "    # Add 'UNKNOWN' to classes if not present\n",
        "    if 'UNKNOWN' not in le.classes_:\n",
        "        le.classes_ = np.append(le.classes_, 'UNKNOWN')\n",
        "\n",
        "    X_test_encoded[col] = le.transform(X_test_encoded[col])\n",
        "    encoders[col] = le\n",
        "\n"
      ],
      "metadata": {
        "id": "mwMJ2kmi-pbv"
      },
      "execution_count": 96,
      "outputs": []
    },
    {
      "cell_type": "code",
      "execution_count": 97,
      "metadata": {
        "colab": {
          "base_uri": "https://localhost:8080/"
        },
        "id": "BMEqcgXk3MkB",
        "outputId": "25adbeef-0f29-43c6-e2ef-90c030a1779a"
      },
      "outputs": [
        {
          "output_type": "stream",
          "name": "stdout",
          "text": [
            "Class distribution in training set:\n",
            "Has_Diaphragmatic_Injury\n",
            "0    6272546\n",
            "1      19541\n",
            "Name: count, dtype: int64\n"
          ]
        }
      ],
      "source": [
        "print(\"Class distribution in training set:\")\n",
        "print(y_train.value_counts())"
      ]
    },
    {
      "cell_type": "code",
      "source": [
        "#Step50\n",
        "# Fill missing values (NaN) with a placeholder, e.g., -999\n",
        "X_train_encoded = X_train_encoded.fillna(-999)\n",
        "X_test_encoded = X_test_encoded.fillna(-999)"
      ],
      "metadata": {
        "id": "9ImDIRNAEq1-"
      },
      "execution_count": 98,
      "outputs": []
    },
    {
      "cell_type": "code",
      "execution_count": 99,
      "metadata": {
        "colab": {
          "base_uri": "https://localhost:8080/"
        },
        "id": "TvXLCjLn2G4w",
        "outputId": "87f3fda8-18f1-4d3a-f2ab-d4241c75ef1b"
      },
      "outputs": [
        {
          "output_type": "stream",
          "name": "stdout",
          "text": [
            "\n",
            " Random Forest Results:\n",
            "Accuracy: 0.9679764593322727\n",
            "\n",
            "Confusion Matrix:\n",
            " [[2605446   82789]\n",
            " [   3566    4809]]\n",
            "\n",
            "Classification Report:\n",
            "               precision    recall  f1-score   support\n",
            "\n",
            "           0       1.00      0.97      0.98   2688235\n",
            "           1       0.05      0.57      0.10      8375\n",
            "\n",
            "    accuracy                           0.97   2696610\n",
            "   macro avg       0.53      0.77      0.54   2696610\n",
            "weighted avg       1.00      0.97      0.98   2696610\n",
            "\n"
          ]
        }
      ],
      "source": [
        "# Step 51: Train and evaluate models\n",
        "\n",
        "from sklearn.linear_model import LogisticRegression\n",
        "from sklearn.ensemble import RandomForestClassifier\n",
        "from sklearn.metrics import accuracy_score, confusion_matrix, classification_report\n",
        "\n",
        "# --- Logistic Regression ---\n",
        "#log_model = LogisticRegression(max_iter=1000, class_weight='balanced', solver='liblinear')\n",
        "#log_model.fit(X_train_encoded, y_train)\n",
        "\n",
        "\n",
        "\n",
        "#y_pred_log = log_model.predict(X_test_encoded)\n",
        "\n",
        "#print(\"Logistic Regression Results:\")\n",
        "#print(\"Accuracy:\", accuracy_score(y_test, y_pred_log))\n",
        "#print(\"\\nConfusion Matrix:\\n\", confusion_matrix(y_test, y_pred_log))\n",
        "#print(\"\\nClassification Report:\\n\", classification_report(y_test, y_pred_log))\n",
        "\n",
        "\n",
        "# --- Random Forest ---\n",
        "rf_model = RandomForestClassifier(n_estimators=100, class_weight='balanced', random_state=42)\n",
        "rf_model.fit(X_train_encoded, y_train)\n",
        "\n",
        "y_pred_rf = rf_model.predict(X_test_encoded)\n",
        "\n",
        "print(\"\\n Random Forest Results:\")\n",
        "print(\"Accuracy:\", accuracy_score(y_test, y_pred_rf))\n",
        "print(\"\\nConfusion Matrix:\\n\", confusion_matrix(y_test, y_pred_rf))\n",
        "print(\"\\nClassification Report:\\n\", classification_report(y_test, y_pred_rf))"
      ]
    },
    {
      "cell_type": "code",
      "source": [
        "#Step 52\n",
        "from sklearn.linear_model import LogisticRegression\n",
        "\n",
        "log_model = LogisticRegression(max_iter=1000, class_weight='balanced', solver='liblinear')\n",
        "log_model.fit(X_train_encoded, y_train)"
      ],
      "metadata": {
        "colab": {
          "base_uri": "https://localhost:8080/",
          "height": 80
        },
        "id": "ZWpYgjrLPrcA",
        "outputId": "bf42c40c-5f34-438b-9d2f-1d9b2edbf432"
      },
      "execution_count": 100,
      "outputs": [
        {
          "output_type": "execute_result",
          "data": {
            "text/plain": [
              "LogisticRegression(class_weight='balanced', max_iter=1000, solver='liblinear')"
            ],
            "text/html": [
              "<style>#sk-container-id-1 {\n",
              "  /* Definition of color scheme common for light and dark mode */\n",
              "  --sklearn-color-text: #000;\n",
              "  --sklearn-color-text-muted: #666;\n",
              "  --sklearn-color-line: gray;\n",
              "  /* Definition of color scheme for unfitted estimators */\n",
              "  --sklearn-color-unfitted-level-0: #fff5e6;\n",
              "  --sklearn-color-unfitted-level-1: #f6e4d2;\n",
              "  --sklearn-color-unfitted-level-2: #ffe0b3;\n",
              "  --sklearn-color-unfitted-level-3: chocolate;\n",
              "  /* Definition of color scheme for fitted estimators */\n",
              "  --sklearn-color-fitted-level-0: #f0f8ff;\n",
              "  --sklearn-color-fitted-level-1: #d4ebff;\n",
              "  --sklearn-color-fitted-level-2: #b3dbfd;\n",
              "  --sklearn-color-fitted-level-3: cornflowerblue;\n",
              "\n",
              "  /* Specific color for light theme */\n",
              "  --sklearn-color-text-on-default-background: var(--sg-text-color, var(--theme-code-foreground, var(--jp-content-font-color1, black)));\n",
              "  --sklearn-color-background: var(--sg-background-color, var(--theme-background, var(--jp-layout-color0, white)));\n",
              "  --sklearn-color-border-box: var(--sg-text-color, var(--theme-code-foreground, var(--jp-content-font-color1, black)));\n",
              "  --sklearn-color-icon: #696969;\n",
              "\n",
              "  @media (prefers-color-scheme: dark) {\n",
              "    /* Redefinition of color scheme for dark theme */\n",
              "    --sklearn-color-text-on-default-background: var(--sg-text-color, var(--theme-code-foreground, var(--jp-content-font-color1, white)));\n",
              "    --sklearn-color-background: var(--sg-background-color, var(--theme-background, var(--jp-layout-color0, #111)));\n",
              "    --sklearn-color-border-box: var(--sg-text-color, var(--theme-code-foreground, var(--jp-content-font-color1, white)));\n",
              "    --sklearn-color-icon: #878787;\n",
              "  }\n",
              "}\n",
              "\n",
              "#sk-container-id-1 {\n",
              "  color: var(--sklearn-color-text);\n",
              "}\n",
              "\n",
              "#sk-container-id-1 pre {\n",
              "  padding: 0;\n",
              "}\n",
              "\n",
              "#sk-container-id-1 input.sk-hidden--visually {\n",
              "  border: 0;\n",
              "  clip: rect(1px 1px 1px 1px);\n",
              "  clip: rect(1px, 1px, 1px, 1px);\n",
              "  height: 1px;\n",
              "  margin: -1px;\n",
              "  overflow: hidden;\n",
              "  padding: 0;\n",
              "  position: absolute;\n",
              "  width: 1px;\n",
              "}\n",
              "\n",
              "#sk-container-id-1 div.sk-dashed-wrapped {\n",
              "  border: 1px dashed var(--sklearn-color-line);\n",
              "  margin: 0 0.4em 0.5em 0.4em;\n",
              "  box-sizing: border-box;\n",
              "  padding-bottom: 0.4em;\n",
              "  background-color: var(--sklearn-color-background);\n",
              "}\n",
              "\n",
              "#sk-container-id-1 div.sk-container {\n",
              "  /* jupyter's `normalize.less` sets `[hidden] { display: none; }`\n",
              "     but bootstrap.min.css set `[hidden] { display: none !important; }`\n",
              "     so we also need the `!important` here to be able to override the\n",
              "     default hidden behavior on the sphinx rendered scikit-learn.org.\n",
              "     See: https://github.com/scikit-learn/scikit-learn/issues/21755 */\n",
              "  display: inline-block !important;\n",
              "  position: relative;\n",
              "}\n",
              "\n",
              "#sk-container-id-1 div.sk-text-repr-fallback {\n",
              "  display: none;\n",
              "}\n",
              "\n",
              "div.sk-parallel-item,\n",
              "div.sk-serial,\n",
              "div.sk-item {\n",
              "  /* draw centered vertical line to link estimators */\n",
              "  background-image: linear-gradient(var(--sklearn-color-text-on-default-background), var(--sklearn-color-text-on-default-background));\n",
              "  background-size: 2px 100%;\n",
              "  background-repeat: no-repeat;\n",
              "  background-position: center center;\n",
              "}\n",
              "\n",
              "/* Parallel-specific style estimator block */\n",
              "\n",
              "#sk-container-id-1 div.sk-parallel-item::after {\n",
              "  content: \"\";\n",
              "  width: 100%;\n",
              "  border-bottom: 2px solid var(--sklearn-color-text-on-default-background);\n",
              "  flex-grow: 1;\n",
              "}\n",
              "\n",
              "#sk-container-id-1 div.sk-parallel {\n",
              "  display: flex;\n",
              "  align-items: stretch;\n",
              "  justify-content: center;\n",
              "  background-color: var(--sklearn-color-background);\n",
              "  position: relative;\n",
              "}\n",
              "\n",
              "#sk-container-id-1 div.sk-parallel-item {\n",
              "  display: flex;\n",
              "  flex-direction: column;\n",
              "}\n",
              "\n",
              "#sk-container-id-1 div.sk-parallel-item:first-child::after {\n",
              "  align-self: flex-end;\n",
              "  width: 50%;\n",
              "}\n",
              "\n",
              "#sk-container-id-1 div.sk-parallel-item:last-child::after {\n",
              "  align-self: flex-start;\n",
              "  width: 50%;\n",
              "}\n",
              "\n",
              "#sk-container-id-1 div.sk-parallel-item:only-child::after {\n",
              "  width: 0;\n",
              "}\n",
              "\n",
              "/* Serial-specific style estimator block */\n",
              "\n",
              "#sk-container-id-1 div.sk-serial {\n",
              "  display: flex;\n",
              "  flex-direction: column;\n",
              "  align-items: center;\n",
              "  background-color: var(--sklearn-color-background);\n",
              "  padding-right: 1em;\n",
              "  padding-left: 1em;\n",
              "}\n",
              "\n",
              "\n",
              "/* Toggleable style: style used for estimator/Pipeline/ColumnTransformer box that is\n",
              "clickable and can be expanded/collapsed.\n",
              "- Pipeline and ColumnTransformer use this feature and define the default style\n",
              "- Estimators will overwrite some part of the style using the `sk-estimator` class\n",
              "*/\n",
              "\n",
              "/* Pipeline and ColumnTransformer style (default) */\n",
              "\n",
              "#sk-container-id-1 div.sk-toggleable {\n",
              "  /* Default theme specific background. It is overwritten whether we have a\n",
              "  specific estimator or a Pipeline/ColumnTransformer */\n",
              "  background-color: var(--sklearn-color-background);\n",
              "}\n",
              "\n",
              "/* Toggleable label */\n",
              "#sk-container-id-1 label.sk-toggleable__label {\n",
              "  cursor: pointer;\n",
              "  display: flex;\n",
              "  width: 100%;\n",
              "  margin-bottom: 0;\n",
              "  padding: 0.5em;\n",
              "  box-sizing: border-box;\n",
              "  text-align: center;\n",
              "  align-items: start;\n",
              "  justify-content: space-between;\n",
              "  gap: 0.5em;\n",
              "}\n",
              "\n",
              "#sk-container-id-1 label.sk-toggleable__label .caption {\n",
              "  font-size: 0.6rem;\n",
              "  font-weight: lighter;\n",
              "  color: var(--sklearn-color-text-muted);\n",
              "}\n",
              "\n",
              "#sk-container-id-1 label.sk-toggleable__label-arrow:before {\n",
              "  /* Arrow on the left of the label */\n",
              "  content: \"▸\";\n",
              "  float: left;\n",
              "  margin-right: 0.25em;\n",
              "  color: var(--sklearn-color-icon);\n",
              "}\n",
              "\n",
              "#sk-container-id-1 label.sk-toggleable__label-arrow:hover:before {\n",
              "  color: var(--sklearn-color-text);\n",
              "}\n",
              "\n",
              "/* Toggleable content - dropdown */\n",
              "\n",
              "#sk-container-id-1 div.sk-toggleable__content {\n",
              "  max-height: 0;\n",
              "  max-width: 0;\n",
              "  overflow: hidden;\n",
              "  text-align: left;\n",
              "  /* unfitted */\n",
              "  background-color: var(--sklearn-color-unfitted-level-0);\n",
              "}\n",
              "\n",
              "#sk-container-id-1 div.sk-toggleable__content.fitted {\n",
              "  /* fitted */\n",
              "  background-color: var(--sklearn-color-fitted-level-0);\n",
              "}\n",
              "\n",
              "#sk-container-id-1 div.sk-toggleable__content pre {\n",
              "  margin: 0.2em;\n",
              "  border-radius: 0.25em;\n",
              "  color: var(--sklearn-color-text);\n",
              "  /* unfitted */\n",
              "  background-color: var(--sklearn-color-unfitted-level-0);\n",
              "}\n",
              "\n",
              "#sk-container-id-1 div.sk-toggleable__content.fitted pre {\n",
              "  /* unfitted */\n",
              "  background-color: var(--sklearn-color-fitted-level-0);\n",
              "}\n",
              "\n",
              "#sk-container-id-1 input.sk-toggleable__control:checked~div.sk-toggleable__content {\n",
              "  /* Expand drop-down */\n",
              "  max-height: 200px;\n",
              "  max-width: 100%;\n",
              "  overflow: auto;\n",
              "}\n",
              "\n",
              "#sk-container-id-1 input.sk-toggleable__control:checked~label.sk-toggleable__label-arrow:before {\n",
              "  content: \"▾\";\n",
              "}\n",
              "\n",
              "/* Pipeline/ColumnTransformer-specific style */\n",
              "\n",
              "#sk-container-id-1 div.sk-label input.sk-toggleable__control:checked~label.sk-toggleable__label {\n",
              "  color: var(--sklearn-color-text);\n",
              "  background-color: var(--sklearn-color-unfitted-level-2);\n",
              "}\n",
              "\n",
              "#sk-container-id-1 div.sk-label.fitted input.sk-toggleable__control:checked~label.sk-toggleable__label {\n",
              "  background-color: var(--sklearn-color-fitted-level-2);\n",
              "}\n",
              "\n",
              "/* Estimator-specific style */\n",
              "\n",
              "/* Colorize estimator box */\n",
              "#sk-container-id-1 div.sk-estimator input.sk-toggleable__control:checked~label.sk-toggleable__label {\n",
              "  /* unfitted */\n",
              "  background-color: var(--sklearn-color-unfitted-level-2);\n",
              "}\n",
              "\n",
              "#sk-container-id-1 div.sk-estimator.fitted input.sk-toggleable__control:checked~label.sk-toggleable__label {\n",
              "  /* fitted */\n",
              "  background-color: var(--sklearn-color-fitted-level-2);\n",
              "}\n",
              "\n",
              "#sk-container-id-1 div.sk-label label.sk-toggleable__label,\n",
              "#sk-container-id-1 div.sk-label label {\n",
              "  /* The background is the default theme color */\n",
              "  color: var(--sklearn-color-text-on-default-background);\n",
              "}\n",
              "\n",
              "/* On hover, darken the color of the background */\n",
              "#sk-container-id-1 div.sk-label:hover label.sk-toggleable__label {\n",
              "  color: var(--sklearn-color-text);\n",
              "  background-color: var(--sklearn-color-unfitted-level-2);\n",
              "}\n",
              "\n",
              "/* Label box, darken color on hover, fitted */\n",
              "#sk-container-id-1 div.sk-label.fitted:hover label.sk-toggleable__label.fitted {\n",
              "  color: var(--sklearn-color-text);\n",
              "  background-color: var(--sklearn-color-fitted-level-2);\n",
              "}\n",
              "\n",
              "/* Estimator label */\n",
              "\n",
              "#sk-container-id-1 div.sk-label label {\n",
              "  font-family: monospace;\n",
              "  font-weight: bold;\n",
              "  display: inline-block;\n",
              "  line-height: 1.2em;\n",
              "}\n",
              "\n",
              "#sk-container-id-1 div.sk-label-container {\n",
              "  text-align: center;\n",
              "}\n",
              "\n",
              "/* Estimator-specific */\n",
              "#sk-container-id-1 div.sk-estimator {\n",
              "  font-family: monospace;\n",
              "  border: 1px dotted var(--sklearn-color-border-box);\n",
              "  border-radius: 0.25em;\n",
              "  box-sizing: border-box;\n",
              "  margin-bottom: 0.5em;\n",
              "  /* unfitted */\n",
              "  background-color: var(--sklearn-color-unfitted-level-0);\n",
              "}\n",
              "\n",
              "#sk-container-id-1 div.sk-estimator.fitted {\n",
              "  /* fitted */\n",
              "  background-color: var(--sklearn-color-fitted-level-0);\n",
              "}\n",
              "\n",
              "/* on hover */\n",
              "#sk-container-id-1 div.sk-estimator:hover {\n",
              "  /* unfitted */\n",
              "  background-color: var(--sklearn-color-unfitted-level-2);\n",
              "}\n",
              "\n",
              "#sk-container-id-1 div.sk-estimator.fitted:hover {\n",
              "  /* fitted */\n",
              "  background-color: var(--sklearn-color-fitted-level-2);\n",
              "}\n",
              "\n",
              "/* Specification for estimator info (e.g. \"i\" and \"?\") */\n",
              "\n",
              "/* Common style for \"i\" and \"?\" */\n",
              "\n",
              ".sk-estimator-doc-link,\n",
              "a:link.sk-estimator-doc-link,\n",
              "a:visited.sk-estimator-doc-link {\n",
              "  float: right;\n",
              "  font-size: smaller;\n",
              "  line-height: 1em;\n",
              "  font-family: monospace;\n",
              "  background-color: var(--sklearn-color-background);\n",
              "  border-radius: 1em;\n",
              "  height: 1em;\n",
              "  width: 1em;\n",
              "  text-decoration: none !important;\n",
              "  margin-left: 0.5em;\n",
              "  text-align: center;\n",
              "  /* unfitted */\n",
              "  border: var(--sklearn-color-unfitted-level-1) 1pt solid;\n",
              "  color: var(--sklearn-color-unfitted-level-1);\n",
              "}\n",
              "\n",
              ".sk-estimator-doc-link.fitted,\n",
              "a:link.sk-estimator-doc-link.fitted,\n",
              "a:visited.sk-estimator-doc-link.fitted {\n",
              "  /* fitted */\n",
              "  border: var(--sklearn-color-fitted-level-1) 1pt solid;\n",
              "  color: var(--sklearn-color-fitted-level-1);\n",
              "}\n",
              "\n",
              "/* On hover */\n",
              "div.sk-estimator:hover .sk-estimator-doc-link:hover,\n",
              ".sk-estimator-doc-link:hover,\n",
              "div.sk-label-container:hover .sk-estimator-doc-link:hover,\n",
              ".sk-estimator-doc-link:hover {\n",
              "  /* unfitted */\n",
              "  background-color: var(--sklearn-color-unfitted-level-3);\n",
              "  color: var(--sklearn-color-background);\n",
              "  text-decoration: none;\n",
              "}\n",
              "\n",
              "div.sk-estimator.fitted:hover .sk-estimator-doc-link.fitted:hover,\n",
              ".sk-estimator-doc-link.fitted:hover,\n",
              "div.sk-label-container:hover .sk-estimator-doc-link.fitted:hover,\n",
              ".sk-estimator-doc-link.fitted:hover {\n",
              "  /* fitted */\n",
              "  background-color: var(--sklearn-color-fitted-level-3);\n",
              "  color: var(--sklearn-color-background);\n",
              "  text-decoration: none;\n",
              "}\n",
              "\n",
              "/* Span, style for the box shown on hovering the info icon */\n",
              ".sk-estimator-doc-link span {\n",
              "  display: none;\n",
              "  z-index: 9999;\n",
              "  position: relative;\n",
              "  font-weight: normal;\n",
              "  right: .2ex;\n",
              "  padding: .5ex;\n",
              "  margin: .5ex;\n",
              "  width: min-content;\n",
              "  min-width: 20ex;\n",
              "  max-width: 50ex;\n",
              "  color: var(--sklearn-color-text);\n",
              "  box-shadow: 2pt 2pt 4pt #999;\n",
              "  /* unfitted */\n",
              "  background: var(--sklearn-color-unfitted-level-0);\n",
              "  border: .5pt solid var(--sklearn-color-unfitted-level-3);\n",
              "}\n",
              "\n",
              ".sk-estimator-doc-link.fitted span {\n",
              "  /* fitted */\n",
              "  background: var(--sklearn-color-fitted-level-0);\n",
              "  border: var(--sklearn-color-fitted-level-3);\n",
              "}\n",
              "\n",
              ".sk-estimator-doc-link:hover span {\n",
              "  display: block;\n",
              "}\n",
              "\n",
              "/* \"?\"-specific style due to the `<a>` HTML tag */\n",
              "\n",
              "#sk-container-id-1 a.estimator_doc_link {\n",
              "  float: right;\n",
              "  font-size: 1rem;\n",
              "  line-height: 1em;\n",
              "  font-family: monospace;\n",
              "  background-color: var(--sklearn-color-background);\n",
              "  border-radius: 1rem;\n",
              "  height: 1rem;\n",
              "  width: 1rem;\n",
              "  text-decoration: none;\n",
              "  /* unfitted */\n",
              "  color: var(--sklearn-color-unfitted-level-1);\n",
              "  border: var(--sklearn-color-unfitted-level-1) 1pt solid;\n",
              "}\n",
              "\n",
              "#sk-container-id-1 a.estimator_doc_link.fitted {\n",
              "  /* fitted */\n",
              "  border: var(--sklearn-color-fitted-level-1) 1pt solid;\n",
              "  color: var(--sklearn-color-fitted-level-1);\n",
              "}\n",
              "\n",
              "/* On hover */\n",
              "#sk-container-id-1 a.estimator_doc_link:hover {\n",
              "  /* unfitted */\n",
              "  background-color: var(--sklearn-color-unfitted-level-3);\n",
              "  color: var(--sklearn-color-background);\n",
              "  text-decoration: none;\n",
              "}\n",
              "\n",
              "#sk-container-id-1 a.estimator_doc_link.fitted:hover {\n",
              "  /* fitted */\n",
              "  background-color: var(--sklearn-color-fitted-level-3);\n",
              "}\n",
              "</style><div id=\"sk-container-id-1\" class=\"sk-top-container\"><div class=\"sk-text-repr-fallback\"><pre>LogisticRegression(class_weight=&#x27;balanced&#x27;, max_iter=1000, solver=&#x27;liblinear&#x27;)</pre><b>In a Jupyter environment, please rerun this cell to show the HTML representation or trust the notebook. <br />On GitHub, the HTML representation is unable to render, please try loading this page with nbviewer.org.</b></div><div class=\"sk-container\" hidden><div class=\"sk-item\"><div class=\"sk-estimator fitted sk-toggleable\"><input class=\"sk-toggleable__control sk-hidden--visually\" id=\"sk-estimator-id-1\" type=\"checkbox\" checked><label for=\"sk-estimator-id-1\" class=\"sk-toggleable__label fitted sk-toggleable__label-arrow\"><div><div>LogisticRegression</div></div><div><a class=\"sk-estimator-doc-link fitted\" rel=\"noreferrer\" target=\"_blank\" href=\"https://scikit-learn.org/1.6/modules/generated/sklearn.linear_model.LogisticRegression.html\">?<span>Documentation for LogisticRegression</span></a><span class=\"sk-estimator-doc-link fitted\">i<span>Fitted</span></span></div></label><div class=\"sk-toggleable__content fitted\"><pre>LogisticRegression(class_weight=&#x27;balanced&#x27;, max_iter=1000, solver=&#x27;liblinear&#x27;)</pre></div> </div></div></div></div>"
            ]
          },
          "metadata": {},
          "execution_count": 100
        }
      ]
    },
    {
      "cell_type": "code",
      "source": [
        "#Step 53\n",
        "#Extract and display feature names and their coefficients\n",
        "import pandas as pd\n",
        "\n",
        "coef_df = pd.DataFrame({\n",
        "    'Feature': X_train_encoded.columns,\n",
        "    'Coefficient': log_model.coef_[0]\n",
        "})\n",
        "\n",
        "# Sort by absolute value of coefficients to see most influential\n",
        "coef_df['Abs_Coefficient'] = coef_df['Coefficient'].abs()\n",
        "coef_df_sorted = coef_df.sort_values(by='Abs_Coefficient', ascending=False)\n",
        "\n",
        "# Display the top 20\n",
        "print(coef_df_sorted.head(20))\n"
      ],
      "metadata": {
        "colab": {
          "base_uri": "https://localhost:8080/"
        },
        "id": "KAy_WcayQBDa",
        "outputId": "b6d7ce4d-36a1-4034-9df1-857c0729f415"
      },
      "execution_count": 101,
      "outputs": [
        {
          "output_type": "stream",
          "name": "stdout",
          "text": [
            "                        Feature  Coefficient  Abs_Coefficient\n",
            "22                    inj_bowel     3.397227         3.397227\n",
            "23                    inj_liver     3.083766         3.083766\n",
            "7                inj_hemothorax     2.686697         2.686697\n",
            "20                   inj_spleen     2.667801         2.667801\n",
            "16                   inj_sepsis    -1.545274         1.545274\n",
            "14              inj_shock_other    -1.510110         1.510110\n",
            "18     inj_urinary_complication    -1.496763         1.496763\n",
            "15               inj_septicemia    -1.486457         1.486457\n",
            "12         inj_cns_complication    -1.486441         1.486441\n",
            "24             inj_rib_fracture    -1.484628         1.484628\n",
            "26          inj_abdominal_aorta    -1.484628         1.484628\n",
            "25           inj_thoracic_aorta    -1.484628         1.484628\n",
            "11         inj_pleural_effusion     1.425253         1.425253\n",
            "21                  inj_bladder     1.418334         1.418334\n",
            "8                      inj_lung    -1.415289         1.415289\n",
            "17    inj_accidental_laceration    -1.334914         1.334914\n",
            "9                     inj_heart    -1.288146         1.288146\n",
            "6              inj_pneumothorax     1.095490         1.095490\n",
            "13  inj_hemorrhage_complication    -0.986969         0.986969\n",
            "1                        GENDER     0.873418         0.873418\n"
          ]
        }
      ]
    },
    {
      "cell_type": "code",
      "source": [
        "#This is a list of the top important features your model found for predicting diaphragmatic injury.\n",
        "#Each row shows:\n",
        "#Feature → A clinical variable (like a type of injury or complication).\n",
        "#Coefficient → The number showing the direction and strength of how that feature affects the risk.\n",
        "#Abs_Coefficient → The same as Coefficient but shown as a positive number, just to rank importance.\n",
        "\n",
        "\n",
        "#If Coefficient is positive, it means this feature increases the risk of injury.\n",
        "#If Coefficient is negative, it means this feature decreases the risk (or is protective).\n",
        "#The bigger the absolute number, the more important the feature is for the prediction."
      ],
      "metadata": {
        "id": "djo6U6xmUY6l"
      },
      "execution_count": 102,
      "outputs": []
    },
    {
      "cell_type": "code",
      "source": [
        "#Step54\n",
        "#Build the Calculator Input Structure\n",
        "# Define a function that accepts user input (patient variables).\n",
        "def patient_input_to_risk_score(patient_input, model, encoder, feature_names):\n",
        "    \"\"\"\n",
        "    Convert patient input into model-ready format and return the risk score.\n",
        "    \"\"\"\n",
        "    import pandas as pd\n",
        "    import numpy as np\n",
        "\n",
        "    # Create dataframe from input\n",
        "    input_df = pd.DataFrame([patient_input])\n",
        "\n",
        "    # Ensure all expected columns are present\n",
        "    for col in feature_names:\n",
        "        if col not in input_df.columns:\n",
        "            input_df[col] = 0\n",
        "\n",
        "    # Reorder columns to match training data\n",
        "    input_df = input_df[feature_names]\n",
        "\n",
        "    # Fill missing with placeholder\n",
        "    input_df_filled = input_df.fillna(-999)\n",
        "\n",
        "    # Predict probability\n",
        "    prob = model.predict_proba(input_df_filled)[:, 1][0]\n",
        "\n",
        "    return prob\n"
      ],
      "metadata": {
        "id": "iTElbn90Sy7j"
      },
      "execution_count": 103,
      "outputs": []
    },
    {
      "cell_type": "code",
      "source": [
        "# Debug test: Try one sample manually\n",
        "test_patient = {\n",
        "    'AGE': 40,\n",
        "    'GENDER': 0,\n",
        "    'ISS': 25,\n",
        "    'MECHANISM': 1,\n",
        "    'RACE1': 1,\n",
        "    'COMORKEY': 4,\n",
        "    'inj_liver': 1,\n",
        "    'inj_bowel': 1,\n",
        "    'inj_spleen': 1,\n",
        "    'inj_shock_other': 1,\n",
        "    'inj_device_infection': 1,\n",
        "    'inj_pneumothorax': 1,\n",
        "    'inj_sepsis': 1,\n",
        "    'inj_wound_disruption': 1,\n",
        "    'inj_bladder': 1\n",
        "}\n",
        "\n",
        "risk_score = patient_input_to_risk_score(test_patient, log_model, None, X_train_encoded.columns)\n",
        "\n",
        "print(f\" Test Patient Risk Score: {risk_score:.4f}\")"
      ],
      "metadata": {
        "colab": {
          "base_uri": "https://localhost:8080/"
        },
        "id": "ezdD0heWXWrc",
        "outputId": "b1b8a7d0-a572-4dcc-f466-dc32421253fe"
      },
      "execution_count": 104,
      "outputs": [
        {
          "output_type": "stream",
          "name": "stdout",
          "text": [
            " Test Patient Risk Score: 0.9972\n"
          ]
        }
      ]
    },
    {
      "cell_type": "code",
      "source": [
        "sample_patient = {\n",
        "    'AGE': 40,\n",
        "    'GENDER': 0,          # 0: Male, 1: Female (assuming your encoding)\n",
        "    'ISS': 18,\n",
        "    'MECHANISM': 1,       # example: blunt vs penetrating\n",
        "    'RACE1': 1,\n",
        "    'inj_liver': 1,\n",
        "    'inj_bowel': 1,\n",
        "    'inj_spleen': 0,\n",
        "    'inj_shock_other': 1,\n",
        "    'inj_device_infection': 0,\n",
        "    'COMORKEY': 3,        # dummy value\n",
        "    'inj_pneumothorax': 0,\n",
        "    'inj_sepsis': 0,\n",
        "    'inj_wound_disruption': 0,\n",
        "    'inj_bladder': 0,\n",
        "}\n"
      ],
      "metadata": {
        "id": "sSCje0JGTB0e"
      },
      "execution_count": 105,
      "outputs": []
    },
    {
      "cell_type": "code",
      "source": [
        "# Get risk score\n",
        "risk_score = patient_input_to_risk_score(sample_patient, log_model, None, X_train_encoded.columns)\n",
        "print(f\" Predicted Risk of Diaphragmatic Injury: {risk_score:.2f}\")"
      ],
      "metadata": {
        "colab": {
          "base_uri": "https://localhost:8080/"
        },
        "id": "BeF0pfWlUBbH",
        "outputId": "d5d48104-8383-4a8b-feb6-35719ff8e47c"
      },
      "execution_count": 106,
      "outputs": [
        {
          "output_type": "stream",
          "name": "stdout",
          "text": [
            " Predicted Risk of Diaphragmatic Injury: 0.90\n"
          ]
        }
      ]
    },
    {
      "cell_type": "code",
      "source": [
        "# Create widgets for key features\n",
        "#age = widgets.IntSlider(value=40, min=0, max=100, description='Age:')\n",
        "#gender = widgets.Dropdown(options=[('Male', 0), ('Female', 1)], description='Gender:')\n",
        "#iss = widgets.IntSlider(value=10, min=0, max=75, description='ISS:')\n",
        "#mechanism = widgets.Dropdown(options=[('Blunt', 0), ('Penetrating', 1)], description='Mechanism:')\n",
        "#race1 = widgets.Dropdown(options=[('White', 1), ('Black', 2), ('Hispanic', 3), ('Asian', 4), ('Other', 5)], description='Race1:')\n",
        "#comorkey = widgets.IntSlider(value=0, min=0, max=10, description='Comorbidity:')\n",
        "\n",
        "# Binary injuries (yes=1, no=0)\n",
        "#inj_fields = {\n",
        "    #'inj_liver': widgets.Checkbox(value=False, description='Liver Injury'),\n",
        "    #'inj_bowel': widgets.Checkbox(value=False, description='Bowel Injury'),\n",
        "    #'inj_spleen': widgets.Checkbox(value=False, description='Spleen Injury'),\n",
        "    #'inj_shock_other': widgets.Checkbox(value=False, description='Shock Other'),\n",
        "    #'inj_device_infection': widgets.Checkbox(value=False, description='Device Infection'),\n",
        "    #'inj_pneumothorax': widgets.Checkbox(value=False, description='Pneumothorax'),\n",
        "    #'inj_sepsis': widgets.Checkbox(value=False, description='Sepsis'),\n",
        "    #'inj_wound_disruption': widgets.Checkbox(value=False, description='Wound Disruption'),\n",
        "    #'inj_bladder': widgets.Checkbox(value=False, description='Bladder Injury'),\n",
        "#}"
      ],
      "metadata": {
        "id": "AThb5NY2VDJT"
      },
      "execution_count": 69,
      "outputs": []
    },
    {
      "cell_type": "code",
      "source": [
        "#Step55\n",
        "# Create widgets for key features\n",
        "age = widgets.IntSlider(value=40, min=0, max=100, description='Age:')\n",
        "gender = widgets.Dropdown(options=[('Male', 0), ('Female', 1)], description='Gender:')\n",
        "race1 = widgets.Dropdown(options=[('White', 1), ('Black', 2), ('Hispanic', 3), ('Asian', 4), ('Other', 5)], description='Race1:')\n",
        "ethnic = widgets.Dropdown(options=[('Non-Hispanic', 0), ('Hispanic', 1)], description='Ethnicity:')\n",
        "iss = widgets.IntSlider(value=10, min=0, max=75, description='ISS:')\n",
        "mechanism = widgets.Dropdown(options=[('Blunt', 0), ('Penetrating', 1)], description='Mechanism:')\n",
        "\n",
        "# Binary injuries (yes=1, no=0)\n",
        "inj_fields = {\n",
        "    'inj_pneumothorax': widgets.Checkbox(value=False, description='Pneumothorax'),\n",
        "    'inj_hemothorax': widgets.Checkbox(value=False, description='Hemothorax'),\n",
        "    'inj_lung': widgets.Checkbox(value=False, description='Lung Injury'),\n",
        "    'inj_heart': widgets.Checkbox(value=False, description='Heart Injury'),\n",
        "    'inj_respiratory_failure': widgets.Checkbox(value=False, description='Respiratory Failure'),\n",
        "    'inj_pleural_effusion': widgets.Checkbox(value=False, description='Pleural Effusion'),\n",
        "    'inj_cns_complication': widgets.Checkbox(value=False, description='CNS Complication'),\n",
        "    'inj_hemorrhage_complication': widgets.Checkbox(value=False, description='Hemorrhage Complication'),\n",
        "    'inj_shock_other': widgets.Checkbox(value=False, description='Shock Other'),\n",
        "    'inj_septicemia': widgets.Checkbox(value=False, description='Septicemia'),\n",
        "    'inj_sepsis': widgets.Checkbox(value=False, description='Sepsis'),\n",
        "    'inj_accidental_laceration': widgets.Checkbox(value=False, description='Accidental Laceration'),\n",
        "    'inj_digestive_complication': widgets.Checkbox(value=False, description='Digestive Complication'),\n",
        "    'inj_urinary_complication': widgets.Checkbox(value=False, description='Urinary Complication'),\n",
        "    'inj_pulm_insuff': widgets.Checkbox(value=False, description='Pulmonary Insufficiency'),\n",
        "    'inj_spleen': widgets.Checkbox(value=False, description='Spleen Injury'),\n",
        "    'inj_bladder': widgets.Checkbox(value=False, description='Bladder Injury'),\n",
        "    'inj_bowel': widgets.Checkbox(value=False, description='Bowel Injury'),\n",
        "    'inj_liver': widgets.Checkbox(value=False, description='Liver Injury'),\n",
        "    'inj_rib_fracture': widgets.Checkbox(value=False, description='Rib Fracture'),\n",
        "    'inj_thoracic_aorta': widgets.Checkbox(value=False, description='Thoracic Aorta Injury'),\n",
        "    'inj_abdominal_aorta': widgets.Checkbox(value=False, description='Abdominal Aorta Injury'),\n",
        "}\n"
      ],
      "metadata": {
        "id": "typpt1LvwMhN"
      },
      "execution_count": 107,
      "outputs": []
    },
    {
      "cell_type": "code",
      "source": [
        "#def collect_input_and_predict():\n",
        "    ##global log_model\n",
        "\n",
        "    ## Collect values from widgets\n",
        "    #patient_data = {\n",
        "        #'AGE': age.value,\n",
        "        #'GENDER': gender.value,\n",
        "        #'ISS': iss.value,\n",
        "        #'MECHANISM': mechanism.value,\n",
        "        #'RACE1': race1.value,\n",
        "        #'COMORKEY': comorkey.value,\n",
        "\n",
        "    #}\n",
        "\n",
        "    ## Add binary injury features\n",
        "    #for key, widget in inj_fields.items():\n",
        "        #patient_data[key] = int(widget.value)\n",
        "\n",
        "    ## Predict risk\n",
        "    #risk_score = patient_input_to_risk_score(patient_data, log_model, None, X_train_encoded.columns)\n",
        "\n",
        "    #print(\"\\n Predicted Risk of Diaphragmatic Injury: {:.2f}\".format(risk_score))\n",
        "    #global latest_patient_data\n",
        "    #latest_patient_data = patient_data\n"
      ],
      "metadata": {
        "id": "zoQtcHS2ddjY"
      },
      "execution_count": 73,
      "outputs": []
    },
    {
      "cell_type": "code",
      "source": [
        "#Step56\n",
        "def collect_input_and_predict():\n",
        "    # Collect values from widgets\n",
        "    patient_data = {\n",
        "        'AGE': age.value,\n",
        "        'GENDER': gender.value,\n",
        "        'RACE1': race1.value,\n",
        "        'ETHNIC': ethnic.value,\n",
        "        'ISS': iss.value,\n",
        "        'MECHANISM': mechanism.value,\n",
        "    }\n",
        "\n",
        "    # Add binary injury features\n",
        "    for key, widget in inj_fields.items():\n",
        "        patient_data[key] = int(widget.value)\n",
        "\n",
        "    # Predict risk\n",
        "    risk_score = patient_input_to_risk_score(patient_data, log_model, None, X_train_encoded.columns)\n",
        "\n",
        "    print(\"\\n Predicted Risk of Diaphragmatic Injury: {:.2f}\".format(risk_score))\n",
        "    global latest_patient_data\n",
        "    latest_patient_data = patient_data\n"
      ],
      "metadata": {
        "id": "faJl-CzzxNze"
      },
      "execution_count": 108,
      "outputs": []
    },
    {
      "cell_type": "code",
      "source": [
        "## Display interactive widgets and button\n",
        "#display(age, gender, iss, mechanism, race1, comorkey)\n",
        "#for widget in inj_fields.values():\n",
        "    #display(widget)\n",
        "\n",
        "## Add a button to trigger prediction\n",
        "#predict_button = widgets.Button(description=\"Calculate Risk\")\n",
        "#predict_button.on_click(lambda b: collect_input_and_predict())\n",
        "#display(predict_button)\n"
      ],
      "metadata": {
        "id": "AEuIUOOuZQAr"
      },
      "execution_count": 75,
      "outputs": []
    },
    {
      "cell_type": "code",
      "source": [
        "#Step57\n",
        "# Display interactive widgets and button\n",
        "display(age, gender, race1, ethnic, iss, mechanism)\n",
        "\n",
        "for widget in inj_fields.values():\n",
        "    display(widget)\n",
        "\n",
        "# Add a button to trigger prediction\n",
        "predict_button = widgets.Button(description=\"Calculate Risk\")\n",
        "predict_button.on_click(lambda b: collect_input_and_predict())\n",
        "display(predict_button)"
      ],
      "metadata": {
        "colab": {
          "base_uri": "https://localhost:8080/",
          "height": 964,
          "referenced_widgets": [
            "71d8c1abcba34e85b7eb10d4a4ef0921",
            "e74022705e194c0784834225e14c2d39",
            "d297686fff274ad9a841c40728b320df",
            "6a71b6b440cc4345822559eca9266de0",
            "9b74508bd8f64905800b3a12df9725ec",
            "2636045af9da45a8a3970f14a120e795",
            "466466b47b334af5abebab1a3564a82a",
            "8dda438860dc47c5be39a5ff88ee7d78",
            "4df67c72cbea4fd1904ab3e7cc9d428a",
            "c1e45b0a29ae400d8db7c9741400b3a2",
            "730dcadc2f7a49e6b9cd74d2e8b48712",
            "5098879589ee4963aa6ffe6155820afa",
            "46937361c2e64ebca668bdbd640076fc",
            "fa07999af30a494a8a8232e1c26cb088",
            "cf8415b30d164bf1aa0ae883b237b708",
            "e265ef26a1fb431aac270b2210250440",
            "95afe38113374c8abdd36cb683b8e657",
            "a02b0bd7b9c94b9ab0ff385467685167",
            "a7ff608b8fb541059195d1cd36263a90",
            "73f478e372d8451896cac93570b41d74",
            "1307e8044c544692bda358af19662dd4",
            "9b303b06ebd44605a129b5ab7fac1162",
            "96bb82c19ad045cdb71d9fd74695be75",
            "60db7d4da54a4d7db2245f980cdf6e14",
            "837dfad27ab749f782ea81db675567e9",
            "a7007e7858d947b487752458bf6e8561",
            "18d27053444f44aabfed8fc690fc3598",
            "31429e6ad5704bffbd2fe2bf44dfa09d",
            "b06c562fb6704a3a9d931ad0e3e96dd9",
            "a65b020184554cec9afecd666edf5763",
            "3589b71943db421896b75783850890a4",
            "a74e7de90a714393b22a745ea667c5d9",
            "10288628006f4a52ad354936aac085c5",
            "e11cecc2b73b48649814047639fcf56e",
            "349df8498d984b268f27070ca0588fbd",
            "cab0c1fb9edc47e1b039866df1291f10",
            "dfc6fdfc8f074fbda5956247d55d1dcf",
            "85ec775f8e9e408dbce0a39afc2d93a9",
            "d46feb561e5848c0b205cc797fa64fc4",
            "d48537d98a044725955c6e9a6794999b",
            "83855e22829c40e5a22e46caf714df1b",
            "cb59dadd52e0408b9faf54e10bc62971",
            "83dee2202fda4bb79801cae6871e60f8",
            "9ea0f15604844a07ad506e1c0c9da304",
            "55a31ba0bef1409482a2a3316268edc7",
            "d64fe534062d4f7396c17af014959b5e",
            "312d96a513e74e11a11309fb236879ca",
            "172c94d7c9294363ae0f81313c596fde",
            "abc95d3d2bc848b68f112f2bb8052904",
            "09b3b06c171c4c6ab2f909d611009b43",
            "fe7ad209fdfc4bfc88dc4e9db1725516",
            "a8ab5879026247b8b1b10965ed15b9f9",
            "524f70c92bde48e499d7f693856187e8",
            "c7d42b12ee1d4728ba281568d7eab694",
            "98eb0a0eb5f84ff58ba375a71bff3277",
            "541ead10308a4f399766bb8664321873",
            "d8201d621ac747d5b4203840413ef5ba",
            "7440fe05fb5b42da9ab9d6969d1a4b4e",
            "a1a7b4a4a37e4e8d8ba8240f86f65d4c",
            "0c6552b38c3f4da7927f7a3cede5e35a",
            "21a269c7322243629c6d04668640dc91",
            "492b79aef3b9444e8310811de0d27da0",
            "0b7e1d4ba3ef43e693f17ba0cbb5f9af",
            "bff0988ddc2d4655b8eb01c188294523",
            "5e867ff6733a4f6ca808a08d234c7051",
            "5c258474dbc849698ac0f47d1eeb7d75",
            "722de51029a04cd0b3b395835c7e7fbd",
            "2177fe9102df4b39a93438c232db6450",
            "ad6595380a98416c91ec02c7ed64f681",
            "65a3225685c9424b81d48a74bf35b01a",
            "09b12006a84c4e65baa772a60d6a5156",
            "3e7b4d2f8f26443d8c9b52f799857c3d",
            "f0ea10d80e754a29be5ef3db6bd22fb7",
            "7560f838b04b44e8bdf72bdd51f941ce",
            "0426bc0827d241d897662f052f0b0860",
            "ea62b1eedbaa4bc883fba89b7646ba7b",
            "c374a1cafebd44798f35e8c46224608f",
            "e5b5bae515e54bed88e3980cebc768e7",
            "7d60fa2fb3514d1c923e029adbb42d2d",
            "fc146d88a3a9463386e16f107388b7b0",
            "f462620ae5e14b018fc64dfd5b40b93f",
            "f2d7b286fdde4d69838955f50c47d8ed",
            "af9621b4dd9a47ceb17dc82b58fcb2fb",
            "f670f1717d5d41c298c0309fc38abcde",
            "6bc0a86b26634ba89a5914b2ab02734f",
            "d2b88cc738c643f48eddab05f9c37c7f",
            "cda8430b38d24731900e1184b007bb91"
          ]
        },
        "id": "9K2o9hV0xtaU",
        "outputId": "d76f554a-7eb6-4325-e3af-b1b47e540c6c"
      },
      "execution_count": 109,
      "outputs": [
        {
          "output_type": "display_data",
          "data": {
            "text/plain": [
              "IntSlider(value=40, description='Age:')"
            ],
            "application/vnd.jupyter.widget-view+json": {
              "version_major": 2,
              "version_minor": 0,
              "model_id": "71d8c1abcba34e85b7eb10d4a4ef0921"
            }
          },
          "metadata": {}
        },
        {
          "output_type": "display_data",
          "data": {
            "text/plain": [
              "Dropdown(description='Gender:', options=(('Male', 0), ('Female', 1)), value=0)"
            ],
            "application/vnd.jupyter.widget-view+json": {
              "version_major": 2,
              "version_minor": 0,
              "model_id": "6a71b6b440cc4345822559eca9266de0"
            }
          },
          "metadata": {}
        },
        {
          "output_type": "display_data",
          "data": {
            "text/plain": [
              "Dropdown(description='Race1:', options=(('White', 1), ('Black', 2), ('Hispanic', 3), ('Asian', 4), ('Other', 5…"
            ],
            "application/vnd.jupyter.widget-view+json": {
              "version_major": 2,
              "version_minor": 0,
              "model_id": "466466b47b334af5abebab1a3564a82a"
            }
          },
          "metadata": {}
        },
        {
          "output_type": "display_data",
          "data": {
            "text/plain": [
              "Dropdown(description='Ethnicity:', options=(('Non-Hispanic', 0), ('Hispanic', 1)), value=0)"
            ],
            "application/vnd.jupyter.widget-view+json": {
              "version_major": 2,
              "version_minor": 0,
              "model_id": "c1e45b0a29ae400d8db7c9741400b3a2"
            }
          },
          "metadata": {}
        },
        {
          "output_type": "display_data",
          "data": {
            "text/plain": [
              "IntSlider(value=10, description='ISS:', max=75)"
            ],
            "application/vnd.jupyter.widget-view+json": {
              "version_major": 2,
              "version_minor": 0,
              "model_id": "46937361c2e64ebca668bdbd640076fc"
            }
          },
          "metadata": {}
        },
        {
          "output_type": "display_data",
          "data": {
            "text/plain": [
              "Dropdown(description='Mechanism:', options=(('Blunt', 0), ('Penetrating', 1)), value=0)"
            ],
            "application/vnd.jupyter.widget-view+json": {
              "version_major": 2,
              "version_minor": 0,
              "model_id": "e265ef26a1fb431aac270b2210250440"
            }
          },
          "metadata": {}
        },
        {
          "output_type": "display_data",
          "data": {
            "text/plain": [
              "Checkbox(value=False, description='Pneumothorax')"
            ],
            "application/vnd.jupyter.widget-view+json": {
              "version_major": 2,
              "version_minor": 0,
              "model_id": "a7ff608b8fb541059195d1cd36263a90"
            }
          },
          "metadata": {}
        },
        {
          "output_type": "display_data",
          "data": {
            "text/plain": [
              "Checkbox(value=False, description='Hemothorax')"
            ],
            "application/vnd.jupyter.widget-view+json": {
              "version_major": 2,
              "version_minor": 0,
              "model_id": "9b303b06ebd44605a129b5ab7fac1162"
            }
          },
          "metadata": {}
        },
        {
          "output_type": "display_data",
          "data": {
            "text/plain": [
              "Checkbox(value=False, description='Lung Injury')"
            ],
            "application/vnd.jupyter.widget-view+json": {
              "version_major": 2,
              "version_minor": 0,
              "model_id": "837dfad27ab749f782ea81db675567e9"
            }
          },
          "metadata": {}
        },
        {
          "output_type": "display_data",
          "data": {
            "text/plain": [
              "Checkbox(value=False, description='Heart Injury')"
            ],
            "application/vnd.jupyter.widget-view+json": {
              "version_major": 2,
              "version_minor": 0,
              "model_id": "31429e6ad5704bffbd2fe2bf44dfa09d"
            }
          },
          "metadata": {}
        },
        {
          "output_type": "display_data",
          "data": {
            "text/plain": [
              "Checkbox(value=False, description='Respiratory Failure')"
            ],
            "application/vnd.jupyter.widget-view+json": {
              "version_major": 2,
              "version_minor": 0,
              "model_id": "3589b71943db421896b75783850890a4"
            }
          },
          "metadata": {}
        },
        {
          "output_type": "display_data",
          "data": {
            "text/plain": [
              "Checkbox(value=False, description='Pleural Effusion')"
            ],
            "application/vnd.jupyter.widget-view+json": {
              "version_major": 2,
              "version_minor": 0,
              "model_id": "e11cecc2b73b48649814047639fcf56e"
            }
          },
          "metadata": {}
        },
        {
          "output_type": "display_data",
          "data": {
            "text/plain": [
              "Checkbox(value=False, description='CNS Complication')"
            ],
            "application/vnd.jupyter.widget-view+json": {
              "version_major": 2,
              "version_minor": 0,
              "model_id": "dfc6fdfc8f074fbda5956247d55d1dcf"
            }
          },
          "metadata": {}
        },
        {
          "output_type": "display_data",
          "data": {
            "text/plain": [
              "Checkbox(value=False, description='Hemorrhage Complication')"
            ],
            "application/vnd.jupyter.widget-view+json": {
              "version_major": 2,
              "version_minor": 0,
              "model_id": "d48537d98a044725955c6e9a6794999b"
            }
          },
          "metadata": {}
        },
        {
          "output_type": "display_data",
          "data": {
            "text/plain": [
              "Checkbox(value=False, description='Shock Other')"
            ],
            "application/vnd.jupyter.widget-view+json": {
              "version_major": 2,
              "version_minor": 0,
              "model_id": "83dee2202fda4bb79801cae6871e60f8"
            }
          },
          "metadata": {}
        },
        {
          "output_type": "display_data",
          "data": {
            "text/plain": [
              "Checkbox(value=False, description='Septicemia')"
            ],
            "application/vnd.jupyter.widget-view+json": {
              "version_major": 2,
              "version_minor": 0,
              "model_id": "d64fe534062d4f7396c17af014959b5e"
            }
          },
          "metadata": {}
        },
        {
          "output_type": "display_data",
          "data": {
            "text/plain": [
              "Checkbox(value=False, description='Sepsis')"
            ],
            "application/vnd.jupyter.widget-view+json": {
              "version_major": 2,
              "version_minor": 0,
              "model_id": "abc95d3d2bc848b68f112f2bb8052904"
            }
          },
          "metadata": {}
        },
        {
          "output_type": "display_data",
          "data": {
            "text/plain": [
              "Checkbox(value=False, description='Accidental Laceration')"
            ],
            "application/vnd.jupyter.widget-view+json": {
              "version_major": 2,
              "version_minor": 0,
              "model_id": "a8ab5879026247b8b1b10965ed15b9f9"
            }
          },
          "metadata": {}
        },
        {
          "output_type": "display_data",
          "data": {
            "text/plain": [
              "Checkbox(value=False, description='Digestive Complication')"
            ],
            "application/vnd.jupyter.widget-view+json": {
              "version_major": 2,
              "version_minor": 0,
              "model_id": "98eb0a0eb5f84ff58ba375a71bff3277"
            }
          },
          "metadata": {}
        },
        {
          "output_type": "display_data",
          "data": {
            "text/plain": [
              "Checkbox(value=False, description='Urinary Complication')"
            ],
            "application/vnd.jupyter.widget-view+json": {
              "version_major": 2,
              "version_minor": 0,
              "model_id": "7440fe05fb5b42da9ab9d6969d1a4b4e"
            }
          },
          "metadata": {}
        },
        {
          "output_type": "display_data",
          "data": {
            "text/plain": [
              "Checkbox(value=False, description='Pulmonary Insufficiency')"
            ],
            "application/vnd.jupyter.widget-view+json": {
              "version_major": 2,
              "version_minor": 0,
              "model_id": "21a269c7322243629c6d04668640dc91"
            }
          },
          "metadata": {}
        },
        {
          "output_type": "display_data",
          "data": {
            "text/plain": [
              "Checkbox(value=False, description='Spleen Injury')"
            ],
            "application/vnd.jupyter.widget-view+json": {
              "version_major": 2,
              "version_minor": 0,
              "model_id": "bff0988ddc2d4655b8eb01c188294523"
            }
          },
          "metadata": {}
        },
        {
          "output_type": "display_data",
          "data": {
            "text/plain": [
              "Checkbox(value=False, description='Bladder Injury')"
            ],
            "application/vnd.jupyter.widget-view+json": {
              "version_major": 2,
              "version_minor": 0,
              "model_id": "722de51029a04cd0b3b395835c7e7fbd"
            }
          },
          "metadata": {}
        },
        {
          "output_type": "display_data",
          "data": {
            "text/plain": [
              "Checkbox(value=False, description='Bowel Injury')"
            ],
            "application/vnd.jupyter.widget-view+json": {
              "version_major": 2,
              "version_minor": 0,
              "model_id": "65a3225685c9424b81d48a74bf35b01a"
            }
          },
          "metadata": {}
        },
        {
          "output_type": "display_data",
          "data": {
            "text/plain": [
              "Checkbox(value=False, description='Liver Injury')"
            ],
            "application/vnd.jupyter.widget-view+json": {
              "version_major": 2,
              "version_minor": 0,
              "model_id": "f0ea10d80e754a29be5ef3db6bd22fb7"
            }
          },
          "metadata": {}
        },
        {
          "output_type": "display_data",
          "data": {
            "text/plain": [
              "Checkbox(value=False, description='Rib Fracture')"
            ],
            "application/vnd.jupyter.widget-view+json": {
              "version_major": 2,
              "version_minor": 0,
              "model_id": "ea62b1eedbaa4bc883fba89b7646ba7b"
            }
          },
          "metadata": {}
        },
        {
          "output_type": "display_data",
          "data": {
            "text/plain": [
              "Checkbox(value=False, description='Thoracic Aorta Injury')"
            ],
            "application/vnd.jupyter.widget-view+json": {
              "version_major": 2,
              "version_minor": 0,
              "model_id": "7d60fa2fb3514d1c923e029adbb42d2d"
            }
          },
          "metadata": {}
        },
        {
          "output_type": "display_data",
          "data": {
            "text/plain": [
              "Checkbox(value=False, description='Abdominal Aorta Injury')"
            ],
            "application/vnd.jupyter.widget-view+json": {
              "version_major": 2,
              "version_minor": 0,
              "model_id": "f2d7b286fdde4d69838955f50c47d8ed"
            }
          },
          "metadata": {}
        },
        {
          "output_type": "display_data",
          "data": {
            "text/plain": [
              "Button(description='Calculate Risk', style=ButtonStyle())"
            ],
            "application/vnd.jupyter.widget-view+json": {
              "version_major": 2,
              "version_minor": 0,
              "model_id": "6bc0a86b26634ba89a5914b2ab02734f"
            }
          },
          "metadata": {}
        },
        {
          "output_type": "stream",
          "name": "stdout",
          "text": [
            "\n",
            " Predicted Risk of Diaphragmatic Injury: 0.30\n",
            "\n",
            " Predicted Risk of Diaphragmatic Injury: 0.12\n"
          ]
        }
      ]
    },
    {
      "cell_type": "code",
      "source": [
        "# Step 58 - Plot top 20 important features\n",
        "import matplotlib.pyplot as plt\n",
        "\n",
        "# Ensure correct feature names\n",
        "feature_names = X_train_encoded.columns\n",
        "\n",
        "# Get feature importances and pair them with feature names\n",
        "importances = rf_model.feature_importances_\n",
        "forest_importance = pd.Series(importances, index=feature_names).sort_values(ascending=False)\n",
        "\n",
        "# Plot top 20 important features\n",
        "plt.figure(figsize=(10, 6))\n",
        "forest_importance.head(20).plot(kind='bar')\n",
        "plt.title(\"Top 20 Most Important Features (Random Forest)\")\n",
        "plt.ylabel(\"Feature Importance Score\")\n",
        "plt.xlabel(\"Feature Names\")\n",
        "#plt.xticks(rotation=45, ha='right')\n",
        "plt.tight_layout()\n",
        "plt.show()"
      ],
      "metadata": {
        "colab": {
          "base_uri": "https://localhost:8080/",
          "height": 607
        },
        "id": "ZlsGfR07zNxn",
        "outputId": "bdfe7826-7ea2-43ca-b3e7-a39ac0e235e8"
      },
      "execution_count": 110,
      "outputs": [
        {
          "output_type": "display_data",
          "data": {
            "text/plain": [
              "<Figure size 1000x600 with 1 Axes>"
            ],
            "image/png": "[encoded data removed]"
          },
          "metadata": {}
        }
      ]
    },
    {
      "cell_type": "code",
      "source": [
        "#Step59\n",
        "import statsmodels.api as sm\n",
        "\n",
        "# Add constant for intercept\n",
        "X_train_sm = sm.add_constant(X_train_encoded)\n",
        "\n",
        "# Fit logistic regression using statsmodels\n",
        "logit_model = sm.Logit(y_train, X_train_sm)\n",
        "result = logit_model.fit()\n",
        "\n",
        "# Get summary with p-values and coefficients\n",
        "summary = result.summary2()\n",
        "print(summary)\n",
        "\n",
        "# Calculate Odds Ratios\n",
        "odds_ratios = pd.Series(np.exp(result.params), index=result.params.index)\n",
        "print(\"\\nOdds Ratios:\")\n",
        "print(odds_ratios)"
      ],
      "metadata": {
        "colab": {
          "base_uri": "https://localhost:8080/"
        },
        "id": "3kU5J9hQvjBa",
        "outputId": "37478a71-dc52-4cdf-b8ad-3f04ce934e78"
      },
      "execution_count": 111,
      "outputs": [
        {
          "output_type": "stream",
          "name": "stdout",
          "text": [
            "Warning: Maximum number of iterations has been exceeded.\n",
            "         Current function value: 0.016959\n",
            "         Iterations: 35\n"
          ]
        },
        {
          "output_type": "stream",
          "name": "stderr",
          "text": [
            "/usr/local/lib/python3.11/dist-packages/statsmodels/base/model.py:607: ConvergenceWarning: Maximum Likelihood optimization failed to converge. Check mle_retvals\n",
            "  warnings.warn(\"Maximum Likelihood optimization failed to \"\n"
          ]
        },
        {
          "output_type": "stream",
          "name": "stdout",
          "text": [
            "                                  Results: Logit\n",
            "==================================================================================\n",
            "Model:                  Logit                      Method:             MLE        \n",
            "Dependent Variable:     Has_Diaphragmatic_Injury   Pseudo R-squared:   0.194      \n",
            "Date:                   2025-06-25 17:22           AIC:                213473.9078\n",
            "No. Observations:       6292087                    BIC:                213869.8971\n",
            "Df Model:               28                         Log-Likelihood:     -1.0671e+05\n",
            "Df Residuals:           6292058                    LL-Null:            -1.3235e+05\n",
            "Converged:              0.0000                     LLR p-value:        0.0000     \n",
            "No. Iterations:         35.0000                    Scale:              1.0000     \n",
            "----------------------------------------------------------------------------------\n",
            "                             Coef.   Std.Err.     z      P>|z|    [0.025   0.975] \n",
            "----------------------------------------------------------------------------------\n",
            "const                        -7.3821   0.0918   -80.4408 0.0000   -7.5619  -7.2022\n",
            "AGE                          -0.0019   0.0002    -8.3737 0.0000   -0.0023  -0.0015\n",
            "GENDER                        0.8103   0.0129    62.5733 0.0000    0.7849   0.8357\n",
            "RACE1                        -0.1260   0.0019   -64.6331 0.0000   -0.1298  -0.1222\n",
            "ETHNIC                       -0.1004   0.0058   -17.3812 0.0000   -0.1117  -0.0891\n",
            "ISS                           0.0010   0.0001     9.7957 0.0000    0.0008   0.0012\n",
            "MECHANISM                     0.0004   0.0000    26.1184 0.0000    0.0004   0.0004\n",
            "inj_pneumothorax             -0.0457   0.0312    -1.4633 0.1434   -0.1068   0.0155\n",
            "inj_hemothorax                2.3693   0.0463    51.1217 0.0000    2.2785   2.4602\n",
            "inj_lung                      2.4088   0.5699     4.2266 0.0000    1.2918   3.5258\n",
            "inj_heart                     0.2661   0.4276     0.6224 0.5337   -0.5719   1.1042\n",
            "inj_respiratory_failure       0.5254   0.0987     5.3242 0.0000    0.3320   0.7188\n",
            "inj_pleural_effusion          1.1012   0.0999    11.0260 0.0000    0.9055   1.2970\n",
            "inj_cns_complication         -5.3547  54.3558    -0.0985 0.9215 -111.8901 101.1807\n",
            "inj_hemorrhage_complication   0.2545   0.2533     1.0048 0.3150   -0.2419   0.7509\n",
            "inj_shock_other             -61.8377      nan        nan    nan       nan      nan\n",
            "inj_septicemia               -8.1482 156.9497    -0.0519 0.9586 -315.7640 299.4675\n",
            "inj_sepsis                   -0.6185   0.3816    -1.6210 0.1050   -1.3664   0.1294\n",
            "inj_accidental_laceration    -1.2020   0.4883    -2.4615 0.0138   -2.1592  -0.2449\n",
            "inj_urinary_complication     -0.4781   0.7932    -0.6028 0.5467   -2.0328   1.0766\n",
            "inj_pulm_insuff               0.6005   0.0718     8.3628 0.0000    0.4597   0.7412\n",
            "inj_spleen                    1.6621   0.0252    65.9352 0.0000    1.6127   1.7115\n",
            "inj_bladder                   0.5281   0.0666     7.9277 0.0000    0.3975   0.6586\n",
            "inj_bowel                     2.6825   0.0364    73.6124 0.0000    2.6111   2.7539\n",
            "inj_liver                     2.2618   0.0239    94.7309 0.0000    2.2150   2.3086\n",
            "inj_rib_fracture             21.3705      nan        nan    nan       nan      nan\n",
            "inj_thoracic_aorta           21.1165      nan        nan    nan       nan      nan\n",
            "inj_abdominal_aorta          20.5370   0.0003 63631.6083 0.0000   20.5364  20.5377\n",
            "AISVER                       -0.0000   0.0000    -0.7831 0.4336   -0.0000   0.0000\n",
            "DCODEDES                     -0.0000   0.0000    -2.2089 0.0272   -0.0001  -0.0000\n",
            "==================================================================================\n",
            "\n",
            "\n",
            "Odds Ratios:\n",
            "const                          6.223234e-04\n",
            "AGE                            9.981009e-01\n",
            "GENDER                         2.248576e+00\n",
            "RACE1                          8.816181e-01\n",
            "ETHNIC                         9.045042e-01\n",
            "ISS                            1.001025e+00\n",
            "MECHANISM                      1.000416e+00\n",
            "inj_pneumothorax               9.553627e-01\n",
            "inj_hemothorax                 1.069012e+01\n",
            "inj_lung                       1.112046e+01\n",
            "inj_heart                      1.304899e+00\n",
            "inj_respiratory_failure        1.691111e+00\n",
            "inj_pleural_effusion           3.007850e+00\n",
            "inj_cns_complication           4.725961e-03\n",
            "inj_hemorrhage_complication    1.289805e+00\n",
            "inj_shock_other                1.393891e-27\n",
            "inj_septicemia                 2.892469e-04\n",
            "inj_sepsis                     5.387459e-01\n",
            "inj_accidental_laceration      3.005775e-01\n",
            "inj_urinary_complication       6.199434e-01\n",
            "inj_pulm_insuff                1.822985e+00\n",
            "inj_spleen                     5.270172e+00\n",
            "inj_bladder                    1.695669e+00\n",
            "inj_bowel                      1.462168e+01\n",
            "inj_liver                      9.600317e+00\n",
            "inj_rib_fracture               1.910229e+09\n",
            "inj_thoracic_aorta             1.481828e+09\n",
            "inj_abdominal_aorta            8.300870e+08\n",
            "AISVER                         9.999918e-01\n",
            "DCODEDES                       9.999692e-01\n",
            "dtype: float64\n"
          ]
        }
      ]
    },
    {
      "cell_type": "code",
      "source": [
        "##Step 44\n",
        "## 1. Check distribution of RACE1 values\n",
        "#print(\"Unique RACE1 values:\", df_merged['RACE1'].unique())\n",
        "#print(\"\\nRACE1 value counts:\")\n",
        "#print(df_merged['RACE1'].value_counts(dropna=False))\n",
        "\n",
        "## 2. Check injury rate per RACE1 group\n",
        "#injury_by_race = df_merged.groupby('RACE1')['Has_Diaphragmatic_Injury'].mean().sort_values(ascending=False)\n",
        "#print(\"\\n Diaphragmatic Injury Rate by RACE1:\")\n",
        "#print(injury_by_race)\n",
        "\n",
        "## 3. Check missing RACE1 values\n",
        "#missing_race1 = df_merged['RACE1'].isna().sum()\n",
        "#print(f\"\\nMissing RACE1 entries: {missing_race1}\")\n",
        "\n",
        "## 4. If needed, consolidate with RACE2\n",
        "## Example: fill missing RACE1 with RACE2 (only if both exist and it makes clinical sense)\n",
        "#if 'RACE2' in df_merged.columns:\n",
        "#    df_merged['RACE1_filled'] = df_merged['RACE1'].fillna(df_merged['RACE2'])\n",
        "#    print(\"\\n RACE1 missing values filled using RACE2.\")\n",
        "#else:\n",
        "    #df_merged['RACE1_filled'] = df_merged['RACE1']  # fallback\n"
      ],
      "metadata": {
        "id": "fAsmaWQx0uD8"
      },
      "execution_count": 79,
      "outputs": []
    },
    {
      "cell_type": "code",
      "execution_count": 112,
      "metadata": {
        "id": "vKmO4-yFmlmJ",
        "colab": {
          "base_uri": "https://localhost:8080/"
        },
        "outputId": "3fefb98d-1bb3-4b94-8049-f4aa8fc7317b"
      },
      "outputs": [
        {
          "output_type": "stream",
          "name": "stdout",
          "text": [
            "Requirement already satisfied: shap in /usr/local/lib/python3.11/dist-packages (0.48.0)\n",
            "Requirement already satisfied: numpy in /usr/local/lib/python3.11/dist-packages (from shap) (2.0.2)\n",
            "Requirement already satisfied: scipy in /usr/local/lib/python3.11/dist-packages (from shap) (1.15.3)\n",
            "Requirement already satisfied: scikit-learn in /usr/local/lib/python3.11/dist-packages (from shap) (1.6.1)\n",
            "Requirement already satisfied: pandas in /usr/local/lib/python3.11/dist-packages (from shap) (2.2.2)\n",
            "Requirement already satisfied: tqdm>=4.27.0 in /usr/local/lib/python3.11/dist-packages (from shap) (4.67.1)\n",
            "Requirement already satisfied: packaging>20.9 in /usr/local/lib/python3.11/dist-packages (from shap) (24.2)\n",
            "Requirement already satisfied: slicer==0.0.8 in /usr/local/lib/python3.11/dist-packages (from shap) (0.0.8)\n",
            "Requirement already satisfied: numba>=0.54 in /usr/local/lib/python3.11/dist-packages (from shap) (0.60.0)\n",
            "Requirement already satisfied: cloudpickle in /usr/local/lib/python3.11/dist-packages (from shap) (3.1.1)\n",
            "Requirement already satisfied: typing-extensions in /usr/local/lib/python3.11/dist-packages (from shap) (4.14.0)\n",
            "Requirement already satisfied: llvmlite<0.44,>=0.43.0dev0 in /usr/local/lib/python3.11/dist-packages (from numba>=0.54->shap) (0.43.0)\n",
            "Requirement already satisfied: python-dateutil>=2.8.2 in /usr/local/lib/python3.11/dist-packages (from pandas->shap) (2.9.0.post0)\n",
            "Requirement already satisfied: pytz>=2020.1 in /usr/local/lib/python3.11/dist-packages (from pandas->shap) (2025.2)\n",
            "Requirement already satisfied: tzdata>=2022.7 in /usr/local/lib/python3.11/dist-packages (from pandas->shap) (2025.2)\n",
            "Requirement already satisfied: joblib>=1.2.0 in /usr/local/lib/python3.11/dist-packages (from scikit-learn->shap) (1.5.1)\n",
            "Requirement already satisfied: threadpoolctl>=3.1.0 in /usr/local/lib/python3.11/dist-packages (from scikit-learn->shap) (3.6.0)\n",
            "Requirement already satisfied: six>=1.5 in /usr/local/lib/python3.11/dist-packages (from python-dateutil>=2.8.2->pandas->shap) (1.17.0)\n"
          ]
        }
      ],
      "source": [
        "!pip install shap"
      ]
    },
    {
      "cell_type": "code",
      "execution_count": 113,
      "metadata": {
        "id": "WabHDsPxmloQ"
      },
      "outputs": [],
      "source": [
        "import shap\n",
        "import matplotlib.pyplot as plt"
      ]
    },
    {
      "cell_type": "code",
      "source": [
        "#Step60\n",
        "# Limit SHAP to 100 samples for speed\n",
        "sampled_X = X_train_encoded.sample(100, random_state=42)\n",
        "\n",
        "explainer = shap.TreeExplainer(rf_model)\n",
        "shap_values = explainer.shap_values(sampled_X)\n",
        "\n",
        "# Summary plot for quick result\n",
        "shap.summary_plot(shap_values, sampled_X, plot_type=\"bar\")"
      ],
      "metadata": {
        "colab": {
          "base_uri": "https://localhost:8080/",
          "height": 697
        },
        "id": "xM3DlE19cTN6",
        "outputId": "ef380738-87cc-447e-e55e-fd02e40ca55f"
      },
      "execution_count": 114,
      "outputs": [
        {
          "output_type": "display_data",
          "data": {
            "text/plain": [
              "<Figure size 1150x660 with 2 Axes>"
            ],
            "image/png": "[encoded data removed]"
          },
          "metadata": {}
        }
      ]
    },
    {
      "cell_type": "code",
      "source": [
        "#Step61\n",
        "# Larger but still reasonable sample, e.g., 500 rows\n",
        "sampled_X = X_train_encoded.sample(500, random_state=42)\n",
        "\n",
        "explainer = shap.TreeExplainer(rf_model)\n",
        "shap_values = explainer.shap_values(sampled_X)\n",
        "\n",
        "# Full summary bar plot\n",
        "shap.summary_plot(shap_values, sampled_X, plot_type=\"bar\")"
      ],
      "metadata": {
        "colab": {
          "base_uri": "https://localhost:8080/",
          "height": 697
        },
        "id": "Q5PozySA10GL",
        "outputId": "cfd7d05f-86b7-45a8-83a3-ef408aa03765"
      },
      "execution_count": 115,
      "outputs": [
        {
          "output_type": "display_data",
          "data": {
            "text/plain": [
              "<Figure size 1150x660 with 2 Axes>"
            ],
            "image/png": "[encoded data removed]"
          },
          "metadata": {}
        }
      ]
    },
    {
      "cell_type": "code",
      "source": [
        "#Step62\n",
        "# Limit SHAP to a smaller sample for speed\n",
        "sampled_X = X_train_encoded.sample(500, random_state=42)  # Adjust 500 to a size your system handles\n",
        "\n",
        "explainer = shap.TreeExplainer(rf_model)\n",
        "shap_values = explainer.shap_values(sampled_X)\n",
        "\n",
        "# Bar plot for quick SHAP result\n",
        "shap.summary_plot(shap_values, sampled_X, plot_type=\"bar\")\n"
      ],
      "metadata": {
        "colab": {
          "base_uri": "https://localhost:8080/",
          "height": 697
        },
        "id": "UlZB5gzv10Iw",
        "outputId": "c3f05c39-8870-4120-e816-04663d27dcb0"
      },
      "execution_count": 116,
      "outputs": [
        {
          "output_type": "display_data",
          "data": {
            "text/plain": [
              "<Figure size 1150x660 with 2 Axes>"
            ],
            "image/png": "[encoded data removed]"
          },
          "metadata": {}
        }
      ]
    },
    {
      "cell_type": "code",
      "source": [],
      "metadata": {
        "id": "Pq4o4JQL10Le"
      },
      "execution_count": null,
      "outputs": []
    },
    {
      "cell_type": "code",
      "source": [],
      "metadata": {
        "id": "vf0KkKhu10OR"
      },
      "execution_count": null,
      "outputs": []
    }
  ],
  "metadata": {
    "colab": {
      "provenance": [],
      "machine_shape": "hm"
    },
    "kernelspec": {
      "display_name": "Python 3",
      "name": "python3"
    },
    "language_info": {
      "name": "python"
    },
    "widgets": {
      "application/vnd.jupyter.widget-state+json": {
        "71d8c1abcba34e85b7eb10d4a4ef0921": {
          "model_module": "@jupyter-widgets/controls",
          "model_name": "IntSliderModel",
          "model_module_version": "1.5.0",
          "state": {
            "_dom_classes": [],
            "_model_module": "@jupyter-widgets/controls",
            "_model_module_version": "1.5.0",
            "_model_name": "IntSliderModel",
            "_view_count": null,
            "_view_module": "@jupyter-widgets/controls",
            "_view_module_version": "1.5.0",
            "_view_name": "IntSliderView",
            "continuous_update": true,
            "description": "Age:",
            "description_tooltip": null,
            "disabled": false,
            "layout": "IPY_MODEL_e74022705e194c0784834225e14c2d39",
            "max": 100,
            "min": 0,
            "orientation": "horizontal",
            "readout": true,
            "readout_format": "d",
            "step": 1,
            "style": "IPY_MODEL_d297686fff274ad9a841c40728b320df",
            "value": 71
          }
        },
        "e74022705e194c0784834225e14c2d39": {
          "model_module": "@jupyter-widgets/base",
          "model_name": "LayoutModel",
          "model_module_version": "1.2.0",
          "state": {
            "_model_module": "@jupyter-widgets/base",
            "_model_module_version": "1.2.0",
            "_model_name": "LayoutModel",
            "_view_count": null,
            "_view_module": "@jupyter-widgets/base",
            "_view_module_version": "1.2.0",
            "_view_name": "LayoutView",
            "align_content": null,
            "align_items": null,
            "align_self": null,
            "border": null,
            "bottom": null,
            "display": null,
            "flex": null,
            "flex_flow": null,
            "grid_area": null,
            "grid_auto_columns": null,
            "grid_auto_flow": null,
            "grid_auto_rows": null,
            "grid_column": null,
            "grid_gap": null,
            "grid_row": null,
            "grid_template_areas": null,
            "grid_template_columns": null,
            "grid_template_rows": null,
            "height": null,
            "justify_content": null,
            "justify_items": null,
            "left": null,
            "margin": null,
            "max_height": null,
            "max_width": null,
            "min_height": null,
            "min_width": null,
            "object_fit": null,
            "object_position": null,
            "order": null,
            "overflow": null,
            "overflow_x": null,
            "overflow_y": null,
            "padding": null,
            "right": null,
            "top": null,
            "visibility": null,
            "width": null
          }
        },
        "d297686fff274ad9a841c40728b320df": {
          "model_module": "@jupyter-widgets/controls",
          "model_name": "SliderStyleModel",
          "model_module_version": "1.5.0",
          "state": {
            "_model_module": "@jupyter-widgets/controls",
            "_model_module_version": "1.5.0",
            "_model_name": "SliderStyleModel",
            "_view_count": null,
            "_view_module": "@jupyter-widgets/base",
            "_view_module_version": "1.2.0",
            "_view_name": "StyleView",
            "description_width": "",
            "handle_color": null
          }
        },
        "6a71b6b440cc4345822559eca9266de0": {
          "model_module": "@jupyter-widgets/controls",
          "model_name": "DropdownModel",
          "model_module_version": "1.5.0",
          "state": {
            "_dom_classes": [],
            "_model_module": "@jupyter-widgets/controls",
            "_model_module_version": "1.5.0",
            "_model_name": "DropdownModel",
            "_options_labels": [
              "Male",
              "Female"
            ],
            "_view_count": null,
            "_view_module": "@jupyter-widgets/controls",
            "_view_module_version": "1.5.0",
            "_view_name": "DropdownView",
            "description": "Gender:",
            "description_tooltip": null,
            "disabled": false,
            "index": 1,
            "layout": "IPY_MODEL_9b74508bd8f64905800b3a12df9725ec",
            "style": "IPY_MODEL_2636045af9da45a8a3970f14a120e795"
          }
        },
        "9b74508bd8f64905800b3a12df9725ec": {
          "model_module": "@jupyter-widgets/base",
          "model_name": "LayoutModel",
          "model_module_version": "1.2.0",
          "state": {
            "_model_module": "@jupyter-widgets/base",
            "_model_module_version": "1.2.0",
            "_model_name": "LayoutModel",
            "_view_count": null,
            "_view_module": "@jupyter-widgets/base",
            "_view_module_version": "1.2.0",
            "_view_name": "LayoutView",
            "align_content": null,
            "align_items": null,
            "align_self": null,
            "border": null,
            "bottom": null,
            "display": null,
            "flex": null,
            "flex_flow": null,
            "grid_area": null,
            "grid_auto_columns": null,
            "grid_auto_flow": null,
            "grid_auto_rows": null,
            "grid_column": null,
            "grid_gap": null,
            "grid_row": null,
            "grid_template_areas": null,
            "grid_template_columns": null,
            "grid_template_rows": null,
            "height": null,
            "justify_content": null,
            "justify_items": null,
            "left": null,
            "margin": null,
            "max_height": null,
            "max_width": null,
            "min_height": null,
            "min_width": null,
            "object_fit": null,
            "object_position": null,
            "order": null,
            "overflow": null,
            "overflow_x": null,
            "overflow_y": null,
            "padding": null,
            "right": null,
            "top": null,
            "visibility": null,
            "width": null
          }
        },
        "2636045af9da45a8a3970f14a120e795": {
          "model_module": "@jupyter-widgets/controls",
          "model_name": "DescriptionStyleModel",
          "model_module_version": "1.5.0",
          "state": {
            "_model_module": "@jupyter-widgets/controls",
            "_model_module_version": "1.5.0",
            "_model_name": "DescriptionStyleModel",
            "_view_count": null,
            "_view_module": "@jupyter-widgets/base",
            "_view_module_version": "1.2.0",
            "_view_name": "StyleView",
            "description_width": ""
          }
        },
        "466466b47b334af5abebab1a3564a82a": {
          "model_module": "@jupyter-widgets/controls",
          "model_name": "DropdownModel",
          "model_module_version": "1.5.0",
          "state": {
            "_dom_classes": [],
            "_model_module": "@jupyter-widgets/controls",
            "_model_module_version": "1.5.0",
            "_model_name": "DropdownModel",
            "_options_labels": [
              "White",
              "Black",
              "Hispanic",
              "Asian",
              "Other"
            ],
            "_view_count": null,
            "_view_module": "@jupyter-widgets/controls",
            "_view_module_version": "1.5.0",
            "_view_name": "DropdownView",
            "description": "Race1:",
            "description_tooltip": null,
            "disabled": false,
            "index": 3,
            "layout": "IPY_MODEL_8dda438860dc47c5be39a5ff88ee7d78",
            "style": "IPY_MODEL_4df67c72cbea4fd1904ab3e7cc9d428a"
          }
        },
        "8dda438860dc47c5be39a5ff88ee7d78": {
          "model_module": "@jupyter-widgets/base",
          "model_name": "LayoutModel",
          "model_module_version": "1.2.0",
          "state": {
            "_model_module": "@jupyter-widgets/base",
            "_model_module_version": "1.2.0",
            "_model_name": "LayoutModel",
            "_view_count": null,
            "_view_module": "@jupyter-widgets/base",
            "_view_module_version": "1.2.0",
            "_view_name": "LayoutView",
            "align_content": null,
            "align_items": null,
            "align_self": null,
            "border": null,
            "bottom": null,
            "display": null,
            "flex": null,
            "flex_flow": null,
            "grid_area": null,
            "grid_auto_columns": null,
            "grid_auto_flow": null,
            "grid_auto_rows": null,
            "grid_column": null,
            "grid_gap": null,
            "grid_row": null,
            "grid_template_areas": null,
            "grid_template_columns": null,
            "grid_template_rows": null,
            "height": null,
            "justify_content": null,
            "justify_items": null,
            "left": null,
            "margin": null,
            "max_height": null,
            "max_width": null,
            "min_height": null,
            "min_width": null,
            "object_fit": null,
            "object_position": null,
            "order": null,
            "overflow": null,
            "overflow_x": null,
            "overflow_y": null,
            "padding": null,
            "right": null,
            "top": null,
            "visibility": null,
            "width": null
          }
        },
        "4df67c72cbea4fd1904ab3e7cc9d428a": {
          "model_module": "@jupyter-widgets/controls",
          "model_name": "DescriptionStyleModel",
          "model_module_version": "1.5.0",
          "state": {
            "_model_module": "@jupyter-widgets/controls",
            "_model_module_version": "1.5.0",
            "_model_name": "DescriptionStyleModel",
            "_view_count": null,
            "_view_module": "@jupyter-widgets/base",
            "_view_module_version": "1.2.0",
            "_view_name": "StyleView",
            "description_width": ""
          }
        },
        "c1e45b0a29ae400d8db7c9741400b3a2": {
          "model_module": "@jupyter-widgets/controls",
          "model_name": "DropdownModel",
          "model_module_version": "1.5.0",
          "state": {
            "_dom_classes": [],
            "_model_module": "@jupyter-widgets/controls",
            "_model_module_version": "1.5.0",
            "_model_name": "DropdownModel",
            "_options_labels": [
              "Non-Hispanic",
              "Hispanic"
            ],
            "_view_count": null,
            "_view_module": "@jupyter-widgets/controls",
            "_view_module_version": "1.5.0",
            "_view_name": "DropdownView",
            "description": "Ethnicity:",
            "description_tooltip": null,
            "disabled": false,
            "index": 1,
            "layout": "IPY_MODEL_730dcadc2f7a49e6b9cd74d2e8b48712",
            "style": "IPY_MODEL_5098879589ee4963aa6ffe6155820afa"
          }
        },
        "730dcadc2f7a49e6b9cd74d2e8b48712": {
          "model_module": "@jupyter-widgets/base",
          "model_name": "LayoutModel",
          "model_module_version": "1.2.0",
          "state": {
            "_model_module": "@jupyter-widgets/base",
            "_model_module_version": "1.2.0",
            "_model_name": "LayoutModel",
            "_view_count": null,
            "_view_module": "@jupyter-widgets/base",
            "_view_module_version": "1.2.0",
            "_view_name": "LayoutView",
            "align_content": null,
            "align_items": null,
            "align_self": null,
            "border": null,
            "bottom": null,
            "display": null,
            "flex": null,
            "flex_flow": null,
            "grid_area": null,
            "grid_auto_columns": null,
            "grid_auto_flow": null,
            "grid_auto_rows": null,
            "grid_column": null,
            "grid_gap": null,
            "grid_row": null,
            "grid_template_areas": null,
            "grid_template_columns": null,
            "grid_template_rows": null,
            "height": null,
            "justify_content": null,
            "justify_items": null,
            "left": null,
            "margin": null,
            "max_height": null,
            "max_width": null,
            "min_height": null,
            "min_width": null,
            "object_fit": null,
            "object_position": null,
            "order": null,
            "overflow": null,
            "overflow_x": null,
            "overflow_y": null,
            "padding": null,
            "right": null,
            "top": null,
            "visibility": null,
            "width": null
          }
        },
        "5098879589ee4963aa6ffe6155820afa": {
          "model_module": "@jupyter-widgets/controls",
          "model_name": "DescriptionStyleModel",
          "model_module_version": "1.5.0",
          "state": {
            "_model_module": "@jupyter-widgets/controls",
            "_model_module_version": "1.5.0",
            "_model_name": "DescriptionStyleModel",
            "_view_count": null,
            "_view_module": "@jupyter-widgets/base",
            "_view_module_version": "1.2.0",
            "_view_name": "StyleView",
            "description_width": ""
          }
        },
        "46937361c2e64ebca668bdbd640076fc": {
          "model_module": "@jupyter-widgets/controls",
          "model_name": "IntSliderModel",
          "model_module_version": "1.5.0",
          "state": {
            "_dom_classes": [],
            "_model_module": "@jupyter-widgets/controls",
            "_model_module_version": "1.5.0",
            "_model_name": "IntSliderModel",
            "_view_count": null,
            "_view_module": "@jupyter-widgets/controls",
            "_view_module_version": "1.5.0",
            "_view_name": "IntSliderView",
            "continuous_update": true,
            "description": "ISS:",
            "description_tooltip": null,
            "disabled": false,
            "layout": "IPY_MODEL_fa07999af30a494a8a8232e1c26cb088",
            "max": 75,
            "min": 0,
            "orientation": "horizontal",
            "readout": true,
            "readout_format": "d",
            "step": 1,
            "style": "IPY_MODEL_cf8415b30d164bf1aa0ae883b237b708",
            "value": 10
          }
        },
        "fa07999af30a494a8a8232e1c26cb088": {
          "model_module": "@jupyter-widgets/base",
          "model_name": "LayoutModel",
          "model_module_version": "1.2.0",
          "state": {
            "_model_module": "@jupyter-widgets/base",
            "_model_module_version": "1.2.0",
            "_model_name": "LayoutModel",
            "_view_count": null,
            "_view_module": "@jupyter-widgets/base",
            "_view_module_version": "1.2.0",
            "_view_name": "LayoutView",
            "align_content": null,
            "align_items": null,
            "align_self": null,
            "border": null,
            "bottom": null,
            "display": null,
            "flex": null,
            "flex_flow": null,
            "grid_area": null,
            "grid_auto_columns": null,
            "grid_auto_flow": null,
            "grid_auto_rows": null,
            "grid_column": null,
            "grid_gap": null,
            "grid_row": null,
            "grid_template_areas": null,
            "grid_template_columns": null,
            "grid_template_rows": null,
            "height": null,
            "justify_content": null,
            "justify_items": null,
            "left": null,
            "margin": null,
            "max_height": null,
            "max_width": null,
            "min_height": null,
            "min_width": null,
            "object_fit": null,
            "object_position": null,
            "order": null,
            "overflow": null,
            "overflow_x": null,
            "overflow_y": null,
            "padding": null,
            "right": null,
            "top": null,
            "visibility": null,
            "width": null
          }
        },
        "cf8415b30d164bf1aa0ae883b237b708": {
          "model_module": "@jupyter-widgets/controls",
          "model_name": "SliderStyleModel",
          "model_module_version": "1.5.0",
          "state": {
            "_model_module": "@jupyter-widgets/controls",
            "_model_module_version": "1.5.0",
            "_model_name": "SliderStyleModel",
            "_view_count": null,
            "_view_module": "@jupyter-widgets/base",
            "_view_module_version": "1.2.0",
            "_view_name": "StyleView",
            "description_width": "",
            "handle_color": null
          }
        },
        "e265ef26a1fb431aac270b2210250440": {
          "model_module": "@jupyter-widgets/controls",
          "model_name": "DropdownModel",
          "model_module_version": "1.5.0",
          "state": {
            "_dom_classes": [],
            "_model_module": "@jupyter-widgets/controls",
            "_model_module_version": "1.5.0",
            "_model_name": "DropdownModel",
            "_options_labels": [
              "Blunt",
              "Penetrating"
            ],
            "_view_count": null,
            "_view_module": "@jupyter-widgets/controls",
            "_view_module_version": "1.5.0",
            "_view_name": "DropdownView",
            "description": "Mechanism:",
            "description_tooltip": null,
            "disabled": false,
            "index": 0,
            "layout": "IPY_MODEL_95afe38113374c8abdd36cb683b8e657",
            "style": "IPY_MODEL_a02b0bd7b9c94b9ab0ff385467685167"
          }
        },
        "95afe38113374c8abdd36cb683b8e657": {
          "model_module": "@jupyter-widgets/base",
          "model_name": "LayoutModel",
          "model_module_version": "1.2.0",
          "state": {
            "_model_module": "@jupyter-widgets/base",
            "_model_module_version": "1.2.0",
            "_model_name": "LayoutModel",
            "_view_count": null,
            "_view_module": "@jupyter-widgets/base",
            "_view_module_version": "1.2.0",
            "_view_name": "LayoutView",
            "align_content": null,
            "align_items": null,
            "align_self": null,
            "border": null,
            "bottom": null,
            "display": null,
            "flex": null,
            "flex_flow": null,
            "grid_area": null,
            "grid_auto_columns": null,
            "grid_auto_flow": null,
            "grid_auto_rows": null,
            "grid_column": null,
            "grid_gap": null,
            "grid_row": null,
            "grid_template_areas": null,
            "grid_template_columns": null,
            "grid_template_rows": null,
            "height": null,
            "justify_content": null,
            "justify_items": null,
            "left": null,
            "margin": null,
            "max_height": null,
            "max_width": null,
            "min_height": null,
            "min_width": null,
            "object_fit": null,
            "object_position": null,
            "order": null,
            "overflow": null,
            "overflow_x": null,
            "overflow_y": null,
            "padding": null,
            "right": null,
            "top": null,
            "visibility": null,
            "width": null
          }
        },
        "a02b0bd7b9c94b9ab0ff385467685167": {
          "model_module": "@jupyter-widgets/controls",
          "model_name": "DescriptionStyleModel",
          "model_module_version": "1.5.0",
          "state": {
            "_model_module": "@jupyter-widgets/controls",
            "_model_module_version": "1.5.0",
            "_model_name": "DescriptionStyleModel",
            "_view_count": null,
            "_view_module": "@jupyter-widgets/base",
            "_view_module_version": "1.2.0",
            "_view_name": "StyleView",
            "description_width": ""
          }
        },
        "a7ff608b8fb541059195d1cd36263a90": {
          "model_module": "@jupyter-widgets/controls",
          "model_name": "CheckboxModel",
          "model_module_version": "1.5.0",
          "state": {
            "_dom_classes": [],
            "_model_module": "@jupyter-widgets/controls",
            "_model_module_version": "1.5.0",
            "_model_name": "CheckboxModel",
            "_view_count": null,
            "_view_module": "@jupyter-widgets/controls",
            "_view_module_version": "1.5.0",
            "_view_name": "CheckboxView",
            "description": "Pneumothorax",
            "description_tooltip": null,
            "disabled": false,
            "indent": true,
            "layout": "IPY_MODEL_73f478e372d8451896cac93570b41d74",
            "style": "IPY_MODEL_1307e8044c544692bda358af19662dd4",
            "value": false
          }
        },
        "73f478e372d8451896cac93570b41d74": {
          "model_module": "@jupyter-widgets/base",
          "model_name": "LayoutModel",
          "model_module_version": "1.2.0",
          "state": {
            "_model_module": "@jupyter-widgets/base",
            "_model_module_version": "1.2.0",
            "_model_name": "LayoutModel",
            "_view_count": null,
            "_view_module": "@jupyter-widgets/base",
            "_view_module_version": "1.2.0",
            "_view_name": "LayoutView",
            "align_content": null,
            "align_items": null,
            "align_self": null,
            "border": null,
            "bottom": null,
            "display": null,
            "flex": null,
            "flex_flow": null,
            "grid_area": null,
            "grid_auto_columns": null,
            "grid_auto_flow": null,
            "grid_auto_rows": null,
            "grid_column": null,
            "grid_gap": null,
            "grid_row": null,
            "grid_template_areas": null,
            "grid_template_columns": null,
            "grid_template_rows": null,
            "height": null,
            "justify_content": null,
            "justify_items": null,
            "left": null,
            "margin": null,
            "max_height": null,
            "max_width": null,
            "min_height": null,
            "min_width": null,
            "object_fit": null,
            "object_position": null,
            "order": null,
            "overflow": null,
            "overflow_x": null,
            "overflow_y": null,
            "padding": null,
            "right": null,
            "top": null,
            "visibility": null,
            "width": null
          }
        },
        "1307e8044c544692bda358af19662dd4": {
          "model_module": "@jupyter-widgets/controls",
          "model_name": "DescriptionStyleModel",
          "model_module_version": "1.5.0",
          "state": {
            "_model_module": "@jupyter-widgets/controls",
            "_model_module_version": "1.5.0",
            "_model_name": "DescriptionStyleModel",
            "_view_count": null,
            "_view_module": "@jupyter-widgets/base",
            "_view_module_version": "1.2.0",
            "_view_name": "StyleView",
            "description_width": ""
          }
        },
        "9b303b06ebd44605a129b5ab7fac1162": {
          "model_module": "@jupyter-widgets/controls",
          "model_name": "CheckboxModel",
          "model_module_version": "1.5.0",
          "state": {
            "_dom_classes": [],
            "_model_module": "@jupyter-widgets/controls",
            "_model_module_version": "1.5.0",
            "_model_name": "CheckboxModel",
            "_view_count": null,
            "_view_module": "@jupyter-widgets/controls",
            "_view_module_version": "1.5.0",
            "_view_name": "CheckboxView",
            "description": "Hemothorax",
            "description_tooltip": null,
            "disabled": false,
            "indent": true,
            "layout": "IPY_MODEL_96bb82c19ad045cdb71d9fd74695be75",
            "style": "IPY_MODEL_60db7d4da54a4d7db2245f980cdf6e14",
            "value": true
          }
        },
        "96bb82c19ad045cdb71d9fd74695be75": {
          "model_module": "@jupyter-widgets/base",
          "model_name": "LayoutModel",
          "model_module_version": "1.2.0",
          "state": {
            "_model_module": "@jupyter-widgets/base",
            "_model_module_version": "1.2.0",
            "_model_name": "LayoutModel",
            "_view_count": null,
            "_view_module": "@jupyter-widgets/base",
            "_view_module_version": "1.2.0",
            "_view_name": "LayoutView",
            "align_content": null,
            "align_items": null,
            "align_self": null,
            "border": null,
            "bottom": null,
            "display": null,
            "flex": null,
            "flex_flow": null,
            "grid_area": null,
            "grid_auto_columns": null,
            "grid_auto_flow": null,
            "grid_auto_rows": null,
            "grid_column": null,
            "grid_gap": null,
            "grid_row": null,
            "grid_template_areas": null,
            "grid_template_columns": null,
            "grid_template_rows": null,
            "height": null,
            "justify_content": null,
            "justify_items": null,
            "left": null,
            "margin": null,
            "max_height": null,
            "max_width": null,
            "min_height": null,
            "min_width": null,
            "object_fit": null,
            "object_position": null,
            "order": null,
            "overflow": null,
            "overflow_x": null,
            "overflow_y": null,
            "padding": null,
            "right": null,
            "top": null,
            "visibility": null,
            "width": null
          }
        },
        "60db7d4da54a4d7db2245f980cdf6e14": {
          "model_module": "@jupyter-widgets/controls",
          "model_name": "DescriptionStyleModel",
          "model_module_version": "1.5.0",
          "state": {
            "_model_module": "@jupyter-widgets/controls",
            "_model_module_version": "1.5.0",
            "_model_name": "DescriptionStyleModel",
            "_view_count": null,
            "_view_module": "@jupyter-widgets/base",
            "_view_module_version": "1.2.0",
            "_view_name": "StyleView",
            "description_width": ""
          }
        },
        "837dfad27ab749f782ea81db675567e9": {
          "model_module": "@jupyter-widgets/controls",
          "model_name": "CheckboxModel",
          "model_module_version": "1.5.0",
          "state": {
            "_dom_classes": [],
            "_model_module": "@jupyter-widgets/controls",
            "_model_module_version": "1.5.0",
            "_model_name": "CheckboxModel",
            "_view_count": null,
            "_view_module": "@jupyter-widgets/controls",
            "_view_module_version": "1.5.0",
            "_view_name": "CheckboxView",
            "description": "Lung Injury",
            "description_tooltip": null,
            "disabled": false,
            "indent": true,
            "layout": "IPY_MODEL_a7007e7858d947b487752458bf6e8561",
            "style": "IPY_MODEL_18d27053444f44aabfed8fc690fc3598",
            "value": true
          }
        },
        "a7007e7858d947b487752458bf6e8561": {
          "model_module": "@jupyter-widgets/base",
          "model_name": "LayoutModel",
          "model_module_version": "1.2.0",
          "state": {
            "_model_module": "@jupyter-widgets/base",
            "_model_module_version": "1.2.0",
            "_model_name": "LayoutModel",
            "_view_count": null,
            "_view_module": "@jupyter-widgets/base",
            "_view_module_version": "1.2.0",
            "_view_name": "LayoutView",
            "align_content": null,
            "align_items": null,
            "align_self": null,
            "border": null,
            "bottom": null,
            "display": null,
            "flex": null,
            "flex_flow": null,
            "grid_area": null,
            "grid_auto_columns": null,
            "grid_auto_flow": null,
            "grid_auto_rows": null,
            "grid_column": null,
            "grid_gap": null,
            "grid_row": null,
            "grid_template_areas": null,
            "grid_template_columns": null,
            "grid_template_rows": null,
            "height": null,
            "justify_content": null,
            "justify_items": null,
            "left": null,
            "margin": null,
            "max_height": null,
            "max_width": null,
            "min_height": null,
            "min_width": null,
            "object_fit": null,
            "object_position": null,
            "order": null,
            "overflow": null,
            "overflow_x": null,
            "overflow_y": null,
            "padding": null,
            "right": null,
            "top": null,
            "visibility": null,
            "width": null
          }
        },
        "18d27053444f44aabfed8fc690fc3598": {
          "model_module": "@jupyter-widgets/controls",
          "model_name": "DescriptionStyleModel",
          "model_module_version": "1.5.0",
          "state": {
            "_model_module": "@jupyter-widgets/controls",
            "_model_module_version": "1.5.0",
            "_model_name": "DescriptionStyleModel",
            "_view_count": null,
            "_view_module": "@jupyter-widgets/base",
            "_view_module_version": "1.2.0",
            "_view_name": "StyleView",
            "description_width": ""
          }
        },
        "31429e6ad5704bffbd2fe2bf44dfa09d": {
          "model_module": "@jupyter-widgets/controls",
          "model_name": "CheckboxModel",
          "model_module_version": "1.5.0",
          "state": {
            "_dom_classes": [],
            "_model_module": "@jupyter-widgets/controls",
            "_model_module_version": "1.5.0",
            "_model_name": "CheckboxModel",
            "_view_count": null,
            "_view_module": "@jupyter-widgets/controls",
            "_view_module_version": "1.5.0",
            "_view_name": "CheckboxView",
            "description": "Heart Injury",
            "description_tooltip": null,
            "disabled": false,
            "indent": true,
            "layout": "IPY_MODEL_b06c562fb6704a3a9d931ad0e3e96dd9",
            "style": "IPY_MODEL_a65b020184554cec9afecd666edf5763",
            "value": true
          }
        },
        "b06c562fb6704a3a9d931ad0e3e96dd9": {
          "model_module": "@jupyter-widgets/base",
          "model_name": "LayoutModel",
          "model_module_version": "1.2.0",
          "state": {
            "_model_module": "@jupyter-widgets/base",
            "_model_module_version": "1.2.0",
            "_model_name": "LayoutModel",
            "_view_count": null,
            "_view_module": "@jupyter-widgets/base",
            "_view_module_version": "1.2.0",
            "_view_name": "LayoutView",
            "align_content": null,
            "align_items": null,
            "align_self": null,
            "border": null,
            "bottom": null,
            "display": null,
            "flex": null,
            "flex_flow": null,
            "grid_area": null,
            "grid_auto_columns": null,
            "grid_auto_flow": null,
            "grid_auto_rows": null,
            "grid_column": null,
            "grid_gap": null,
            "grid_row": null,
            "grid_template_areas": null,
            "grid_template_columns": null,
            "grid_template_rows": null,
            "height": null,
            "justify_content": null,
            "justify_items": null,
            "left": null,
            "margin": null,
            "max_height": null,
            "max_width": null,
            "min_height": null,
            "min_width": null,
            "object_fit": null,
            "object_position": null,
            "order": null,
            "overflow": null,
            "overflow_x": null,
            "overflow_y": null,
            "padding": null,
            "right": null,
            "top": null,
            "visibility": null,
            "width": null
          }
        },
        "a65b020184554cec9afecd666edf5763": {
          "model_module": "@jupyter-widgets/controls",
          "model_name": "DescriptionStyleModel",
          "model_module_version": "1.5.0",
          "state": {
            "_model_module": "@jupyter-widgets/controls",
            "_model_module_version": "1.5.0",
            "_model_name": "DescriptionStyleModel",
            "_view_count": null,
            "_view_module": "@jupyter-widgets/base",
            "_view_module_version": "1.2.0",
            "_view_name": "StyleView",
            "description_width": ""
          }
        },
        "3589b71943db421896b75783850890a4": {
          "model_module": "@jupyter-widgets/controls",
          "model_name": "CheckboxModel",
          "model_module_version": "1.5.0",
          "state": {
            "_dom_classes": [],
            "_model_module": "@jupyter-widgets/controls",
            "_model_module_version": "1.5.0",
            "_model_name": "CheckboxModel",
            "_view_count": null,
            "_view_module": "@jupyter-widgets/controls",
            "_view_module_version": "1.5.0",
            "_view_name": "CheckboxView",
            "description": "Respiratory Failure",
            "description_tooltip": null,
            "disabled": false,
            "indent": true,
            "layout": "IPY_MODEL_a74e7de90a714393b22a745ea667c5d9",
            "style": "IPY_MODEL_10288628006f4a52ad354936aac085c5",
            "value": true
          }
        },
        "a74e7de90a714393b22a745ea667c5d9": {
          "model_module": "@jupyter-widgets/base",
          "model_name": "LayoutModel",
          "model_module_version": "1.2.0",
          "state": {
            "_model_module": "@jupyter-widgets/base",
            "_model_module_version": "1.2.0",
            "_model_name": "LayoutModel",
            "_view_count": null,
            "_view_module": "@jupyter-widgets/base",
            "_view_module_version": "1.2.0",
            "_view_name": "LayoutView",
            "align_content": null,
            "align_items": null,
            "align_self": null,
            "border": null,
            "bottom": null,
            "display": null,
            "flex": null,
            "flex_flow": null,
            "grid_area": null,
            "grid_auto_columns": null,
            "grid_auto_flow": null,
            "grid_auto_rows": null,
            "grid_column": null,
            "grid_gap": null,
            "grid_row": null,
            "grid_template_areas": null,
            "grid_template_columns": null,
            "grid_template_rows": null,
            "height": null,
            "justify_content": null,
            "justify_items": null,
            "left": null,
            "margin": null,
            "max_height": null,
            "max_width": null,
            "min_height": null,
            "min_width": null,
            "object_fit": null,
            "object_position": null,
            "order": null,
            "overflow": null,
            "overflow_x": null,
            "overflow_y": null,
            "padding": null,
            "right": null,
            "top": null,
            "visibility": null,
            "width": null
          }
        },
        "10288628006f4a52ad354936aac085c5": {
          "model_module": "@jupyter-widgets/controls",
          "model_name": "DescriptionStyleModel",
          "model_module_version": "1.5.0",
          "state": {
            "_model_module": "@jupyter-widgets/controls",
            "_model_module_version": "1.5.0",
            "_model_name": "DescriptionStyleModel",
            "_view_count": null,
            "_view_module": "@jupyter-widgets/base",
            "_view_module_version": "1.2.0",
            "_view_name": "StyleView",
            "description_width": ""
          }
        },
        "e11cecc2b73b48649814047639fcf56e": {
          "model_module": "@jupyter-widgets/controls",
          "model_name": "CheckboxModel",
          "model_module_version": "1.5.0",
          "state": {
            "_dom_classes": [],
            "_model_module": "@jupyter-widgets/controls",
            "_model_module_version": "1.5.0",
            "_model_name": "CheckboxModel",
            "_view_count": null,
            "_view_module": "@jupyter-widgets/controls",
            "_view_module_version": "1.5.0",
            "_view_name": "CheckboxView",
            "description": "Pleural Effusion",
            "description_tooltip": null,
            "disabled": false,
            "indent": true,
            "layout": "IPY_MODEL_349df8498d984b268f27070ca0588fbd",
            "style": "IPY_MODEL_cab0c1fb9edc47e1b039866df1291f10",
            "value": false
          }
        },
        "349df8498d984b268f27070ca0588fbd": {
          "model_module": "@jupyter-widgets/base",
          "model_name": "LayoutModel",
          "model_module_version": "1.2.0",
          "state": {
            "_model_module": "@jupyter-widgets/base",
            "_model_module_version": "1.2.0",
            "_model_name": "LayoutModel",
            "_view_count": null,
            "_view_module": "@jupyter-widgets/base",
            "_view_module_version": "1.2.0",
            "_view_name": "LayoutView",
            "align_content": null,
            "align_items": null,
            "align_self": null,
            "border": null,
            "bottom": null,
            "display": null,
            "flex": null,
            "flex_flow": null,
            "grid_area": null,
            "grid_auto_columns": null,
            "grid_auto_flow": null,
            "grid_auto_rows": null,
            "grid_column": null,
            "grid_gap": null,
            "grid_row": null,
            "grid_template_areas": null,
            "grid_template_columns": null,
            "grid_template_rows": null,
            "height": null,
            "justify_content": null,
            "justify_items": null,
            "left": null,
            "margin": null,
            "max_height": null,
            "max_width": null,
            "min_height": null,
            "min_width": null,
            "object_fit": null,
            "object_position": null,
            "order": null,
            "overflow": null,
            "overflow_x": null,
            "overflow_y": null,
            "padding": null,
            "right": null,
            "top": null,
            "visibility": null,
            "width": null
          }
        },
        "cab0c1fb9edc47e1b039866df1291f10": {
          "model_module": "@jupyter-widgets/controls",
          "model_name": "DescriptionStyleModel",
          "model_module_version": "1.5.0",
          "state": {
            "_model_module": "@jupyter-widgets/controls",
            "_model_module_version": "1.5.0",
            "_model_name": "DescriptionStyleModel",
            "_view_count": null,
            "_view_module": "@jupyter-widgets/base",
            "_view_module_version": "1.2.0",
            "_view_name": "StyleView",
            "description_width": ""
          }
        },
        "dfc6fdfc8f074fbda5956247d55d1dcf": {
          "model_module": "@jupyter-widgets/controls",
          "model_name": "CheckboxModel",
          "model_module_version": "1.5.0",
          "state": {
            "_dom_classes": [],
            "_model_module": "@jupyter-widgets/controls",
            "_model_module_version": "1.5.0",
            "_model_name": "CheckboxModel",
            "_view_count": null,
            "_view_module": "@jupyter-widgets/controls",
            "_view_module_version": "1.5.0",
            "_view_name": "CheckboxView",
            "description": "CNS Complication",
            "description_tooltip": null,
            "disabled": false,
            "indent": true,
            "layout": "IPY_MODEL_85ec775f8e9e408dbce0a39afc2d93a9",
            "style": "IPY_MODEL_d46feb561e5848c0b205cc797fa64fc4",
            "value": false
          }
        },
        "85ec775f8e9e408dbce0a39afc2d93a9": {
          "model_module": "@jupyter-widgets/base",
          "model_name": "LayoutModel",
          "model_module_version": "1.2.0",
          "state": {
            "_model_module": "@jupyter-widgets/base",
            "_model_module_version": "1.2.0",
            "_model_name": "LayoutModel",
            "_view_count": null,
            "_view_module": "@jupyter-widgets/base",
            "_view_module_version": "1.2.0",
            "_view_name": "LayoutView",
            "align_content": null,
            "align_items": null,
            "align_self": null,
            "border": null,
            "bottom": null,
            "display": null,
            "flex": null,
            "flex_flow": null,
            "grid_area": null,
            "grid_auto_columns": null,
            "grid_auto_flow": null,
            "grid_auto_rows": null,
            "grid_column": null,
            "grid_gap": null,
            "grid_row": null,
            "grid_template_areas": null,
            "grid_template_columns": null,
            "grid_template_rows": null,
            "height": null,
            "justify_content": null,
            "justify_items": null,
            "left": null,
            "margin": null,
            "max_height": null,
            "max_width": null,
            "min_height": null,
            "min_width": null,
            "object_fit": null,
            "object_position": null,
            "order": null,
            "overflow": null,
            "overflow_x": null,
            "overflow_y": null,
            "padding": null,
            "right": null,
            "top": null,
            "visibility": null,
            "width": null
          }
        },
        "d46feb561e5848c0b205cc797fa64fc4": {
          "model_module": "@jupyter-widgets/controls",
          "model_name": "DescriptionStyleModel",
          "model_module_version": "1.5.0",
          "state": {
            "_model_module": "@jupyter-widgets/controls",
            "_model_module_version": "1.5.0",
            "_model_name": "DescriptionStyleModel",
            "_view_count": null,
            "_view_module": "@jupyter-widgets/base",
            "_view_module_version": "1.2.0",
            "_view_name": "StyleView",
            "description_width": ""
          }
        },
        "d48537d98a044725955c6e9a6794999b": {
          "model_module": "@jupyter-widgets/controls",
          "model_name": "CheckboxModel",
          "model_module_version": "1.5.0",
          "state": {
            "_dom_classes": [],
            "_model_module": "@jupyter-widgets/controls",
            "_model_module_version": "1.5.0",
            "_model_name": "CheckboxModel",
            "_view_count": null,
            "_view_module": "@jupyter-widgets/controls",
            "_view_module_version": "1.5.0",
            "_view_name": "CheckboxView",
            "description": "Hemorrhage Complication",
            "description_tooltip": null,
            "disabled": false,
            "indent": true,
            "layout": "IPY_MODEL_83855e22829c40e5a22e46caf714df1b",
            "style": "IPY_MODEL_cb59dadd52e0408b9faf54e10bc62971",
            "value": false
          }
        },
        "83855e22829c40e5a22e46caf714df1b": {
          "model_module": "@jupyter-widgets/base",
          "model_name": "LayoutModel",
          "model_module_version": "1.2.0",
          "state": {
            "_model_module": "@jupyter-widgets/base",
            "_model_module_version": "1.2.0",
            "_model_name": "LayoutModel",
            "_view_count": null,
            "_view_module": "@jupyter-widgets/base",
            "_view_module_version": "1.2.0",
            "_view_name": "LayoutView",
            "align_content": null,
            "align_items": null,
            "align_self": null,
            "border": null,
            "bottom": null,
            "display": null,
            "flex": null,
            "flex_flow": null,
            "grid_area": null,
            "grid_auto_columns": null,
            "grid_auto_flow": null,
            "grid_auto_rows": null,
            "grid_column": null,
            "grid_gap": null,
            "grid_row": null,
            "grid_template_areas": null,
            "grid_template_columns": null,
            "grid_template_rows": null,
            "height": null,
            "justify_content": null,
            "justify_items": null,
            "left": null,
            "margin": null,
            "max_height": null,
            "max_width": null,
            "min_height": null,
            "min_width": null,
            "object_fit": null,
            "object_position": null,
            "order": null,
            "overflow": null,
            "overflow_x": null,
            "overflow_y": null,
            "padding": null,
            "right": null,
            "top": null,
            "visibility": null,
            "width": null
          }
        },
        "cb59dadd52e0408b9faf54e10bc62971": {
          "model_module": "@jupyter-widgets/controls",
          "model_name": "DescriptionStyleModel",
          "model_module_version": "1.5.0",
          "state": {
            "_model_module": "@jupyter-widgets/controls",
            "_model_module_version": "1.5.0",
            "_model_name": "DescriptionStyleModel",
            "_view_count": null,
            "_view_module": "@jupyter-widgets/base",
            "_view_module_version": "1.2.0",
            "_view_name": "StyleView",
            "description_width": ""
          }
        },
        "83dee2202fda4bb79801cae6871e60f8": {
          "model_module": "@jupyter-widgets/controls",
          "model_name": "CheckboxModel",
          "model_module_version": "1.5.0",
          "state": {
            "_dom_classes": [],
            "_model_module": "@jupyter-widgets/controls",
            "_model_module_version": "1.5.0",
            "_model_name": "CheckboxModel",
            "_view_count": null,
            "_view_module": "@jupyter-widgets/controls",
            "_view_module_version": "1.5.0",
            "_view_name": "CheckboxView",
            "description": "Shock Other",
            "description_tooltip": null,
            "disabled": false,
            "indent": true,
            "layout": "IPY_MODEL_9ea0f15604844a07ad506e1c0c9da304",
            "style": "IPY_MODEL_55a31ba0bef1409482a2a3316268edc7",
            "value": false
          }
        },
        "9ea0f15604844a07ad506e1c0c9da304": {
          "model_module": "@jupyter-widgets/base",
          "model_name": "LayoutModel",
          "model_module_version": "1.2.0",
          "state": {
            "_model_module": "@jupyter-widgets/base",
            "_model_module_version": "1.2.0",
            "_model_name": "LayoutModel",
            "_view_count": null,
            "_view_module": "@jupyter-widgets/base",
            "_view_module_version": "1.2.0",
            "_view_name": "LayoutView",
            "align_content": null,
            "align_items": null,
            "align_self": null,
            "border": null,
            "bottom": null,
            "display": null,
            "flex": null,
            "flex_flow": null,
            "grid_area": null,
            "grid_auto_columns": null,
            "grid_auto_flow": null,
            "grid_auto_rows": null,
            "grid_column": null,
            "grid_gap": null,
            "grid_row": null,
            "grid_template_areas": null,
            "grid_template_columns": null,
            "grid_template_rows": null,
            "height": null,
            "justify_content": null,
            "justify_items": null,
            "left": null,
            "margin": null,
            "max_height": null,
            "max_width": null,
            "min_height": null,
            "min_width": null,
            "object_fit": null,
            "object_position": null,
            "order": null,
            "overflow": null,
            "overflow_x": null,
            "overflow_y": null,
            "padding": null,
            "right": null,
            "top": null,
            "visibility": null,
            "width": null
          }
        },
        "55a31ba0bef1409482a2a3316268edc7": {
          "model_module": "@jupyter-widgets/controls",
          "model_name": "DescriptionStyleModel",
          "model_module_version": "1.5.0",
          "state": {
            "_model_module": "@jupyter-widgets/controls",
            "_model_module_version": "1.5.0",
            "_model_name": "DescriptionStyleModel",
            "_view_count": null,
            "_view_module": "@jupyter-widgets/base",
            "_view_module_version": "1.2.0",
            "_view_name": "StyleView",
            "description_width": ""
          }
        },
        "d64fe534062d4f7396c17af014959b5e": {
          "model_module": "@jupyter-widgets/controls",
          "model_name": "CheckboxModel",
          "model_module_version": "1.5.0",
          "state": {
            "_dom_classes": [],
            "_model_module": "@jupyter-widgets/controls",
            "_model_module_version": "1.5.0",
            "_model_name": "CheckboxModel",
            "_view_count": null,
            "_view_module": "@jupyter-widgets/controls",
            "_view_module_version": "1.5.0",
            "_view_name": "CheckboxView",
            "description": "Septicemia",
            "description_tooltip": null,
            "disabled": false,
            "indent": true,
            "layout": "IPY_MODEL_312d96a513e74e11a11309fb236879ca",
            "style": "IPY_MODEL_172c94d7c9294363ae0f81313c596fde",
            "value": false
          }
        },
        "312d96a513e74e11a11309fb236879ca": {
          "model_module": "@jupyter-widgets/base",
          "model_name": "LayoutModel",
          "model_module_version": "1.2.0",
          "state": {
            "_model_module": "@jupyter-widgets/base",
            "_model_module_version": "1.2.0",
            "_model_name": "LayoutModel",
            "_view_count": null,
            "_view_module": "@jupyter-widgets/base",
            "_view_module_version": "1.2.0",
            "_view_name": "LayoutView",
            "align_content": null,
            "align_items": null,
            "align_self": null,
            "border": null,
            "bottom": null,
            "display": null,
            "flex": null,
            "flex_flow": null,
            "grid_area": null,
            "grid_auto_columns": null,
            "grid_auto_flow": null,
            "grid_auto_rows": null,
            "grid_column": null,
            "grid_gap": null,
            "grid_row": null,
            "grid_template_areas": null,
            "grid_template_columns": null,
            "grid_template_rows": null,
            "height": null,
            "justify_content": null,
            "justify_items": null,
            "left": null,
            "margin": null,
            "max_height": null,
            "max_width": null,
            "min_height": null,
            "min_width": null,
            "object_fit": null,
            "object_position": null,
            "order": null,
            "overflow": null,
            "overflow_x": null,
            "overflow_y": null,
            "padding": null,
            "right": null,
            "top": null,
            "visibility": null,
            "width": null
          }
        },
        "172c94d7c9294363ae0f81313c596fde": {
          "model_module": "@jupyter-widgets/controls",
          "model_name": "DescriptionStyleModel",
          "model_module_version": "1.5.0",
          "state": {
            "_model_module": "@jupyter-widgets/controls",
            "_model_module_version": "1.5.0",
            "_model_name": "DescriptionStyleModel",
            "_view_count": null,
            "_view_module": "@jupyter-widgets/base",
            "_view_module_version": "1.2.0",
            "_view_name": "StyleView",
            "description_width": ""
          }
        },
        "abc95d3d2bc848b68f112f2bb8052904": {
          "model_module": "@jupyter-widgets/controls",
          "model_name": "CheckboxModel",
          "model_module_version": "1.5.0",
          "state": {
            "_dom_classes": [],
            "_model_module": "@jupyter-widgets/controls",
            "_model_module_version": "1.5.0",
            "_model_name": "CheckboxModel",
            "_view_count": null,
            "_view_module": "@jupyter-widgets/controls",
            "_view_module_version": "1.5.0",
            "_view_name": "CheckboxView",
            "description": "Sepsis",
            "description_tooltip": null,
            "disabled": false,
            "indent": true,
            "layout": "IPY_MODEL_09b3b06c171c4c6ab2f909d611009b43",
            "style": "IPY_MODEL_fe7ad209fdfc4bfc88dc4e9db1725516",
            "value": false
          }
        },
        "09b3b06c171c4c6ab2f909d611009b43": {
          "model_module": "@jupyter-widgets/base",
          "model_name": "LayoutModel",
          "model_module_version": "1.2.0",
          "state": {
            "_model_module": "@jupyter-widgets/base",
            "_model_module_version": "1.2.0",
            "_model_name": "LayoutModel",
            "_view_count": null,
            "_view_module": "@jupyter-widgets/base",
            "_view_module_version": "1.2.0",
            "_view_name": "LayoutView",
            "align_content": null,
            "align_items": null,
            "align_self": null,
            "border": null,
            "bottom": null,
            "display": null,
            "flex": null,
            "flex_flow": null,
            "grid_area": null,
            "grid_auto_columns": null,
            "grid_auto_flow": null,
            "grid_auto_rows": null,
            "grid_column": null,
            "grid_gap": null,
            "grid_row": null,
            "grid_template_areas": null,
            "grid_template_columns": null,
            "grid_template_rows": null,
            "height": null,
            "justify_content": null,
            "justify_items": null,
            "left": null,
            "margin": null,
            "max_height": null,
            "max_width": null,
            "min_height": null,
            "min_width": null,
            "object_fit": null,
            "object_position": null,
            "order": null,
            "overflow": null,
            "overflow_x": null,
            "overflow_y": null,
            "padding": null,
            "right": null,
            "top": null,
            "visibility": null,
            "width": null
          }
        },
        "fe7ad209fdfc4bfc88dc4e9db1725516": {
          "model_module": "@jupyter-widgets/controls",
          "model_name": "DescriptionStyleModel",
          "model_module_version": "1.5.0",
          "state": {
            "_model_module": "@jupyter-widgets/controls",
            "_model_module_version": "1.5.0",
            "_model_name": "DescriptionStyleModel",
            "_view_count": null,
            "_view_module": "@jupyter-widgets/base",
            "_view_module_version": "1.2.0",
            "_view_name": "StyleView",
            "description_width": ""
          }
        },
        "a8ab5879026247b8b1b10965ed15b9f9": {
          "model_module": "@jupyter-widgets/controls",
          "model_name": "CheckboxModel",
          "model_module_version": "1.5.0",
          "state": {
            "_dom_classes": [],
            "_model_module": "@jupyter-widgets/controls",
            "_model_module_version": "1.5.0",
            "_model_name": "CheckboxModel",
            "_view_count": null,
            "_view_module": "@jupyter-widgets/controls",
            "_view_module_version": "1.5.0",
            "_view_name": "CheckboxView",
            "description": "Accidental Laceration",
            "description_tooltip": null,
            "disabled": false,
            "indent": true,
            "layout": "IPY_MODEL_524f70c92bde48e499d7f693856187e8",
            "style": "IPY_MODEL_c7d42b12ee1d4728ba281568d7eab694",
            "value": false
          }
        },
        "524f70c92bde48e499d7f693856187e8": {
          "model_module": "@jupyter-widgets/base",
          "model_name": "LayoutModel",
          "model_module_version": "1.2.0",
          "state": {
            "_model_module": "@jupyter-widgets/base",
            "_model_module_version": "1.2.0",
            "_model_name": "LayoutModel",
            "_view_count": null,
            "_view_module": "@jupyter-widgets/base",
            "_view_module_version": "1.2.0",
            "_view_name": "LayoutView",
            "align_content": null,
            "align_items": null,
            "align_self": null,
            "border": null,
            "bottom": null,
            "display": null,
            "flex": null,
            "flex_flow": null,
            "grid_area": null,
            "grid_auto_columns": null,
            "grid_auto_flow": null,
            "grid_auto_rows": null,
            "grid_column": null,
            "grid_gap": null,
            "grid_row": null,
            "grid_template_areas": null,
            "grid_template_columns": null,
            "grid_template_rows": null,
            "height": null,
            "justify_content": null,
            "justify_items": null,
            "left": null,
            "margin": null,
            "max_height": null,
            "max_width": null,
            "min_height": null,
            "min_width": null,
            "object_fit": null,
            "object_position": null,
            "order": null,
            "overflow": null,
            "overflow_x": null,
            "overflow_y": null,
            "padding": null,
            "right": null,
            "top": null,
            "visibility": null,
            "width": null
          }
        },
        "c7d42b12ee1d4728ba281568d7eab694": {
          "model_module": "@jupyter-widgets/controls",
          "model_name": "DescriptionStyleModel",
          "model_module_version": "1.5.0",
          "state": {
            "_model_module": "@jupyter-widgets/controls",
            "_model_module_version": "1.5.0",
            "_model_name": "DescriptionStyleModel",
            "_view_count": null,
            "_view_module": "@jupyter-widgets/base",
            "_view_module_version": "1.2.0",
            "_view_name": "StyleView",
            "description_width": ""
          }
        },
        "98eb0a0eb5f84ff58ba375a71bff3277": {
          "model_module": "@jupyter-widgets/controls",
          "model_name": "CheckboxModel",
          "model_module_version": "1.5.0",
          "state": {
            "_dom_classes": [],
            "_model_module": "@jupyter-widgets/controls",
            "_model_module_version": "1.5.0",
            "_model_name": "CheckboxModel",
            "_view_count": null,
            "_view_module": "@jupyter-widgets/controls",
            "_view_module_version": "1.5.0",
            "_view_name": "CheckboxView",
            "description": "Digestive Complication",
            "description_tooltip": null,
            "disabled": false,
            "indent": true,
            "layout": "IPY_MODEL_541ead10308a4f399766bb8664321873",
            "style": "IPY_MODEL_d8201d621ac747d5b4203840413ef5ba",
            "value": false
          }
        },
        "541ead10308a4f399766bb8664321873": {
          "model_module": "@jupyter-widgets/base",
          "model_name": "LayoutModel",
          "model_module_version": "1.2.0",
          "state": {
            "_model_module": "@jupyter-widgets/base",
            "_model_module_version": "1.2.0",
            "_model_name": "LayoutModel",
            "_view_count": null,
            "_view_module": "@jupyter-widgets/base",
            "_view_module_version": "1.2.0",
            "_view_name": "LayoutView",
            "align_content": null,
            "align_items": null,
            "align_self": null,
            "border": null,
            "bottom": null,
            "display": null,
            "flex": null,
            "flex_flow": null,
            "grid_area": null,
            "grid_auto_columns": null,
            "grid_auto_flow": null,
            "grid_auto_rows": null,
            "grid_column": null,
            "grid_gap": null,
            "grid_row": null,
            "grid_template_areas": null,
            "grid_template_columns": null,
            "grid_template_rows": null,
            "height": null,
            "justify_content": null,
            "justify_items": null,
            "left": null,
            "margin": null,
            "max_height": null,
            "max_width": null,
            "min_height": null,
            "min_width": null,
            "object_fit": null,
            "object_position": null,
            "order": null,
            "overflow": null,
            "overflow_x": null,
            "overflow_y": null,
            "padding": null,
            "right": null,
            "top": null,
            "visibility": null,
            "width": null
          }
        },
        "d8201d621ac747d5b4203840413ef5ba": {
          "model_module": "@jupyter-widgets/controls",
          "model_name": "DescriptionStyleModel",
          "model_module_version": "1.5.0",
          "state": {
            "_model_module": "@jupyter-widgets/controls",
            "_model_module_version": "1.5.0",
            "_model_name": "DescriptionStyleModel",
            "_view_count": null,
            "_view_module": "@jupyter-widgets/base",
            "_view_module_version": "1.2.0",
            "_view_name": "StyleView",
            "description_width": ""
          }
        },
        "7440fe05fb5b42da9ab9d6969d1a4b4e": {
          "model_module": "@jupyter-widgets/controls",
          "model_name": "CheckboxModel",
          "model_module_version": "1.5.0",
          "state": {
            "_dom_classes": [],
            "_model_module": "@jupyter-widgets/controls",
            "_model_module_version": "1.5.0",
            "_model_name": "CheckboxModel",
            "_view_count": null,
            "_view_module": "@jupyter-widgets/controls",
            "_view_module_version": "1.5.0",
            "_view_name": "CheckboxView",
            "description": "Urinary Complication",
            "description_tooltip": null,
            "disabled": false,
            "indent": true,
            "layout": "IPY_MODEL_a1a7b4a4a37e4e8d8ba8240f86f65d4c",
            "style": "IPY_MODEL_0c6552b38c3f4da7927f7a3cede5e35a",
            "value": false
          }
        },
        "a1a7b4a4a37e4e8d8ba8240f86f65d4c": {
          "model_module": "@jupyter-widgets/base",
          "model_name": "LayoutModel",
          "model_module_version": "1.2.0",
          "state": {
            "_model_module": "@jupyter-widgets/base",
            "_model_module_version": "1.2.0",
            "_model_name": "LayoutModel",
            "_view_count": null,
            "_view_module": "@jupyter-widgets/base",
            "_view_module_version": "1.2.0",
            "_view_name": "LayoutView",
            "align_content": null,
            "align_items": null,
            "align_self": null,
            "border": null,
            "bottom": null,
            "display": null,
            "flex": null,
            "flex_flow": null,
            "grid_area": null,
            "grid_auto_columns": null,
            "grid_auto_flow": null,
            "grid_auto_rows": null,
            "grid_column": null,
            "grid_gap": null,
            "grid_row": null,
            "grid_template_areas": null,
            "grid_template_columns": null,
            "grid_template_rows": null,
            "height": null,
            "justify_content": null,
            "justify_items": null,
            "left": null,
            "margin": null,
            "max_height": null,
            "max_width": null,
            "min_height": null,
            "min_width": null,
            "object_fit": null,
            "object_position": null,
            "order": null,
            "overflow": null,
            "overflow_x": null,
            "overflow_y": null,
            "padding": null,
            "right": null,
            "top": null,
            "visibility": null,
            "width": null
          }
        },
        "0c6552b38c3f4da7927f7a3cede5e35a": {
          "model_module": "@jupyter-widgets/controls",
          "model_name": "DescriptionStyleModel",
          "model_module_version": "1.5.0",
          "state": {
            "_model_module": "@jupyter-widgets/controls",
            "_model_module_version": "1.5.0",
            "_model_name": "DescriptionStyleModel",
            "_view_count": null,
            "_view_module": "@jupyter-widgets/base",
            "_view_module_version": "1.2.0",
            "_view_name": "StyleView",
            "description_width": ""
          }
        },
        "21a269c7322243629c6d04668640dc91": {
          "model_module": "@jupyter-widgets/controls",
          "model_name": "CheckboxModel",
          "model_module_version": "1.5.0",
          "state": {
            "_dom_classes": [],
            "_model_module": "@jupyter-widgets/controls",
            "_model_module_version": "1.5.0",
            "_model_name": "CheckboxModel",
            "_view_count": null,
            "_view_module": "@jupyter-widgets/controls",
            "_view_module_version": "1.5.0",
            "_view_name": "CheckboxView",
            "description": "Pulmonary Insufficiency",
            "description_tooltip": null,
            "disabled": false,
            "indent": true,
            "layout": "IPY_MODEL_492b79aef3b9444e8310811de0d27da0",
            "style": "IPY_MODEL_0b7e1d4ba3ef43e693f17ba0cbb5f9af",
            "value": false
          }
        },
        "492b79aef3b9444e8310811de0d27da0": {
          "model_module": "@jupyter-widgets/base",
          "model_name": "LayoutModel",
          "model_module_version": "1.2.0",
          "state": {
            "_model_module": "@jupyter-widgets/base",
            "_model_module_version": "1.2.0",
            "_model_name": "LayoutModel",
            "_view_count": null,
            "_view_module": "@jupyter-widgets/base",
            "_view_module_version": "1.2.0",
            "_view_name": "LayoutView",
            "align_content": null,
            "align_items": null,
            "align_self": null,
            "border": null,
            "bottom": null,
            "display": null,
            "flex": null,
            "flex_flow": null,
            "grid_area": null,
            "grid_auto_columns": null,
            "grid_auto_flow": null,
            "grid_auto_rows": null,
            "grid_column": null,
            "grid_gap": null,
            "grid_row": null,
            "grid_template_areas": null,
            "grid_template_columns": null,
            "grid_template_rows": null,
            "height": null,
            "justify_content": null,
            "justify_items": null,
            "left": null,
            "margin": null,
            "max_height": null,
            "max_width": null,
            "min_height": null,
            "min_width": null,
            "object_fit": null,
            "object_position": null,
            "order": null,
            "overflow": null,
            "overflow_x": null,
            "overflow_y": null,
            "padding": null,
            "right": null,
            "top": null,
            "visibility": null,
            "width": null
          }
        },
        "0b7e1d4ba3ef43e693f17ba0cbb5f9af": {
          "model_module": "@jupyter-widgets/controls",
          "model_name": "DescriptionStyleModel",
          "model_module_version": "1.5.0",
          "state": {
            "_model_module": "@jupyter-widgets/controls",
            "_model_module_version": "1.5.0",
            "_model_name": "DescriptionStyleModel",
            "_view_count": null,
            "_view_module": "@jupyter-widgets/base",
            "_view_module_version": "1.2.0",
            "_view_name": "StyleView",
            "description_width": ""
          }
        },
        "bff0988ddc2d4655b8eb01c188294523": {
          "model_module": "@jupyter-widgets/controls",
          "model_name": "CheckboxModel",
          "model_module_version": "1.5.0",
          "state": {
            "_dom_classes": [],
            "_model_module": "@jupyter-widgets/controls",
            "_model_module_version": "1.5.0",
            "_model_name": "CheckboxModel",
            "_view_count": null,
            "_view_module": "@jupyter-widgets/controls",
            "_view_module_version": "1.5.0",
            "_view_name": "CheckboxView",
            "description": "Spleen Injury",
            "description_tooltip": null,
            "disabled": false,
            "indent": true,
            "layout": "IPY_MODEL_5e867ff6733a4f6ca808a08d234c7051",
            "style": "IPY_MODEL_5c258474dbc849698ac0f47d1eeb7d75",
            "value": false
          }
        },
        "5e867ff6733a4f6ca808a08d234c7051": {
          "model_module": "@jupyter-widgets/base",
          "model_name": "LayoutModel",
          "model_module_version": "1.2.0",
          "state": {
            "_model_module": "@jupyter-widgets/base",
            "_model_module_version": "1.2.0",
            "_model_name": "LayoutModel",
            "_view_count": null,
            "_view_module": "@jupyter-widgets/base",
            "_view_module_version": "1.2.0",
            "_view_name": "LayoutView",
            "align_content": null,
            "align_items": null,
            "align_self": null,
            "border": null,
            "bottom": null,
            "display": null,
            "flex": null,
            "flex_flow": null,
            "grid_area": null,
            "grid_auto_columns": null,
            "grid_auto_flow": null,
            "grid_auto_rows": null,
            "grid_column": null,
            "grid_gap": null,
            "grid_row": null,
            "grid_template_areas": null,
            "grid_template_columns": null,
            "grid_template_rows": null,
            "height": null,
            "justify_content": null,
            "justify_items": null,
            "left": null,
            "margin": null,
            "max_height": null,
            "max_width": null,
            "min_height": null,
            "min_width": null,
            "object_fit": null,
            "object_position": null,
            "order": null,
            "overflow": null,
            "overflow_x": null,
            "overflow_y": null,
            "padding": null,
            "right": null,
            "top": null,
            "visibility": null,
            "width": null
          }
        },
        "5c258474dbc849698ac0f47d1eeb7d75": {
          "model_module": "@jupyter-widgets/controls",
          "model_name": "DescriptionStyleModel",
          "model_module_version": "1.5.0",
          "state": {
            "_model_module": "@jupyter-widgets/controls",
            "_model_module_version": "1.5.0",
            "_model_name": "DescriptionStyleModel",
            "_view_count": null,
            "_view_module": "@jupyter-widgets/base",
            "_view_module_version": "1.2.0",
            "_view_name": "StyleView",
            "description_width": ""
          }
        },
        "722de51029a04cd0b3b395835c7e7fbd": {
          "model_module": "@jupyter-widgets/controls",
          "model_name": "CheckboxModel",
          "model_module_version": "1.5.0",
          "state": {
            "_dom_classes": [],
            "_model_module": "@jupyter-widgets/controls",
            "_model_module_version": "1.5.0",
            "_model_name": "CheckboxModel",
            "_view_count": null,
            "_view_module": "@jupyter-widgets/controls",
            "_view_module_version": "1.5.0",
            "_view_name": "CheckboxView",
            "description": "Bladder Injury",
            "description_tooltip": null,
            "disabled": false,
            "indent": true,
            "layout": "IPY_MODEL_2177fe9102df4b39a93438c232db6450",
            "style": "IPY_MODEL_ad6595380a98416c91ec02c7ed64f681",
            "value": true
          }
        },
        "2177fe9102df4b39a93438c232db6450": {
          "model_module": "@jupyter-widgets/base",
          "model_name": "LayoutModel",
          "model_module_version": "1.2.0",
          "state": {
            "_model_module": "@jupyter-widgets/base",
            "_model_module_version": "1.2.0",
            "_model_name": "LayoutModel",
            "_view_count": null,
            "_view_module": "@jupyter-widgets/base",
            "_view_module_version": "1.2.0",
            "_view_name": "LayoutView",
            "align_content": null,
            "align_items": null,
            "align_self": null,
            "border": null,
            "bottom": null,
            "display": null,
            "flex": null,
            "flex_flow": null,
            "grid_area": null,
            "grid_auto_columns": null,
            "grid_auto_flow": null,
            "grid_auto_rows": null,
            "grid_column": null,
            "grid_gap": null,
            "grid_row": null,
            "grid_template_areas": null,
            "grid_template_columns": null,
            "grid_template_rows": null,
            "height": null,
            "justify_content": null,
            "justify_items": null,
            "left": null,
            "margin": null,
            "max_height": null,
            "max_width": null,
            "min_height": null,
            "min_width": null,
            "object_fit": null,
            "object_position": null,
            "order": null,
            "overflow": null,
            "overflow_x": null,
            "overflow_y": null,
            "padding": null,
            "right": null,
            "top": null,
            "visibility": null,
            "width": null
          }
        },
        "ad6595380a98416c91ec02c7ed64f681": {
          "model_module": "@jupyter-widgets/controls",
          "model_name": "DescriptionStyleModel",
          "model_module_version": "1.5.0",
          "state": {
            "_model_module": "@jupyter-widgets/controls",
            "_model_module_version": "1.5.0",
            "_model_name": "DescriptionStyleModel",
            "_view_count": null,
            "_view_module": "@jupyter-widgets/base",
            "_view_module_version": "1.2.0",
            "_view_name": "StyleView",
            "description_width": ""
          }
        },
        "65a3225685c9424b81d48a74bf35b01a": {
          "model_module": "@jupyter-widgets/controls",
          "model_name": "CheckboxModel",
          "model_module_version": "1.5.0",
          "state": {
            "_dom_classes": [],
            "_model_module": "@jupyter-widgets/controls",
            "_model_module_version": "1.5.0",
            "_model_name": "CheckboxModel",
            "_view_count": null,
            "_view_module": "@jupyter-widgets/controls",
            "_view_module_version": "1.5.0",
            "_view_name": "CheckboxView",
            "description": "Bowel Injury",
            "description_tooltip": null,
            "disabled": false,
            "indent": true,
            "layout": "IPY_MODEL_09b12006a84c4e65baa772a60d6a5156",
            "style": "IPY_MODEL_3e7b4d2f8f26443d8c9b52f799857c3d",
            "value": false
          }
        },
        "09b12006a84c4e65baa772a60d6a5156": {
          "model_module": "@jupyter-widgets/base",
          "model_name": "LayoutModel",
          "model_module_version": "1.2.0",
          "state": {
            "_model_module": "@jupyter-widgets/base",
            "_model_module_version": "1.2.0",
            "_model_name": "LayoutModel",
            "_view_count": null,
            "_view_module": "@jupyter-widgets/base",
            "_view_module_version": "1.2.0",
            "_view_name": "LayoutView",
            "align_content": null,
            "align_items": null,
            "align_self": null,
            "border": null,
            "bottom": null,
            "display": null,
            "flex": null,
            "flex_flow": null,
            "grid_area": null,
            "grid_auto_columns": null,
            "grid_auto_flow": null,
            "grid_auto_rows": null,
            "grid_column": null,
            "grid_gap": null,
            "grid_row": null,
            "grid_template_areas": null,
            "grid_template_columns": null,
            "grid_template_rows": null,
            "height": null,
            "justify_content": null,
            "justify_items": null,
            "left": null,
            "margin": null,
            "max_height": null,
            "max_width": null,
            "min_height": null,
            "min_width": null,
            "object_fit": null,
            "object_position": null,
            "order": null,
            "overflow": null,
            "overflow_x": null,
            "overflow_y": null,
            "padding": null,
            "right": null,
            "top": null,
            "visibility": null,
            "width": null
          }
        },
        "3e7b4d2f8f26443d8c9b52f799857c3d": {
          "model_module": "@jupyter-widgets/controls",
          "model_name": "DescriptionStyleModel",
          "model_module_version": "1.5.0",
          "state": {
            "_model_module": "@jupyter-widgets/controls",
            "_model_module_version": "1.5.0",
            "_model_name": "DescriptionStyleModel",
            "_view_count": null,
            "_view_module": "@jupyter-widgets/base",
            "_view_module_version": "1.2.0",
            "_view_name": "StyleView",
            "description_width": ""
          }
        },
        "f0ea10d80e754a29be5ef3db6bd22fb7": {
          "model_module": "@jupyter-widgets/controls",
          "model_name": "CheckboxModel",
          "model_module_version": "1.5.0",
          "state": {
            "_dom_classes": [],
            "_model_module": "@jupyter-widgets/controls",
            "_model_module_version": "1.5.0",
            "_model_name": "CheckboxModel",
            "_view_count": null,
            "_view_module": "@jupyter-widgets/controls",
            "_view_module_version": "1.5.0",
            "_view_name": "CheckboxView",
            "description": "Liver Injury",
            "description_tooltip": null,
            "disabled": false,
            "indent": true,
            "layout": "IPY_MODEL_7560f838b04b44e8bdf72bdd51f941ce",
            "style": "IPY_MODEL_0426bc0827d241d897662f052f0b0860",
            "value": false
          }
        },
        "7560f838b04b44e8bdf72bdd51f941ce": {
          "model_module": "@jupyter-widgets/base",
          "model_name": "LayoutModel",
          "model_module_version": "1.2.0",
          "state": {
            "_model_module": "@jupyter-widgets/base",
            "_model_module_version": "1.2.0",
            "_model_name": "LayoutModel",
            "_view_count": null,
            "_view_module": "@jupyter-widgets/base",
            "_view_module_version": "1.2.0",
            "_view_name": "LayoutView",
            "align_content": null,
            "align_items": null,
            "align_self": null,
            "border": null,
            "bottom": null,
            "display": null,
            "flex": null,
            "flex_flow": null,
            "grid_area": null,
            "grid_auto_columns": null,
            "grid_auto_flow": null,
            "grid_auto_rows": null,
            "grid_column": null,
            "grid_gap": null,
            "grid_row": null,
            "grid_template_areas": null,
            "grid_template_columns": null,
            "grid_template_rows": null,
            "height": null,
            "justify_content": null,
            "justify_items": null,
            "left": null,
            "margin": null,
            "max_height": null,
            "max_width": null,
            "min_height": null,
            "min_width": null,
            "object_fit": null,
            "object_position": null,
            "order": null,
            "overflow": null,
            "overflow_x": null,
            "overflow_y": null,
            "padding": null,
            "right": null,
            "top": null,
            "visibility": null,
            "width": null
          }
        },
        "0426bc0827d241d897662f052f0b0860": {
          "model_module": "@jupyter-widgets/controls",
          "model_name": "DescriptionStyleModel",
          "model_module_version": "1.5.0",
          "state": {
            "_model_module": "@jupyter-widgets/controls",
            "_model_module_version": "1.5.0",
            "_model_name": "DescriptionStyleModel",
            "_view_count": null,
            "_view_module": "@jupyter-widgets/base",
            "_view_module_version": "1.2.0",
            "_view_name": "StyleView",
            "description_width": ""
          }
        },
        "ea62b1eedbaa4bc883fba89b7646ba7b": {
          "model_module": "@jupyter-widgets/controls",
          "model_name": "CheckboxModel",
          "model_module_version": "1.5.0",
          "state": {
            "_dom_classes": [],
            "_model_module": "@jupyter-widgets/controls",
            "_model_module_version": "1.5.0",
            "_model_name": "CheckboxModel",
            "_view_count": null,
            "_view_module": "@jupyter-widgets/controls",
            "_view_module_version": "1.5.0",
            "_view_name": "CheckboxView",
            "description": "Rib Fracture",
            "description_tooltip": null,
            "disabled": false,
            "indent": true,
            "layout": "IPY_MODEL_c374a1cafebd44798f35e8c46224608f",
            "style": "IPY_MODEL_e5b5bae515e54bed88e3980cebc768e7",
            "value": false
          }
        },
        "c374a1cafebd44798f35e8c46224608f": {
          "model_module": "@jupyter-widgets/base",
          "model_name": "LayoutModel",
          "model_module_version": "1.2.0",
          "state": {
            "_model_module": "@jupyter-widgets/base",
            "_model_module_version": "1.2.0",
            "_model_name": "LayoutModel",
            "_view_count": null,
            "_view_module": "@jupyter-widgets/base",
            "_view_module_version": "1.2.0",
            "_view_name": "LayoutView",
            "align_content": null,
            "align_items": null,
            "align_self": null,
            "border": null,
            "bottom": null,
            "display": null,
            "flex": null,
            "flex_flow": null,
            "grid_area": null,
            "grid_auto_columns": null,
            "grid_auto_flow": null,
            "grid_auto_rows": null,
            "grid_column": null,
            "grid_gap": null,
            "grid_row": null,
            "grid_template_areas": null,
            "grid_template_columns": null,
            "grid_template_rows": null,
            "height": null,
            "justify_content": null,
            "justify_items": null,
            "left": null,
            "margin": null,
            "max_height": null,
            "max_width": null,
            "min_height": null,
            "min_width": null,
            "object_fit": null,
            "object_position": null,
            "order": null,
            "overflow": null,
            "overflow_x": null,
            "overflow_y": null,
            "padding": null,
            "right": null,
            "top": null,
            "visibility": null,
            "width": null
          }
        },
        "e5b5bae515e54bed88e3980cebc768e7": {
          "model_module": "@jupyter-widgets/controls",
          "model_name": "DescriptionStyleModel",
          "model_module_version": "1.5.0",
          "state": {
            "_model_module": "@jupyter-widgets/controls",
            "_model_module_version": "1.5.0",
            "_model_name": "DescriptionStyleModel",
            "_view_count": null,
            "_view_module": "@jupyter-widgets/base",
            "_view_module_version": "1.2.0",
            "_view_name": "StyleView",
            "description_width": ""
          }
        },
        "7d60fa2fb3514d1c923e029adbb42d2d": {
          "model_module": "@jupyter-widgets/controls",
          "model_name": "CheckboxModel",
          "model_module_version": "1.5.0",
          "state": {
            "_dom_classes": [],
            "_model_module": "@jupyter-widgets/controls",
            "_model_module_version": "1.5.0",
            "_model_name": "CheckboxModel",
            "_view_count": null,
            "_view_module": "@jupyter-widgets/controls",
            "_view_module_version": "1.5.0",
            "_view_name": "CheckboxView",
            "description": "Thoracic Aorta Injury",
            "description_tooltip": null,
            "disabled": false,
            "indent": true,
            "layout": "IPY_MODEL_fc146d88a3a9463386e16f107388b7b0",
            "style": "IPY_MODEL_f462620ae5e14b018fc64dfd5b40b93f",
            "value": false
          }
        },
        "fc146d88a3a9463386e16f107388b7b0": {
          "model_module": "@jupyter-widgets/base",
          "model_name": "LayoutModel",
          "model_module_version": "1.2.0",
          "state": {
            "_model_module": "@jupyter-widgets/base",
            "_model_module_version": "1.2.0",
            "_model_name": "LayoutModel",
            "_view_count": null,
            "_view_module": "@jupyter-widgets/base",
            "_view_module_version": "1.2.0",
            "_view_name": "LayoutView",
            "align_content": null,
            "align_items": null,
            "align_self": null,
            "border": null,
            "bottom": null,
            "display": null,
            "flex": null,
            "flex_flow": null,
            "grid_area": null,
            "grid_auto_columns": null,
            "grid_auto_flow": null,
            "grid_auto_rows": null,
            "grid_column": null,
            "grid_gap": null,
            "grid_row": null,
            "grid_template_areas": null,
            "grid_template_columns": null,
            "grid_template_rows": null,
            "height": null,
            "justify_content": null,
            "justify_items": null,
            "left": null,
            "margin": null,
            "max_height": null,
            "max_width": null,
            "min_height": null,
            "min_width": null,
            "object_fit": null,
            "object_position": null,
            "order": null,
            "overflow": null,
            "overflow_x": null,
            "overflow_y": null,
            "padding": null,
            "right": null,
            "top": null,
            "visibility": null,
            "width": null
          }
        },
        "f462620ae5e14b018fc64dfd5b40b93f": {
          "model_module": "@jupyter-widgets/controls",
          "model_name": "DescriptionStyleModel",
          "model_module_version": "1.5.0",
          "state": {
            "_model_module": "@jupyter-widgets/controls",
            "_model_module_version": "1.5.0",
            "_model_name": "DescriptionStyleModel",
            "_view_count": null,
            "_view_module": "@jupyter-widgets/base",
            "_view_module_version": "1.2.0",
            "_view_name": "StyleView",
            "description_width": ""
          }
        },
        "f2d7b286fdde4d69838955f50c47d8ed": {
          "model_module": "@jupyter-widgets/controls",
          "model_name": "CheckboxModel",
          "model_module_version": "1.5.0",
          "state": {
            "_dom_classes": [],
            "_model_module": "@jupyter-widgets/controls",
            "_model_module_version": "1.5.0",
            "_model_name": "CheckboxModel",
            "_view_count": null,
            "_view_module": "@jupyter-widgets/controls",
            "_view_module_version": "1.5.0",
            "_view_name": "CheckboxView",
            "description": "Abdominal Aorta Injury",
            "description_tooltip": null,
            "disabled": false,
            "indent": true,
            "layout": "IPY_MODEL_af9621b4dd9a47ceb17dc82b58fcb2fb",
            "style": "IPY_MODEL_f670f1717d5d41c298c0309fc38abcde",
            "value": true
          }
        },
        "af9621b4dd9a47ceb17dc82b58fcb2fb": {
          "model_module": "@jupyter-widgets/base",
          "model_name": "LayoutModel",
          "model_module_version": "1.2.0",
          "state": {
            "_model_module": "@jupyter-widgets/base",
            "_model_module_version": "1.2.0",
            "_model_name": "LayoutModel",
            "_view_count": null,
            "_view_module": "@jupyter-widgets/base",
            "_view_module_version": "1.2.0",
            "_view_name": "LayoutView",
            "align_content": null,
            "align_items": null,
            "align_self": null,
            "border": null,
            "bottom": null,
            "display": null,
            "flex": null,
            "flex_flow": null,
            "grid_area": null,
            "grid_auto_columns": null,
            "grid_auto_flow": null,
            "grid_auto_rows": null,
            "grid_column": null,
            "grid_gap": null,
            "grid_row": null,
            "grid_template_areas": null,
            "grid_template_columns": null,
            "grid_template_rows": null,
            "height": null,
            "justify_content": null,
            "justify_items": null,
            "left": null,
            "margin": null,
            "max_height": null,
            "max_width": null,
            "min_height": null,
            "min_width": null,
            "object_fit": null,
            "object_position": null,
            "order": null,
            "overflow": null,
            "overflow_x": null,
            "overflow_y": null,
            "padding": null,
            "right": null,
            "top": null,
            "visibility": null,
            "width": null
          }
        },
        "f670f1717d5d41c298c0309fc38abcde": {
          "model_module": "@jupyter-widgets/controls",
          "model_name": "DescriptionStyleModel",
          "model_module_version": "1.5.0",
          "state": {
            "_model_module": "@jupyter-widgets/controls",
            "_model_module_version": "1.5.0",
            "_model_name": "DescriptionStyleModel",
            "_view_count": null,
            "_view_module": "@jupyter-widgets/base",
            "_view_module_version": "1.2.0",
            "_view_name": "StyleView",
            "description_width": ""
          }
        },
        "6bc0a86b26634ba89a5914b2ab02734f": {
          "model_module": "@jupyter-widgets/controls",
          "model_name": "ButtonModel",
          "model_module_version": "1.5.0",
          "state": {
            "_dom_classes": [],
            "_model_module": "@jupyter-widgets/controls",
            "_model_module_version": "1.5.0",
            "_model_name": "ButtonModel",
            "_view_count": null,
            "_view_module": "@jupyter-widgets/controls",
            "_view_module_version": "1.5.0",
            "_view_name": "ButtonView",
            "button_style": "",
            "description": "Calculate Risk",
            "disabled": false,
            "icon": "",
            "layout": "IPY_MODEL_d2b88cc738c643f48eddab05f9c37c7f",
            "style": "IPY_MODEL_cda8430b38d24731900e1184b007bb91",
            "tooltip": ""
          }
        },
        "d2b88cc738c643f48eddab05f9c37c7f": {
          "model_module": "@jupyter-widgets/base",
          "model_name": "LayoutModel",
          "model_module_version": "1.2.0",
          "state": {
            "_model_module": "@jupyter-widgets/base",
            "_model_module_version": "1.2.0",
            "_model_name": "LayoutModel",
            "_view_count": null,
            "_view_module": "@jupyter-widgets/base",
            "_view_module_version": "1.2.0",
            "_view_name": "LayoutView",
            "align_content": null,
            "align_items": null,
            "align_self": null,
            "border": null,
            "bottom": null,
            "display": null,
            "flex": null,
            "flex_flow": null,
            "grid_area": null,
            "grid_auto_columns": null,
            "grid_auto_flow": null,
            "grid_auto_rows": null,
            "grid_column": null,
            "grid_gap": null,
            "grid_row": null,
            "grid_template_areas": null,
            "grid_template_columns": null,
            "grid_template_rows": null,
            "height": null,
            "justify_content": null,
            "justify_items": null,
            "left": null,
            "margin": null,
            "max_height": null,
            "max_width": null,
            "min_height": null,
            "min_width": null,
            "object_fit": null,
            "object_position": null,
            "order": null,
            "overflow": null,
            "overflow_x": null,
            "overflow_y": null,
            "padding": null,
            "right": null,
            "top": null,
            "visibility": null,
            "width": null
          }
        },
        "cda8430b38d24731900e1184b007bb91": {
          "model_module": "@jupyter-widgets/controls",
          "model_name": "ButtonStyleModel",
          "model_module_version": "1.5.0",
          "state": {
            "_model_module": "@jupyter-widgets/controls",
            "_model_module_version": "1.5.0",
            "_model_name": "ButtonStyleModel",
            "_view_count": null,
            "_view_module": "@jupyter-widgets/base",
            "_view_module_version": "1.2.0",
            "_view_name": "StyleView",
            "button_color": null,
            "font_weight": ""
          }
        }
      }
    }
  },
  "nbformat": 4,
  "nbformat_minor": 0
}